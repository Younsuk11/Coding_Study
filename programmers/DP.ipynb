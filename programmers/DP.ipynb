{
 "cells": [
  {
   "cell_type": "markdown",
   "metadata": {},
   "source": [
    "# 동적 계획법 (Dynamic Programming)\n",
    "\n",
    "## 기억하며 풀기, 기억하기 알고리즘"
   ]
  },
  {
   "cell_type": "markdown",
   "metadata": {},
   "source": [
    "목적\n",
    "* 완전 탐색, BFS, DFS처럼 모든 경우 탐색하는 속도 한계를 해결하고자 등장\n",
    "\n",
    "특징\n",
    "* 한번 계산한 것은 다시 계산하지 않는다.\n",
    "* 큰 문제를 작은 문제로 나눌 수 있다.\n",
    "* 작은 문제에서 구한 정답은 그것을 포함하는 큰 문제에서도 동일하다.\n",
    "\n",
    "* 메모리를 사용해서 중복연산을 줄이고,\n",
    "* 중복연산을 줄여서, 수행속도를 줄인다.\n",
    "\n",
    "\n",
    "### 알아보고 구분하는 법\n",
    "1. DFS/BFS로 풀 수 있지만, 경우의 수가 너무 많은 문제\n",
    "2. 경우의 수들에, 중복적인 연산이 많은 경우.\n",
    "\n",
    "\n",
    "\n",
    "대표적인 예시\n",
    "* 피보나치 수열\n",
    "\n",
    "\n",
    "* 너무 느린 완전 탐색의 속도를 향상시키고자 등장함.\n",
    "* 항상 최적의 해를 보장하기 위해, 모든 경우의 수를 고려해야함. -> 느림."
   ]
  },
  {
   "cell_type": "markdown",
   "metadata": {},
   "source": [
    "### 메모리를 만들자. -> 중복연산을 줄이자 = 한번 연산한 \"결과\"를 저장하자\n"
   ]
  },
  {
   "cell_type": "markdown",
   "metadata": {},
   "source": [
    "### 피보나치 수열"
   ]
  },
  {
   "cell_type": "code",
   "execution_count": 2,
   "metadata": {},
   "outputs": [
    {
     "name": "stdout",
     "output_type": "stream",
     "text": [
      "5\n",
      "0.0\n"
     ]
    }
   ],
   "source": [
    "import time\n",
    "\n",
    "def fibo(x):     #  recursively\n",
    "    if x == 1 or x == 2: \n",
    "        return 1\n",
    "    else: return fibo(x-2) + fibo(x-1)\n",
    "\n",
    "start = time.time()\n",
    "print(fibo(5))\n",
    "end = time.time()\n",
    "print(round(end - start, 2))\n"
   ]
  },
  {
   "cell_type": "markdown",
   "metadata": {},
   "source": [
    "* 했던 연산을 재귀적으로 다시하게 되므로, 시간 복잡도가 늘어난다.\n",
    "* 재귀 함수를 쓰면 시간 복잡도가 기하 급수적으로 늘어나는 것을 다이나밍 프로그래밍으로 구현이 가능하다.\n",
    "    * 했던 연산은 저장해놓고 사용하는 것."
   ]
  },
  {
   "cell_type": "code",
   "execution_count": 5,
   "metadata": {},
   "outputs": [
    {
     "name": "stdout",
     "output_type": "stream",
     "text": [
      "5\n"
     ]
    }
   ],
   "source": [
    "d= [0] * 50\n",
    "\n",
    "def fibo(x):\n",
    "    if x ==1 or x== 2:\n",
    "        return 1\n",
    "    if d[x] != 0:\n",
    "        return d[x] # 이미 값이 저장되어 있다면 그것을 반환.\n",
    "    \n",
    "    d[x] = fibo(x-1) + fibo(x-2)\n",
    "    return d[x]\n",
    "\n",
    "\n",
    "\n",
    "# for문으로도 구현이 가능한데, 이것 역시 다이나믹 프로그래밍이다.\n",
    "\n",
    "d= [0] * 100\n",
    "d[1], d[2] = 1,1\n",
    "\n",
    "N = 99\n",
    "for i in range(3, N+1):\n",
    "    d[i] = d[i-2] + d[i-1]\n",
    "\n",
    "print(d[5])"
   ]
  },
  {
   "cell_type": "markdown",
   "metadata": {},
   "source": [
    "### 정수 삼각형 level 3\n",
    "\n",
    "\n",
    "* 삼각형의 꼭대기에서 바닥까지 이어지는 경로 중, 거쳐간 숫자의 합이 가장 큰 경우를 찾아보려고 합니다. 아래 칸으로 이동할 때는 대각선 방향으로 한 칸 오른쪽 또는 왼쪽으로만 이동 가능합니다"
   ]
  },
  {
   "cell_type": "markdown",
   "metadata": {},
   "source": [
    "다이나믹 프로그래밍이 아니라면,,,\n",
    "* 모든 경우의 수, (DFS 사용 등)을 계산하여, max 값을 계속해서 갱신하는 방향일듯.\n",
    "* 경우의 수가 너무 많고, 중복적인 연산이 많다면 상당히 비효율적임... 이럴때 사용.\n",
    "\n",
    "다이나믹 프로그래밍이라면...\n",
    "* 중복된 연산은 줄인다!는 것이 핵심임.\n",
    "* 이미 계산한 부분부분에서 최댓값을 추적하는 것.  ~ = 모든 경우의 수를 다 계산하고 비교하는 것이 아니라, 중간중간 **\"동적으로 비교\"**\n",
    "\n"
   ]
  },
  {
   "cell_type": "code",
   "execution_count": 8,
   "metadata": {},
   "outputs": [
    {
     "data": {
      "text/plain": [
       "30"
      ]
     },
     "execution_count": 8,
     "metadata": {},
     "output_type": "execute_result"
    }
   ],
   "source": [
    "def solution(triangle):\n",
    "\n",
    "\n",
    "    #저장 메모리\n",
    "    array = [[0]* len(a) for a in triangle]\n",
    "    array[0][0] = triangle[0][0] # initial\n",
    "    #each layer\n",
    "    #원래 저장된 값과 계산된 값과의 비교를 통해  max 만 저장\n",
    "    for l in range(1, len(triangle)):\n",
    "        \n",
    "        for i in range(len(array[l])):\n",
    "            if i == 0:\n",
    "                array[l][i] = max(array[l][i] , array[l-1][i] + triangle[l][i] ) # only from left\n",
    "            \n",
    "            elif i == len(array[l]) - 1:\n",
    "                array[l][i] = max(array[l][i] , array[l-1][i-1] + triangle[l][i] ) # only from right\n",
    "            else:\n",
    "\n",
    "                array[l][i] = max(array[l][i], array[l-1][i] + triangle[l][i] ,array[l-1][i-1] + triangle[l][i]  ) #from right and left\n",
    "        \n",
    "\n",
    "\n",
    "    return max(array[-1]) \n",
    "\n",
    "\n",
    "triangle = [[7], [3, 8], [8, 1, 0], [2, 7, 4, 4], [4, 5, 2, 6, 5]]\t\n",
    "result = 30\n",
    "solution(triangle)"
   ]
  },
  {
   "cell_type": "markdown",
   "metadata": {},
   "source": [
    "### N으로 표현"
   ]
  }
 ],
 "metadata": {
  "kernelspec": {
   "display_name": "Python 3",
   "language": "python",
   "name": "python3"
  },
  "language_info": {
   "codemirror_mode": {
    "name": "ipython",
    "version": 3
   },
   "file_extension": ".py",
   "mimetype": "text/x-python",
   "name": "python",
   "nbconvert_exporter": "python",
   "pygments_lexer": "ipython3",
   "version": "3.9.6"
  }
 },
 "nbformat": 4,
 "nbformat_minor": 2
}
