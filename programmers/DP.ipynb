{
 "cells": [
  {
   "cell_type": "markdown",
   "metadata": {},
   "source": [
    "# 동적 계획법 (Dynamic Programming)\n",
    "\n",
    "## 기억하며 풀기, 기억하기 알고리즘"
   ]
  },
  {
   "cell_type": "markdown",
   "metadata": {},
   "source": [
    "목적\n",
    "* 완전 탐색, BFS, DFS처럼 모든 경우 탐색하는 속도 한계를 해결하고자 등장\n",
    "\n",
    "특징\n",
    "* 한번 계산한 것은 다시 계산하지 않는다.\n",
    "* 큰 문제를 작은 문제로 나눌 수 있다.\n",
    "* 작은 문제에서 구한 정답은 그것을 포함하는 큰 문제에서도 동일하다.\n",
    "\n",
    "* 메모리를 사용해서 중복연산을 줄이고,\n",
    "* 중복연산을 줄여서, 수행속도를 줄인다.\n",
    "\n",
    "\n",
    "### 알아보고 구분하는 법\n",
    "1. DFS/BFS로 풀 수 있지만, 경우의 수가 너무 많은 문제\n",
    "2. 경우의 수들에, 중복적인 연산이 많은 경우.\n",
    "\n",
    "\n",
    "\n",
    "대표적인 예시\n",
    "* 피보나치 수열\n",
    "\n",
    "\n",
    "* 너무 느린 완전 탐색의 속도를 향상시키고자 등장함.\n",
    "* 항상 최적의 해를 보장하기 위해, 모든 경우의 수를 고려해야함. -> 느림."
   ]
  },
  {
   "cell_type": "markdown",
   "metadata": {},
   "source": [
    "### 메모리를 만들자. -> 중복연산을 줄이자 = 한번 연산한 \"결과\"를 저장하자\n"
   ]
  },
  {
   "cell_type": "markdown",
   "metadata": {},
   "source": [
    "### 피보나치 수열"
   ]
  },
  {
   "cell_type": "code",
   "execution_count": 2,
   "metadata": {},
   "outputs": [
    {
     "name": "stdout",
     "output_type": "stream",
     "text": [
      "5\n",
      "0.0\n"
     ]
    }
   ],
   "source": [
    "import time\n",
    "\n",
    "def fibo(x):     #  recursively\n",
    "    if x == 1 or x == 2: \n",
    "        return 1\n",
    "    else: return fibo(x-2) + fibo(x-1)\n",
    "\n",
    "start = time.time()\n",
    "print(fibo(5))\n",
    "end = time.time()\n",
    "print(round(end - start, 2))\n"
   ]
  },
  {
   "cell_type": "markdown",
   "metadata": {},
   "source": [
    "* 했던 연산을 재귀적으로 다시하게 되므로, 시간 복잡도가 늘어난다.\n",
    "* 재귀 함수를 쓰면 시간 복잡도가 기하 급수적으로 늘어나는 것을 다이나밍 프로그래밍으로 구현이 가능하다.\n",
    "    * 했던 연산은 저장해놓고 사용하는 것."
   ]
  },
  {
   "cell_type": "code",
   "execution_count": 5,
   "metadata": {},
   "outputs": [
    {
     "name": "stdout",
     "output_type": "stream",
     "text": [
      "5\n"
     ]
    }
   ],
   "source": [
    "d= [0] * 50\n",
    "\n",
    "def fibo(x):\n",
    "    if x ==1 or x== 2:\n",
    "        return 1\n",
    "    if d[x] != 0:\n",
    "        return d[x] # 이미 값이 저장되어 있다면 그것을 반환.\n",
    "    \n",
    "    d[x] = fibo(x-1) + fibo(x-2)\n",
    "    return d[x]\n",
    "\n",
    "\n",
    "\n",
    "# for문으로도 구현이 가능한데, 이것 역시 다이나믹 프로그래밍이다.\n",
    "\n",
    "d= [0] * 100\n",
    "d[1], d[2] = 1,1\n",
    "\n",
    "N = 99\n",
    "for i in range(3, N+1):\n",
    "    d[i] = d[i-2] + d[i-1]\n",
    "\n",
    "print(d[5])"
   ]
  },
  {
   "cell_type": "markdown",
   "metadata": {},
   "source": [
    "### 정수 삼각형 level 3\n",
    "\n",
    "\n",
    "* 삼각형의 꼭대기에서 바닥까지 이어지는 경로 중, 거쳐간 숫자의 합이 가장 큰 경우를 찾아보려고 합니다. 아래 칸으로 이동할 때는 대각선 방향으로 한 칸 오른쪽 또는 왼쪽으로만 이동 가능합니다"
   ]
  },
  {
   "cell_type": "markdown",
   "metadata": {},
   "source": [
    "다이나믹 프로그래밍이 아니라면,,,\n",
    "* 모든 경우의 수, (DFS 사용 등)을 계산하여, max 값을 계속해서 갱신하는 방향일듯.\n",
    "* 경우의 수가 너무 많고, 중복적인 연산이 많다면 상당히 비효율적임... 이럴때 사용.\n",
    "\n",
    "다이나믹 프로그래밍이라면...\n",
    "* 중복된 연산은 줄인다!는 것이 핵심임.\n",
    "* 이미 계산한 부분부분에서 최댓값을 추적하는 것.  ~ = 모든 경우의 수를 다 계산하고 비교하는 것이 아니라, 중간중간 **\"동적으로 비교\"**\n",
    "\n"
   ]
  },
  {
   "cell_type": "code",
   "execution_count": 8,
   "metadata": {},
   "outputs": [
    {
     "data": {
      "text/plain": [
       "30"
      ]
     },
     "execution_count": 8,
     "metadata": {},
     "output_type": "execute_result"
    }
   ],
   "source": [
    "def solution(triangle):\n",
    "\n",
    "\n",
    "    #저장 메모리\n",
    "    array = [[0]* len(a) for a in triangle]\n",
    "    array[0][0] = triangle[0][0] # initial\n",
    "    #each layer\n",
    "    #원래 저장된 값과 계산된 값과의 비교를 통해  max 만 저장\n",
    "    for l in range(1, len(triangle)):\n",
    "        \n",
    "        for i in range(len(array[l])):\n",
    "            if i == 0:\n",
    "                array[l][i] = max(array[l][i] , array[l-1][i] + triangle[l][i] ) # only from left\n",
    "            \n",
    "            elif i == len(array[l]) - 1:\n",
    "                array[l][i] = max(array[l][i] , array[l-1][i-1] + triangle[l][i] ) # only from right\n",
    "            else:\n",
    "\n",
    "                array[l][i] = max(array[l][i], array[l-1][i] + triangle[l][i] ,array[l-1][i-1] + triangle[l][i]  ) #from right and left\n",
    "        \n",
    "\n",
    "\n",
    "    return max(array[-1]) \n",
    "\n",
    "\n",
    "triangle = [[7], [3, 8], [8, 1, 0], [2, 7, 4, 4], [4, 5, 2, 6, 5]]\t\n",
    "result = 30\n",
    "solution(triangle)"
   ]
  },
  {
   "cell_type": "markdown",
   "metadata": {},
   "source": [
    "### N으로 표현 level 3"
   ]
  },
  {
   "cell_type": "code",
   "execution_count": null,
   "metadata": {},
   "outputs": [],
   "source": []
  },
  {
   "cell_type": "markdown",
   "metadata": {},
   "source": [
    "### 등교길 level 3 (못푼 문제)\n",
    "* 최단 겨리의 경우의 수\n",
    "\n",
    "####  특정 셀의 경우의 수 = 특정 셀에 올 수 있는 경우의 수 = 특정 셀에 오기 전 셀들의 경우의 수의 합\n",
    "#### puddle이라면 그대로 0\n",
    "#### 점화식 표현이 가능한 문제이므로 DP로 푸는게 맞음. \n",
    "##### 점화식 : 특정 셀의 올수 있는 경우의 수 = 왼쪽에서 오는 경우의 수 + 위쪽에서 오는 경우의 수"
   ]
  },
  {
   "cell_type": "code",
   "execution_count": 3,
   "metadata": {},
   "outputs": [
    {
     "name": "stdout",
     "output_type": "stream",
     "text": [
      "[[1, 1, 1, 1], [1, 0, 1, 2], [1, 1, 2, 4]]\n",
      "4\n"
     ]
    }
   ],
   "source": [
    "def solution(m, n, puddles):\n",
    "    answer = 0\n",
    "    \n",
    "    #m : x좌표(열), n : y 좌표(행))\n",
    "    #최단 경로가 아니라 경로의 수를 찾는 문제. not BFS, DFS\n",
    "    #일반 경우의 수 : 2^(m+n)\n",
    "    # \n",
    "    vec = [[-1, 0], [0, -1]] # 그 전이 어디서 온건지.\n",
    "    maps = [[0 for _ in range(m)] for _ in range(n)]\n",
    "    maps[0][0]  = 1\n",
    "\n",
    "    # 점화식 내용을 각 iteration 돌면서 : 여기에 수여 순서 정보가 들어가 있는 것임.\n",
    "    for x in range(m):\n",
    "        for y in range(n): # 범위 안에 들어오는 좌표들\n",
    "            \n",
    "            if [x+1, y+1] in puddles:\n",
    "                continue\n",
    "            \n",
    "            for dx , dy in vec:\n",
    "                bx = x + dx\n",
    "                by = y + dy # 현재 좌표 전 좌표\n",
    "                 \n",
    "                if bx >= 0 and by>=0: #map 에서 벗어나지 않은 한.\n",
    "                    maps[y][x] += maps[by][bx] # 해당 셀에 위치할 수 있는 경우의 수.\n",
    "    print(maps)\n",
    "    return maps[n-1][m-1] % 1000000007\n",
    "\n",
    "\n",
    "m , n , puddles = 4, 3, [[2, 2]]\n",
    "print(solution(m, n, puddles))"
   ]
  },
  {
   "cell_type": "markdown",
   "metadata": {},
   "source": [
    "### 개미 전사\n",
    "\n",
    "* 각 식량창고 내 식량의 개수가 담겨있는 array가 주어질 때, 최소 한칸 이상 떨어진 식량창고를 털어서 얻을 수 있는 식량의 최대값\n",
    "* 식량창고 개수는 3 이상 100이하\n",
    "* 저장된 식량의 개수는 0~100개\n",
    "* 식량창고의 순서는 바꾸지 못함."
   ]
  },
  {
   "cell_type": "markdown",
   "metadata": {},
   "source": [
    "#### recursively : Top down"
   ]
  },
  {
   "cell_type": "code",
   "execution_count": 22,
   "metadata": {},
   "outputs": [
    {
     "name": "stdout",
     "output_type": "stream",
     "text": [
      "11\n",
      "0.00023293495178222656\n",
      "\n"
     ]
    }
   ],
   "source": [
    "def solution(array):\n",
    "\n",
    "    #최소 한칸씩만 떨어지면 되니, 개수는 가 매번 정해지는 것이 아님.\n",
    "    # [4, 3 ,1,5, 1, 2]\n",
    "    answer = 0\n",
    "\n",
    "    def recursive(start, end, array):\n",
    "        nonlocal answer\n",
    "\n",
    "        if start >= end :\n",
    "            return\n",
    "\n",
    "        M= max(array[start:end])\n",
    "        answer+= M\n",
    "        idx = array.index(M)\n",
    "\n",
    "        recursive(start, idx-1, array) \n",
    "        recursive(idx+2, end, array) \n",
    "\n",
    "    recursive(0, len(array), array)\n",
    "\n",
    "    return answer\n",
    "\n",
    "from time import time\n",
    "\n",
    "array = [4, 3 ,1,5, 1, 2]\n",
    "s = time()\n",
    "print(solution(array))\n",
    "e = time()\n",
    "print(e-s)\n",
    "print()"
   ]
  },
  {
   "cell_type": "markdown",
   "metadata": {},
   "source": [
    "딱히 중복되는 연산 없이 사용한 상태"
   ]
  },
  {
   "cell_type": "markdown",
   "metadata": {},
   "source": [
    "#### dynamically : Bottom Up"
   ]
  },
  {
   "cell_type": "markdown",
   "metadata": {},
   "source": [
    "* 점화식 세우기\n",
    "* 한 칸씩 이동하면서 털지 안털지 결정하자\n",
    "    * 누적계산 -> 계산 결과 저장 : 맨 나중꺼만 출력\n",
    "    * 현재의 창고를 털려면 적어도 i-2번째의 창고를 털었어야 한다. i-1은 안됌.\n",
    "        #### 현재 입장에서 생각하기\n",
    "        #### 다이나믹 알고리즘 : 현재의 작은 부분 해결이 전체 문제의 해결과 같을 때 사용\n",
    "        * 안털고 i-1 상태를 유지할 지, i-2 상태에서 털지"
   ]
  },
  {
   "cell_type": "code",
   "execution_count": 21,
   "metadata": {},
   "outputs": [
    {
     "name": "stdout",
     "output_type": "stream",
     "text": [
      "11\n",
      "7.486343383789062e-05\n"
     ]
    }
   ],
   "source": [
    "def solution(array):\n",
    "\n",
    "    d = [0]*len(array)\n",
    "    \n",
    "    d[0] = array[0]\n",
    "    d[1] = max(array[0], array[1])\n",
    "\n",
    "    for i in range(2, len(array)):\n",
    "        d[i] = max(d[i-1], d[i-2] + array[i])\n",
    "    \n",
    "    return d[len(array) -1] # 마지막 판단.\n",
    "\n",
    "array = [4, 3 ,1,5, 1, 2]\n",
    "s = time()\n",
    "print(solution(array))\n",
    "e = time()\n",
    "print(e-s)\n"
   ]
  },
  {
   "cell_type": "markdown",
   "metadata": {},
   "source": [
    "조금더 빠르다."
   ]
  },
  {
   "cell_type": "markdown",
   "metadata": {},
   "source": [
    "### 도둑질 level 4 : 못푼 문제\n",
    "\n",
    "#### 개미전사 문제와 거의 동일하지만,  가장 큰 차이점은 list가 아닌 원형\n",
    "\n",
    "#### 첫번째 집과 마지막 집이 같이 고려되는 루트, 경우를 뺸다."
   ]
  },
  {
   "cell_type": "code",
   "execution_count": null,
   "metadata": {},
   "outputs": [],
   "source": [
    "def solution(money):\n",
    "    \n",
    "    \n",
    "    #개미전사와 같은 문제지만 : 다른 점은 동그랗게 모여있다다. : 인덱스가 처음과 같은 경우를 제외\n",
    "    # 어디서 시작하든 같은 결과가 나와야 한다.\n",
    "    # 처음 집과 마지막 집이 동시에 선택되는 경우를 제외하고 두 경우에서 최적\n",
    "    N = len(money)\n",
    "    d = [0]*N\n",
    "    d[0] = money[0]\n",
    "    d[1] = max(money[0], money[1])\n",
    "    for i in range(2, N-1): # 첫번째 집 고려 포함 , 마지막 집 제외 최적을 찾는 경우\n",
    "        d[i] = max(d[i-1], d[i-2] + money[i])\n",
    "        \n",
    "    \n",
    "    d2 = [0]*N\n",
    "    d2[0] = 0\n",
    "    d2[1] = money[1]\n",
    "    for i in range(2, N): # 첫번째집 제외, 마지막집 고려 포함 최적을 찾는 경우\n",
    "        d2[i] = max(d2[i-1], d2[i-2] + money[i])\n",
    "    \n",
    "    return max(d[N-2], d2[N-1]) # 둘 중 더 최적인 경우."
   ]
  },
  {
   "cell_type": "markdown",
   "metadata": {},
   "source": []
  }
 ],
 "metadata": {
  "kernelspec": {
   "display_name": "Python 3",
   "language": "python",
   "name": "python3"
  },
  "language_info": {
   "codemirror_mode": {
    "name": "ipython",
    "version": 3
   },
   "file_extension": ".py",
   "mimetype": "text/x-python",
   "name": "python",
   "nbconvert_exporter": "python",
   "pygments_lexer": "ipython3",
   "version": "3.9.6"
  }
 },
 "nbformat": 4,
 "nbformat_minor": 2
}
