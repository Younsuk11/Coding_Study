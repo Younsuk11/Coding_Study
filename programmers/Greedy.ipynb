{
 "cells": [
  {
   "cell_type": "markdown",
   "metadata": {},
   "source": [
    "# Greedy Algorithm\n",
    "\n",
    "* 최적 해 보장 가정이 만족한다면, 이를 고려하지 않고, 속도를 올려 탐색이 가능하기 위해 등장한 알고리즘\n",
    "* 지금 당장 좋은 선택을 하는 알고리즘, 현재 최선의 선택을 한다. 미래의 선택을 고려하지 않는다.\n",
    "* 항상 최적해를 보장하지는 않는다., 결국 항상 최적해를 보장할 때만 사용할 것!\n",
    "    * 현재의 선택이 미래의 선택에 영향을 주지 않는다. : Greedy choice property\n",
    "    * 부분의 최적 해가 모이면, 전체의 최적해가 된다.\n",
    "\n",
    "\n",
    "\n",
    "## 정렬을 해라\n",
    "* 그리디 전략 : \"정렬\" Sorting : 어떻게 정렬해야, 미래선택은 따져보지 않고, 현재만 고려가 가능할까?\n",
    "    * 모든 경우의 수를 아우르는 탐색을 하고, 조건문을 통해 break\n",
    "\n",
    "\n",
    "* 추천 문제에 주로 등장함."
   ]
  },
  {
   "cell_type": "markdown",
   "metadata": {},
   "source": [
    "### 체육복 level1\n",
    "\n",
    "* 학생들의 번호는 체격 순으로 매겨져 있어, 바로 앞번호의 학생이나 바로 뒷번호의 학생에게만 체육복을 빌려줄 수 있습니다.\n",
    "* 전체 학생의 수 n, 체육복을 도난당한 학생들의 번호가 담긴 배열 lost, 여벌의 체육복을 가져온 학생들의 번호가 담긴 배열 reserve가 매개변수로 주어질 때, 체육수업을 들을 수 있는 학생의 최댓값을 return 하도록 solution 함수를 작성해주세요.\n",
    "* 여벌 체육복을 가져온 학생이 체육복을 도난당했을 수 있습니다. 이때 이 학생은 체육복을 하나만 도난당했다고 가정하며, 남은 체육복이 하나이기에 다른 학생에게는 체육복을 빌려줄 수 없습니다.\n",
    "\n",
    "* N : 2 이상 30이하"
   ]
  },
  {
   "cell_type": "code",
   "execution_count": 1,
   "metadata": {},
   "outputs": [
    {
     "name": "stdout",
     "output_type": "stream",
     "text": [
      "3\n"
     ]
    }
   ],
   "source": [
    "# if elif 구문은 여러개에 걸려도 하나에만 걸린다.\n",
    "def solution(n, lost, reserve):\n",
    "    answer = 0\n",
    "\n",
    "    # lost = sorted(lost)\n",
    "    # reserve = sorted(reserve)\n",
    "    lost.sort()\n",
    "    reserve.sort()\n",
    "    \n",
    "\n",
    "    #여복 있는 사람 먼저 처리\n",
    "    s1 = set(lost)\n",
    "    s2 = set(reserve)\n",
    "    ## 복사해서 해야 원 내용이 바뀌지 않는다.\n",
    "    lost = list(s1 - s2)\n",
    "    reserve = list(s2 - s1)\n",
    "  \n",
    "\n",
    "    count = 0\n",
    "    for student in lost:\n",
    "\n",
    "        #if, elif는 순서대로 검토후, 맞는 거 \"하나만\"! : Greedy 조건 충족 검토 : 지금 조건문이 다음 조건문에 영향을 미치지 않을 경우.\n",
    "        if (student -1 in reserve):\n",
    "            count +=1\n",
    "            reserve.remove(student -1)\n",
    "\n",
    "        elif (student +1 in reserve):\n",
    "            count +=1\n",
    "            reserve.remove(student +1)\n",
    "\n",
    "        else:\n",
    "            continue\n",
    "        \n",
    "\n",
    "    answer = n - (len(lost) - count)\n",
    "\n",
    "\n",
    "    return answer\n",
    "\n",
    "\n",
    "n = 5\n",
    "lost = [4, 3,1,2]\n",
    "reserve = [5, 3]\n",
    "answer = 3\n",
    "\n",
    "print(solution(n, lost, reserve))\n",
    "\n",
    "\n",
    "\n",
    "\n",
    "## better one\n",
    "def solution(n, lost, reserve):\n",
    "\n",
    "    ## intersection제거\n",
    "    _reserve = [r for r in reserve if r not in lost]\n",
    "    _lost = [l for l in lost if l not in reserve]\n",
    "\n",
    "    for r in _reserve:\n",
    "        f = r - 1\n",
    "        b = r + 1\n",
    "        if f in _lost:\n",
    "            _lost.remove(f)\n",
    "        elif b in _lost: # 여기도 elif 사용.\n",
    "            _lost.remove(b)\n",
    "    return n - len(_lost)"
   ]
  },
  {
   "cell_type": "markdown",
   "metadata": {},
   "source": [
    "### k번재 수 level1\n",
    "\n",
    "* 배열 array의 i번째 숫자부터 j번째 숫자까지 자르고 정렬했을 때, k번째에 있는 수를 구하려 합니다.\n",
    "* 배열 array, [i, j, k]를 원소로 가진 2차원 배열 commands가 매개변수로 주어질 때, commands의 모든 원소에 대해 앞서 설명한 연산을 적용했을 때 나온 결과를 배열에 담아 return 하도록 solution 함수를 작성해주세요.\n",
    "\n",
    "* sorting : selection sort, insertion sort, merge sort"
   ]
  },
  {
   "cell_type": "code",
   "execution_count": null,
   "metadata": {},
   "outputs": [],
   "source": [
    "def solution(array, commands):\n",
    "    answer = []\n",
    "\n",
    "    #slicing\n",
    "    for s, e, i in commands:\n",
    "        array_s = array[s-1 : e]\n",
    "        \n",
    "        #sorting\n",
    "        array_s.sort()\n",
    "        answer.append(array_s[i-1])\n",
    "\n",
    "    return answer\n",
    "\n",
    "\n",
    "#better one\n",
    "def solution(array, commands):\n",
    "    return list(map(lambda x:sorted(array[x[0]-1:x[1]])[x[2]-1], commands)) # map  사용 for문 한줄 쓰기\n",
    "\n",
    "\n",
    "array, commands, answer = [1, 5, 2, 6, 3, 7, 4]\t, [[2, 5, 3], [4, 4, 1], [1, 7, 3]], [5, 6, 3]\n",
    "solution(array, commands)"
   ]
  }
 ],
 "metadata": {
  "kernelspec": {
   "display_name": "Python 3",
   "language": "python",
   "name": "python3"
  },
  "language_info": {
   "codemirror_mode": {
    "name": "ipython",
    "version": 3
   },
   "file_extension": ".py",
   "mimetype": "text/x-python",
   "name": "python",
   "nbconvert_exporter": "python",
   "pygments_lexer": "ipython3",
   "version": "3.9.6"
  }
 },
 "nbformat": 4,
 "nbformat_minor": 2
}
