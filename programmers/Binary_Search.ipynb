{
 "cells": [
  {
   "cell_type": "markdown",
   "metadata": {},
   "source": [
    "# Binary search : O(logL)\n",
    "* L 이 sorted 라면 : using sorted(L)\n",
    "* 가운데 인덱스를 기준으로 크다면 왼쪽, 작다면 오른쪽을 검사\n",
    "* candidate 반을 날린다는 느낌."
   ]
  },
  {
   "cell_type": "code",
   "execution_count": null,
   "metadata": {},
   "outputs": [],
   "source": [
    "def binary_search(L, value):\n",
    "\n",
    "    start, end = 0, len(L) -1\n",
    "\n",
    "\n",
    "    while(start != end+1): \n",
    "        mid = (start + end) // 2 # 몫이니까 짝수개면 작은쪽이 mid\n",
    "\n",
    "        if value > L[mid] : \n",
    "            start  = mid +1\n",
    "        \n",
    "        else:\n",
    "            end = mid -1\n",
    "\n",
    "    \n",
    "    if (start < len(L)) and (L[start] == value): return start\n",
    "    else: return -1\n",
    "\n"
   ]
  }
 ],
 "metadata": {
  "language_info": {
   "name": "python"
  }
 },
 "nbformat": 4,
 "nbformat_minor": 2
}
