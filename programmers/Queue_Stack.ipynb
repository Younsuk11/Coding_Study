{
 "cells": [
  {
   "cell_type": "markdown",
   "metadata": {},
   "source": [
    "# Queue and Stack\n",
    "\n",
    "## Queue : FIFO 선입 선출\n",
    "* 주로 linked list로 구현 , list로 구현하면 다시 한칸씩 앞으로 옮겨야 함.\n",
    "* in BFS\n",
    "\n",
    "## Stack : LIFO 선입 후출\n",
    "* 주로 list로 구현\n",
    "* in DFS"
   ]
  },
  {
   "cell_type": "code",
   "execution_count": 5,
   "metadata": {},
   "outputs": [
    {
     "name": "stdout",
     "output_type": "stream",
     "text": [
      "deque([7, 1, 2])\n"
     ]
    }
   ],
   "source": [
    "# Queue\n",
    "\n",
    "queue =[]\n",
    "queue.append(5) # enqueue\n",
    "queue.append(3)\n",
    "queue.pop(0) # dequeue : 먼저 넣은 것을 out\n",
    "\n",
    "\n",
    "from collections import deque\n",
    "\n",
    "queue = deque()\n",
    "\n",
    "queue.append(4)\n",
    "queue.append(7)\n",
    "queue.popleft() # out 4\n",
    "queue.append(1)\n",
    "queue.append(2)\n",
    "print(queue)"
   ]
  },
  {
   "cell_type": "code",
   "execution_count": 4,
   "metadata": {},
   "outputs": [
    {
     "name": "stdout",
     "output_type": "stream",
     "text": [
      "[5, 3]\n",
      "[3, 5]\n"
     ]
    }
   ],
   "source": [
    "# stack\n",
    "\n",
    "stack = []\n",
    "stack.append(5)\n",
    "stack.append(3)\n",
    "stack.append(1)\n",
    "\n",
    "stack.pop() # 1 out\n",
    "\n",
    "stack.append(2)\n",
    "\n",
    "stack.pop()  # 2 out\n",
    "print(stack) # 최하단 부터\n",
    "\n",
    "print(stack[::-1]) #최상단부터 "
   ]
  },
  {
   "cell_type": "markdown",
   "metadata": {},
   "source": [
    "### 같은 숫자는 싫어 level 1\n",
    "\n",
    "* 배열 arr가 주어집니다. 배열 arr의 각 원소는 숫자 0부터 9까지로 이루어져 있습니다. \n",
    "* 배열 arr에서 연속적으로 나타나는 숫자는 하나만 남기고 전부 제거하려고 합니다.\n",
    "* 제거된 후 남은 수들을 반환할 때는 배열 arr의 원소들의 순서를 유지해야 합니다"
   ]
  },
  {
   "cell_type": "code",
   "execution_count": 7,
   "metadata": {},
   "outputs": [
    {
     "data": {
      "text/plain": [
       "[1, 3, 0, 1]"
      ]
     },
     "execution_count": 7,
     "metadata": {},
     "output_type": "execute_result"
    }
   ],
   "source": [
    "arr = [1,1,3,3,0,1,1]\n",
    "\n",
    "def solution(arr):\n",
    "    \n",
    "    ## stack 의 가장 윗부분과 다르면 넣고, 아니면 넘어간다.\n",
    "    stack = [arr[0]]\n",
    "    for i in range(1, len(arr)):\n",
    "        if stack[-1] != arr[i]:\n",
    "            stack.append(arr[i])\n",
    "\n",
    "    return stack\n",
    "\n",
    "\n",
    "solution(arr)"
   ]
  },
  {
   "cell_type": "markdown",
   "metadata": {},
   "source": [
    "### 기능 개발 level 2\n",
    "\n",
    "* 각 기능은 진도가 100%일 때 서비스에 반영할 수 있습니다.\n",
    "* 각 기능의 개발속도는 모두 다르기 때문에 뒤에 있는 기능이 앞에 있는 기능보다 먼저 개발될 수 있고, 이때 뒤에 있는 기능은 앞에 있는 기능이 배포될 때 함께 배포됩니다.\n",
    "* 먼저 배포되어야 하는 순서대로 작업의 진도가 적힌 정수 배열 progresses와 각 작업의 개발 속도가 적힌 정수 배열 speeds가 주어질 때 각 배포마다 몇 개의 기능이 배포되는지를 return 하도록 solution 함수를 완성하세요.\n",
    "\n",
    "#### key : 작업 일 수를 구해놓고, 앞에서부터 뺀다 : queue  + 조건을 가지고 탈출과 멈춤.\n",
    "* 미리 작업 일 수를 queue로 구현해놓으면 바로 빼면서 counting이 가능하다."
   ]
  },
  {
   "cell_type": "code",
   "execution_count": null,
   "metadata": {},
   "outputs": [],
   "source": [
    "from collections import deque\n",
    "def solution(progresses, speeds):\n",
    "    answer = []\n",
    "    \n",
    "    \n",
    "    #각 기능별 필요한 작업일 수 \n",
    "    days = deque()\n",
    "    for p , s in zip(progresses, speeds):\n",
    "        d = (100 - p) // s \n",
    "        if (100 - p) % s == 0:\n",
    "            days.append(d)\n",
    "        else:\n",
    "            days.append(d + 1)\n",
    "    \n",
    "    ## queue\n",
    "    while(days):\n",
    "        count = 1\n",
    "        cur = days.popleft()\n",
    "        while (len(days) != 0) and (cur >=days[0]): #빼오는게 조건을 가진 반복 작업임.(while문)\n",
    "            # 조건 : 앞보다 뒤의 일수가 더 짧다면 나갈 때 out\n",
    "            count +=1 \n",
    "            days.popleft()\n",
    "    \n",
    "        answer.append(count)\n",
    " \n",
    "\n",
    "    return answer"
   ]
  },
  {
   "cell_type": "code",
   "execution_count": null,
   "metadata": {},
   "outputs": [],
   "source": [
    "## better one\n",
    "\n",
    "\n",
    "def solution(progresses, speeds):\n",
    "    Q=[]\n",
    "    for p, s in zip(progresses, speeds):\n",
    "        if len(Q)==0 or Q[-1][0]<-((p-100)//s):\n",
    "            Q.append([-((p-100)//s),1])\n",
    "        else:\n",
    "            Q[-1][1]+=1\n",
    "    return [q[1] for q in Q]"
   ]
  },
  {
   "cell_type": "markdown",
   "metadata": {},
   "source": [
    "### 올바른 괄호 level 2\n",
    "\n",
    "* '(' 또는 ')' 로만 이루어진 문자열 s가 주어졌을 때, 문자열 s가 올바른 괄호이면 true를 return 하고, 올바르지 않은 괄호이면 false를 return 하는 solution 함수를 완성해 주세요."
   ]
  },
  {
   "cell_type": "code",
   "execution_count": 5,
   "metadata": {},
   "outputs": [
    {
     "data": {
      "text/plain": [
       "True"
      ]
     },
     "execution_count": 5,
     "metadata": {},
     "output_type": "execute_result"
    }
   ],
   "source": [
    "def solution(s):\n",
    "    \n",
    "    \n",
    "    #stack : () 만나면 stack에서 내보내기, \n",
    "    #반복문 : 하나씩  stack에 쌓다가 ()를 만나면 내보내기\n",
    "    #stack에 남아있으면 False\n",
    "\n",
    "    stack = []\n",
    "    for c in s:\n",
    "        stack.append(c)\n",
    "        if \"\".join(stack[-2:]) == \"()\":\n",
    "            # stack = stack[: -2]\n",
    "            stack.pop()\n",
    "            stack.pop() # stack의 특징\n",
    "    \n",
    "    \n",
    "    if len(stack) ==0 :\n",
    "        return True\n",
    "    else: return False\n",
    "\n",
    "s = \"(())()\"\n",
    "solution(s)"
   ]
  },
  {
   "cell_type": "markdown",
   "metadata": {},
   "source": [
    "효율성 테스트에서 걸림. for문을 안쓰고는 불가능한가  : stack slice부분에서 복사해서 그런거 같다.\n",
    "### stack의 장점은 \"복사\"를 안해도 된다는 것. 뒤에서 빼오는 것이 가능하다."
   ]
  },
  {
   "cell_type": "code",
   "execution_count": null,
   "metadata": {},
   "outputs": [],
   "source": []
  }
 ],
 "metadata": {
  "kernelspec": {
   "display_name": "Python 3",
   "language": "python",
   "name": "python3"
  },
  "language_info": {
   "codemirror_mode": {
    "name": "ipython",
    "version": 3
   },
   "file_extension": ".py",
   "mimetype": "text/x-python",
   "name": "python",
   "nbconvert_exporter": "python",
   "pygments_lexer": "ipython3",
   "version": "3.9.6"
  }
 },
 "nbformat": 4,
 "nbformat_minor": 2
}
