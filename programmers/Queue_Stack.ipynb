{
 "cells": [
  {
   "cell_type": "markdown",
   "metadata": {},
   "source": [
    "# Queue and Stack\n",
    "\n",
    "## Queue : FIFO 선입 선출\n",
    "\n",
    "## Stack : LIFO 선입 후출"
   ]
  },
  {
   "cell_type": "code",
   "execution_count": 5,
   "metadata": {},
   "outputs": [
    {
     "name": "stdout",
     "output_type": "stream",
     "text": [
      "deque([7, 1, 2])\n"
     ]
    }
   ],
   "source": [
    "# Queue\n",
    "\n",
    "queue =[]\n",
    "queue.append(5) # enqueue\n",
    "queue.append(3)\n",
    "queue.pop(0) # dequeue : 먼저 넣은 것을 out\n",
    "\n",
    "\n",
    "from collections import deque\n",
    "\n",
    "queue = deque()\n",
    "\n",
    "queue.append(4)\n",
    "queue.append(7)\n",
    "queue.popleft() # out 4\n",
    "queue.append(1)\n",
    "queue.append(2)\n",
    "print(queue)"
   ]
  },
  {
   "cell_type": "code",
   "execution_count": 4,
   "metadata": {},
   "outputs": [
    {
     "name": "stdout",
     "output_type": "stream",
     "text": [
      "[5, 3]\n",
      "[3, 5]\n"
     ]
    }
   ],
   "source": [
    "# stack\n",
    "\n",
    "stack = []\n",
    "stack.append(5)\n",
    "stack.append(3)\n",
    "stack.append(1)\n",
    "\n",
    "stack.pop() # 1 out\n",
    "\n",
    "stack.append(2)\n",
    "\n",
    "stack.pop()  # 2 out\n",
    "print(stack) # 최하단 부터\n",
    "\n",
    "print(stack[::-1]) #최상단부터 "
   ]
  },
  {
   "cell_type": "markdown",
   "metadata": {},
   "source": [
    "### 같은 숫자는 싫어 level 1\n",
    "\n",
    "* 배열 arr가 주어집니다. 배열 arr의 각 원소는 숫자 0부터 9까지로 이루어져 있습니다. \n",
    "* 배열 arr에서 연속적으로 나타나는 숫자는 하나만 남기고 전부 제거하려고 합니다.\n",
    "* 제거된 후 남은 수들을 반환할 때는 배열 arr의 원소들의 순서를 유지해야 합니다"
   ]
  },
  {
   "cell_type": "code",
   "execution_count": 7,
   "metadata": {},
   "outputs": [
    {
     "data": {
      "text/plain": [
       "[1, 3, 0, 1]"
      ]
     },
     "execution_count": 7,
     "metadata": {},
     "output_type": "execute_result"
    }
   ],
   "source": [
    "arr = [1,1,3,3,0,1,1]\n",
    "\n",
    "def solution(arr):\n",
    "    \n",
    "    ## stack 의 가장 윗부분과 다르면 넣고, 아니면 넘어간다.\n",
    "    stack = [arr[0]]\n",
    "    for i in range(1, len(arr)):\n",
    "        if stack[-1] != arr[i]:\n",
    "            stack.append(arr[i])\n",
    "\n",
    "    return stack\n",
    "\n",
    "\n",
    "solution(arr)"
   ]
  },
  {
   "cell_type": "markdown",
   "metadata": {},
   "source": [
    "### 기능 개발 level 2"
   ]
  },
  {
   "cell_type": "code",
   "execution_count": null,
   "metadata": {},
   "outputs": [],
   "source": []
  }
 ],
 "metadata": {
  "kernelspec": {
   "display_name": "Python 3",
   "language": "python",
   "name": "python3"
  },
  "language_info": {
   "codemirror_mode": {
    "name": "ipython",
    "version": 3
   },
   "file_extension": ".py",
   "mimetype": "text/x-python",
   "name": "python",
   "nbconvert_exporter": "python",
   "pygments_lexer": "ipython3",
   "version": "3.9.6"
  }
 },
 "nbformat": 4,
 "nbformat_minor": 2
}
