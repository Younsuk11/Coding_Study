{
 "cells": [
  {
   "cell_type": "markdown",
   "metadata": {},
   "source": [
    "# Sorting"
   ]
  },
  {
   "cell_type": "markdown",
   "metadata": {},
   "source": [
    "## Selection Sorting\n",
    "* 정렬이 안된 곳에서 최소값을 찾아 앞으로 가져온다.\n",
    "* find minimum\n",
    "* swap\n",
    "* O(N^2)\n"
   ]
  },
  {
   "cell_type": "code",
   "execution_count": null,
   "metadata": {},
   "outputs": [],
   "source": [
    "def print_selection(L:list, k:int) -> None:\n",
    "    # Write your code here\n",
    "    #selection sort : find minimum and swap\n",
    "    \n",
    "\n",
    "    if k > len(L): print(-1)\n",
    "\n",
    "    else:\n",
    "        #copy list #원본 리스트는 그대롣 두자\n",
    "        L_copy = L[:]\n",
    "\n",
    "        for i in range(len(L_copy)):\n",
    "\n",
    "            #find minium\n",
    "            min_idx = i\n",
    "            for idx in range(i+1, len(L)):\n",
    "                if L_copy[idx] < L_copy[min_idx]:\n",
    "                    min_idx = idx\n",
    "\n",
    "            #swap\n",
    "            L_copy[i], L_copy[min_idx] = L_copy[min_idx], L_copy[i]\n",
    "            \n",
    "            if i+1 == k:\n",
    "                print(L_copy)\n",
    "                \n",
    "#Check whether your function works well\n",
    "numList = [7, 5, 9, 1, 3]\n",
    "print_selection(numList, 1)\n",
    "print_selection(numList, 2)\n",
    "print_selection(numList, 3)\n",
    "print_selection(numList, 4)\n",
    "print_selection(numList, 5)\n",
    "print_selection(numList, 6)"
   ]
  },
  {
   "cell_type": "markdown",
   "metadata": {},
   "source": [
    "## insertion sorting\n",
    "* 대부분 sorted 되었을 때, 정렬이 안된 부분의 가장 왼쪽부터 적절한 위치에 넣는다.\n",
    "* best : 하나만 linear로 위치를 찾으면 끝. : O(KN)\n",
    "* 거의 정렬되었을 때는 selection sort보다 빠름."
   ]
  },
  {
   "cell_type": "code",
   "execution_count": null,
   "metadata": {},
   "outputs": [],
   "source": [
    "def insertion_sorting(L):\n",
    "    \n",
    "    for i in range(1, len(L)):#leftmost of unsorted part L[i] : current position\n",
    "\n",
    "        for j in range(i, 0, -1): # sorted part : backward : find the right position\n",
    "            if L[j] < L[j-1]:\n",
    "                L[j] , L[j-1] = L[j-1], L[j] # 한칸씩 자리 이동으로 맞는 위치를 찾는다.\n",
    "\n",
    "            else: break #대수 비교 맞을 때, 여기서 종료"
   ]
  },
  {
   "cell_type": "markdown",
   "metadata": {},
   "source": [
    "## Merge Sorting\n",
    "\n",
    "* 둘로 나누고, 정렬 후, 다시 합친다.\n",
    "    * 나눈다.\n",
    "    * 정렬한다. : merge sort\n",
    "    * 합친다.\n",
    "* Recursively\n",
    "* 정렬 시 다시 merge sort 사용\n",
    "* 합친다 : 각각 sublist의 leftmost를 비교 후, 작은 것만 올리고 큰것은 남기고\n",
    "\n",
    "* time : O(NlogN)\n",
    "* memory : O(N)\n"
   ]
  },
  {
   "cell_type": "code",
   "execution_count": null,
   "metadata": {},
   "outputs": [],
   "source": [
    "# sorting\n",
    "def merge(L, first, mid, last):\n",
    "    k = first  #current index of L\n",
    "\n",
    "    sub1 = L[first : mid+1]\n",
    "    sub2 = L[mid+1 : last +1]\n",
    "\n",
    "    i = j= 0 # indexing for each sub list\n",
    "\n",
    "    while(i < len(sub1) and j < len(sub2)):\n",
    "        \n",
    "        if sub1[i] <= sub2[j]:\n",
    "            L[k] = sub1[i]\n",
    "            i+=1\n",
    "        else:\n",
    "            L[k] = sub2[j]\n",
    "            j+= 1\n",
    "        \n",
    "        k+=1\n",
    "\n",
    "    # index i, j stop in sub list \n",
    "    #남은 것들\n",
    "    if i < len(sub1):\n",
    "        L[k:last+1] = sub1[i:]\n",
    "    \n",
    "    if j < len(sub2):\n",
    "        L[k : last +1]  = sub2[j:]\n",
    "\n",
    "\n",
    "def mergeSort(L):\n",
    "    mergeSortHelp(L, 0, len(L)-1)\n",
    "\n",
    "\n",
    "def mergeSortHelp(L, first, last):\n",
    "\n",
    "    #condition\n",
    "    if first == last:\n",
    "        return # base case\n",
    "    \n",
    "    else:\n",
    "        mid = first + (last - first) // 2\n",
    "\n",
    "        #반절식 나눠서 sorting\n",
    "        mergeSortHelp(L, first, mid)\n",
    "        mergeSortHelp(L, mid+1, last)\n",
    "        merge(L, first, mid, last)\n",
    "\n",
    "\n"
   ]
  },
  {
   "cell_type": "markdown",
   "metadata": {},
   "source": [
    "## Quick Sorting\n",
    "\n",
    "* pivot을 정하고 이보다 큰 데이터와 작은 데이터의 위치를 바꾸는 것은 어떨가\n",
    "* 기준을 설정한 다음 큰 수와 작은 수를 교환한 후 리스트를 반으로 나누는 방식 : 즉 항상 pivot보다 큰데이터 부분과 작은 데이터 부분으로 나눈다.\n",
    "    * 보통은 맨 처음, 혹은 맨 끝을 pivot으로 설정\n",
    "* 커서를 양쪽에서 오면서 pivot기준으로 크기를 비교하고, 왼쪽은 작게 오른쪽은 크게 하도록 하여, 서로 자리를 바꾼다. \n",
    "* 커서가 교차할떄, 작은 것과 pivot의 위치를 바꾸고, 리스트를 분활한다.\n",
    "    * 분활된 것에서 재귀적 반복\n",
    "\n",
    "#### O(NlogN)"
   ]
  },
  {
   "cell_type": "code",
   "execution_count": 1,
   "metadata": {},
   "outputs": [
    {
     "name": "stdout",
     "output_type": "stream",
     "text": [
      "[0, 1, 2, 3, 5, 6, 6, 7, 9]\n"
     ]
    }
   ],
   "source": [
    "def quick_sort(array):\n",
    "\n",
    "    #원소가 하나 이하라면\n",
    "    if len(array) <=1:\n",
    "        return array\n",
    "    \n",
    "    pivot = array[0] # 피벗설정\n",
    "    tail = array[1:] # 피벗을 제외한 리스트\n",
    "\n",
    "\n",
    "    left_side = [x for x in tail if x <= pivot] # 분활된 왼쪽 부분\n",
    "    right_side = [x for x in tail if x > pivot] # 분활된 오른쪽 부분\n",
    "\n",
    "    return quick_sort(left_side) + [pivot] + quick_sort(right_side) # 각각 재귀적으로 사용\n",
    "\n",
    "array = [5, 6, 7, 9, 0 , 3, 1, 6, 2]\n",
    "print(quick_sort(array))"
   ]
  },
  {
   "cell_type": "markdown",
   "metadata": {},
   "source": [
    "## K 번째 수 level 1"
   ]
  },
  {
   "cell_type": "code",
   "execution_count": 1,
   "metadata": {},
   "outputs": [
    {
     "data": {
      "text/plain": [
       "[5, 6, 3]"
      ]
     },
     "execution_count": 1,
     "metadata": {},
     "output_type": "execute_result"
    }
   ],
   "source": [
    "def solution(array, commands):\n",
    "    answer = []\n",
    "\n",
    "    #slicing\n",
    "    for s, e, i in commands:\n",
    "        array_s = array[s-1 : e]\n",
    "        \n",
    "        #sorting\n",
    "        array_s.sort()\n",
    "        answer.append(array_s[i-1])\n",
    "\n",
    "\n",
    "\n",
    "    return answer\n",
    "\n",
    "array = [1, 5, 2, 6, 3, 7, 4]\n",
    "commands = [[2, 5, 3], [4, 4, 1], [1, 7, 3]]\t\n",
    "solution(array, commands)"
   ]
  },
  {
   "cell_type": "markdown",
   "metadata": {},
   "source": [
    "## 가장 큰 수 level2\n",
    "\n",
    "* 0 또는 양의 정수가 주어졌을 때, 정수를 이어 붙여 만들 수 있는 가장 큰 수를 알아내 주세요.\n",
    "* 예를 들어, 주어진 정수가 [6, 10, 2]라면 [6102, 6210, 1062, 1026, 2610, 2106]를 만들 수 있고, 이중 가장 큰 수는 6210입니다.\n",
    "* 0 또는 양의 정수가 담긴 배열 numbers가 매개변수로 주어질 때, 순서를 재배치하여 만들 수 있는 가장 큰 수를 문자열로 바꾸어 return 하도록 solution 함수를 작성해주세요.\n",
    "* numbers의 원소는 0 이상 1,000 이하입니다.\n",
    "\n",
    "####\n",
    "* 숫자 길이는 전체 길이는 같을 것이다.\n",
    "* 정렬 하는 거 O(N!)\n",
    "* 앞자리가 큰 순서대로 붙이고, 같다면 그다음 자리수를 따진다. -> 따지기 위해 **반복**하자 \n",
    "    * 앞자리는 같은데 길이가 다른 경우 : "
   ]
  },
  {
   "cell_type": "code",
   "execution_count": 12,
   "metadata": {},
   "outputs": [
    {
     "data": {
      "text/plain": [
       "'9533230'"
      ]
     },
     "execution_count": 12,
     "metadata": {},
     "output_type": "execute_result"
    }
   ],
   "source": [
    "from itertools import permutations\n",
    "# exhastive algorithm\n",
    "def solution(numbers):\n",
    "    n = [f\"{a}\" for a in numbers]\n",
    "    p_n = permutations(n)\n",
    "    ans = []\n",
    "    for comb in p_n: # O(N!)\n",
    "        a =\"\"\n",
    "        for n in comb:\n",
    "            a += n\n",
    "        ans.append(int(a))\n",
    "\n",
    "    return str(max(ans))\n",
    "        \n",
    "\n",
    "\n",
    "numbers = [3, 30, 32, 5, 9]\n",
    "solution(numbers)\n"
   ]
  },
  {
   "cell_type": "markdown",
   "metadata": {},
   "source": [
    "완전 Exhaustive한 방법이기에, not 효율적....\n",
    "\n",
    "* 최적을 찾는 비교하는 법\n",
    "\n",
    "* hint : 문자열 비교  : \"333\" > \"323232\" : 사전식으로 비교\n",
    "* 1000 이하의 수만 나온다.\n",
    "\n",
    "\n",
    "### key : 반환이 \"문자열\"이다. & 1000이하 (셋째자리수)만 들어온다. & 정렬된 것이 최적을 보장한다면 Greedy Algorithm\n",
    "* 사전형 비교로 문자열의 크기를 비교했을 때, 더 큰 것이 붙어야 한다."
   ]
  },
  {
   "cell_type": "code",
   "execution_count": 16,
   "metadata": {},
   "outputs": [
    {
     "name": "stdout",
     "output_type": "stream",
     "text": [
      "[3, 5, 9, 30, 32]\n"
     ]
    },
    {
     "data": {
      "text/plain": [
       "'9533230'"
      ]
     },
     "execution_count": 16,
     "metadata": {},
     "output_type": "execute_result"
    }
   ],
   "source": [
    "# greedy algorithm?\n",
    "# 최적을 보장하는가? 현재의 최적 선택이 다음 선택에 영향을 미치는 가 : 정렬이 완벽하다면...\n",
    "# 정렬하는 법\n",
    "\n",
    "\n",
    "\n",
    "def solution(numbers):\n",
    "    numbers = list(map(str , numbers))\n",
    "    numbers.sort(key=lambda x: x*3, reverse=True) # 문자열 3번 씩 반복 후, 비교하여 역 정렬 : O(N) 시간복잡도.\n",
    "\n",
    "    # 문자열 합치기\n",
    "    answer = int(\"\".join(numbers)) # 0000 도 0으로 만들어주기 위해\n",
    "    return str(answer)\n",
    "    \n",
    "\n",
    "\n",
    "\n",
    "numbers = [3, 30, 32, 5, 9]\n",
    "numbers.sort()\n",
    "\n",
    "print(numbers)\n",
    "solution(numbers)"
   ]
  },
  {
   "cell_type": "markdown",
   "metadata": {},
   "source": [
    "## H-index level 2 \n",
    "\n",
    "\n",
    "* 어떤 과학자가 발표한 논문 n편 중, h번 이상 인용된 논문이 h편 이상이고 나머지 논문이 h번 이하 인용되었다면 h의 최댓값이 이 과학자의 H-Index입니다.\n",
    "\n",
    "* 어떤 과학자가 발표한 논문의 인용 횟수를 담은 배열 citations가 매개변수로 주어질 때, 이 과학자의 H-Index를 return 하도록 solution 함수를 작성해주세요."
   ]
  },
  {
   "cell_type": "markdown",
   "metadata": {},
   "source": [
    "Binary search"
   ]
  },
  {
   "cell_type": "code",
   "execution_count": 22,
   "metadata": {},
   "outputs": [
    {
     "data": {
      "text/plain": [
       "0"
      ]
     },
     "execution_count": 22,
     "metadata": {},
     "output_type": "execute_result"
    }
   ],
   "source": [
    "def solution(citations):\n",
    "    answer = 0\n",
    "    \n",
    "    citations.sort()\n",
    "    #idea : \"논문 편 수\"의 순서 위치\n",
    "   \n",
    "    def binary_search(start, end, citations):\n",
    "        nonlocal answer\n",
    "        x = (start + end) //2\n",
    "        check  = len([c for c in citations if c >= x])\n",
    "\n",
    "        # binary search 탈출 : 교차될때, 이러면 무한 반복을 안하고 탈출 가능.\n",
    "        if start > end : return\n",
    "\n",
    "      \n",
    "        \n",
    "        if check >= x:\n",
    "            answer = max(answer, x) #기존 값보다 최대 값으로  : h의 최댓값이기 때문.\n",
    "            binary_search(x+1 , end, citations)\n",
    "        else:\n",
    "            binary_search(start, x-1 , citations)\n",
    "            \n",
    "    \n",
    "    \n",
    "    binary_search(0,max(citations), citations) #상한선 문제?  H -index의 가능 범위는 논문 편수가 아닌 논문 최대 인용수.\n",
    "    return answer\n",
    "\n",
    "citations = [3, 0, 6, 1, 5]\t\n",
    "citations = [6, 7, 8, 9, 10] \n",
    "# 모두 같은 경우는?\n",
    "citations = [0, 0, 0, 0, 0] \n",
    "\n",
    "solution(citations)\n",
    "\n",
    "\n",
    "\n"
   ]
  },
  {
   "cell_type": "markdown",
   "metadata": {},
   "source": [
    "greedy algorithm"
   ]
  },
  {
   "cell_type": "code",
   "execution_count": null,
   "metadata": {},
   "outputs": [],
   "source": [
    "\n",
    "## better one\n",
    "\n",
    "def solution(citations):\n",
    "    citations.sort(reverse=True)\n",
    "    answer = max(map(min, enumerate(citations, start=1)))\n",
    "    return answer \n",
    "\n",
    "\n",
    "## greedy algorithm : key  # 역순으로 해야 논문 편수랑 조건에 맞는 개수랑 매칭이 가능해짐.\n",
    "def solution(citations):\n",
    "    citations.sort(reverse=True) #내림차순으로 정렬\n",
    "    h_index = 0\n",
    "    \n",
    "    for i, citation in enumerate(citations): \n",
    "        if citation >= i + 1:\n",
    "            h_index = i + 1 #조건에 맞는 편수랑 개수가 맞음.\n",
    "        else:\n",
    "            break\n",
    "    \n",
    "    return h_index"
   ]
  }
 ],
 "metadata": {
  "kernelspec": {
   "display_name": "Python 3",
   "language": "python",
   "name": "python3"
  },
  "language_info": {
   "codemirror_mode": {
    "name": "ipython",
    "version": 3
   },
   "file_extension": ".py",
   "mimetype": "text/x-python",
   "name": "python",
   "nbconvert_exporter": "python",
   "pygments_lexer": "ipython3",
   "version": "3.9.6"
  }
 },
 "nbformat": 4,
 "nbformat_minor": 2
}
