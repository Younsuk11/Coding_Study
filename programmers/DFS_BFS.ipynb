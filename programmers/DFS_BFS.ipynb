{
 "cells": [
  {
   "cell_type": "markdown",
   "id": "91452c61",
   "metadata": {},
   "source": [
    "# DFS / BFS : 그래프 탐색 유형 알고리즘\n",
    "\n",
    "## 대표적인 예시\n",
    "* 경로 탐색 유형 (최단 거리, 시간)\n",
    "* 네트워크 유형 (연결)\n",
    "* 조합 유형 (모든 조합 만들기)\n",
    "\n",
    "## 구현 방법\n",
    "\n",
    "1. DFS : 하나를 끝까지 몰아서 본다. : 한놈만 끝까지 팬다. \n",
    "    * 인접 노드를 따라서 재귀적으로 방문\n",
    "    * 재귀함수 일반적  + 탈출조건 \n",
    "        * 탈출조건을 먼저 생각하자\n",
    "        * 재귀되는 부분(반복하는 형태, 수열을 떠올려라)\n",
    "    * Stack 활용\n",
    "\n",
    "2. BFS : 여러개를 같이 챙겨본다. ; 여러 놈을 조금씩 팬다.\n",
    "    * 방문 노드의 인접노드들 먼저 방문\n",
    "    * Queue / linkedlist 자료 구조 활용\n",
    "    * 가장 먼저 넣었던 것부터 하나씩 꺼내면서\n",
    "    * 연결된 점을 넣기\n",
    "    * Queue가 빌때까지 반복\n",
    "    * 순서가 보장되어야 함.\n",
    "\n",
    "## DFS ? BFS? 어느 걸 써야할까\n",
    "* DFS를 더 선호  : 하나의 조합을 \"완성\"해서 정답과 비교가 가능하기에 \n",
    "    * 디버깅이 더 쉬움.\n",
    "    * 그 한놈이 시간 관점에서 오래걸릴 수가 있다는 복불복임. : 운이 좋으면 첫번째가 최적의 답, 아니면 가장 끝놈이 최적의 답\n",
    "\n",
    "* BFS : 조금씩 최적을 찾아가는 것이기에, 최적을 더 빨리 보장하는데 장점이 있음. -> 경우의 수가 많고, 복불복이다 싶을 때는 이것을 사용하는 것이 더 유리\n",
    "    * 시간 복잡도가 더 낮다.\n",
    "    * 하나만 제대로 찾으면 나머지는 한번에 제외되므로,  \n",
    "    * 목적지에 먼저 도착하는 것이 최단 경로임을 보장함.\n",
    "\n",
    "* 쉬운 문제가 나오면, 빠르게 DFS로 구현\n",
    "* 난이도가 너무 어렵거나, DFS로 경우의 수가 많아지거나, 오래걸릴 것 같으면 BFS로 구현\n",
    "* 결국 더 손에 익은 탐색을 하는 거. \n"
   ]
  },
  {
   "cell_type": "markdown",
   "id": "a029f6f2",
   "metadata": {},
   "source": [
    "## 구현"
   ]
  },
  {
   "cell_type": "code",
   "execution_count": 1,
   "id": "d79f6d22",
   "metadata": {},
   "outputs": [
    {
     "name": "stdout",
     "output_type": "stream",
     "text": [
      "1 2 7 6 8 3 4 5 "
     ]
    }
   ],
   "source": [
    "# DFS\n",
    "\n",
    "# 방문 정보를 리스트 자료형으로 표현\n",
    "visited =[False] * 9\n",
    "\n",
    "# 각 노드가 연결된  정보를 리스트 자료형으로 표현 (2차원 리스트)\n",
    "graph = [\n",
    "  [],                 # 1번 노드와 연결된 노드들\n",
    "  [2, 3, 8],          # 2번 노드와 연결된 노드들\n",
    "  [1, 7],             # 3번 노드와 연결된 노드들\n",
    "  [1, 4, 5],          # 4번 노드와 연결된 노드들\n",
    "  [3, 5],             # 5번 노드와 연결된 노드들\n",
    "  [3, 4],             # 6번 노드와 연결된 노드들\n",
    "  [7],                # 7번 노드와 연결된 노드들\n",
    "  [2, 6, 8],          # 8번 노드와 연결된 노드들\n",
    "  [1, 7]              # 9번 노드와 연결된 노드들\n",
    "]\n",
    "\n",
    "\n",
    "def DFS(graph, v, visited):\n",
    "  # 현재 노드를 방문 처리\n",
    "  visited[v] = True\n",
    "  print(v, end = ' ')\n",
    "\n",
    "  for i in graph[v]:\n",
    "    if not visited[i]:\n",
    "      DFS(graph, i, visited)\n",
    "\n",
    "# 현재 노드와 연결된 다른 노드를 재귀적으로 방문\n",
    "\n",
    "DFS(graph, 1, visited)"
   ]
  },
  {
   "cell_type": "code",
   "execution_count": 2,
   "id": "2a058cdf",
   "metadata": {},
   "outputs": [
    {
     "name": "stdout",
     "output_type": "stream",
     "text": [
      "1 2 3 8 7 4 5 6 "
     ]
    }
   ],
   "source": [
    "from collections import deque\n",
    "\n",
    "# BFS\n",
    "def BFS(graph, start, visited):\n",
    "  # 큐(Queue) 구현을 위해 deque 라이브러리 사용\n",
    "  queue = deque([start])\n",
    "\n",
    "  # 현재 노드 방문 처리\n",
    "  visited[start] = True\n",
    "\n",
    "  # 큐가 빌 때까지 반복\n",
    "  while queue:\n",
    "    # 큐에서 하나의 원소를 뽑아 출력\n",
    "    v = queue.popleft()\n",
    "    print(v, end = ' ')\n",
    "\n",
    "    # 해당 원소와 연결된, 아직 방문하지 않은 원소들을 큐에 삽입\n",
    "    for i in graph[v]:\n",
    "      if not visited[i]:\n",
    "        queue.append(i)\n",
    "        visited[i] = True\n",
    "\n",
    "\n",
    "\n",
    "visited =[False] * 9\n",
    "\n",
    "# 각 노드가 연결된  정보를 리스트 자료형으로 표현 (2차원 리스트)\n",
    "graph = [\n",
    "  [],                 # 1번 노드와 연결된 노드들\n",
    "  [2, 3, 8],          # 2번 노드와 연결된 노드들\n",
    "  [1, 7],             # 3번 노드와 연결된 노드들\n",
    "  [1, 4, 5],          # 4번 노드와 연결된 노드들\n",
    "  [3, 5],             # 5번 노드와 연결된 노드들\n",
    "  [3, 4],             # 6번 노드와 연결된 노드들\n",
    "  [7],                # 7번 노드와 연결된 노드들\n",
    "  [2, 6, 8],          # 8번 노드와 연결된 노드들\n",
    "  [1, 7]              # 9번 노드와 연결된 노드들\n",
    "]\n",
    "\n",
    "BFS(graph, 1, visited)"
   ]
  },
  {
   "cell_type": "markdown",
   "id": "1ed63dee",
   "metadata": {},
   "source": [
    "### 타겟 넘버 level2 : DFS\n",
    "\n",
    "* n개의 음이 아닌 정수들이 있습니다. 이 정수들을 순서를 바꾸지 않고 적절히 더하거나 빼서 타겟 넘버를 만들려고 합니다\n",
    "* 사용할 수 있는 숫자가 담긴 배열 numbers, 타겟 넘버 target이 매개변수로 주어질 때 숫자를 적절히 더하고 빼서 타겟 넘버를 만드는 방법의 수를 return 하도록 solution 함수를 작성해주세요."
   ]
  },
  {
   "cell_type": "code",
   "execution_count": 8,
   "id": "44daeec3",
   "metadata": {},
   "outputs": [
    {
     "name": "stdout",
     "output_type": "stream",
     "text": [
      "5\n",
      "2\n"
     ]
    }
   ],
   "source": [
    "def solution(numbers, target):\n",
    "   \n",
    "\n",
    "    #사이 연산으로 올 수 있는 것은 + 혹은 - : 전체 경우의 2^n가지\n",
    "    #-1 +1+1+1+1도 가능\n",
    "    # recusive 한 영역 : 매번 + - element을 더 하면서 순서도 넘어간다. 끝까지 도달 했을 때, 검사.(DFS 특징임)\n",
    "\n",
    "    #dfs\n",
    "    #node : sum of 2^n\n",
    "    #함수 정의부분\n",
    "    def dfs(start =0, sum = 0, numbers = numbers, target = target):\n",
    "        nonlocal answer # 함수내 함수를 사용했을 때 밖의 함수에 접근하는 코드\n",
    "        # 탈출 조건\n",
    "        if (start == len(numbers)):\n",
    "            if (sum == target):\n",
    "                answer += 1\n",
    "\n",
    "            return\n",
    "\n",
    "\n",
    "        #recursive 한 부분\n",
    "        dfs(start +1, sum + numbers[start] , numbers, target)\n",
    "        dfs(start +1, sum - numbers[start], numbers, target)\n",
    "\n",
    "    #실행 코드\n",
    "    answer = 0\n",
    "    dfs(0, 0, numbers, target)\n",
    "\n",
    "    return answer\n",
    "\n",
    "\n",
    "\n",
    "numbers, target,result = [1, 1, 1, 1, 1], 3, 5\n",
    "print(solution(numbers, target))\n",
    "\n",
    "numbers, target, result = [4, 1, 2, 1], 4, 2\n",
    "print(solution(numbers, target))\n"
   ]
  },
  {
   "cell_type": "code",
   "execution_count": 12,
   "id": "a4728eb3",
   "metadata": {},
   "outputs": [
    {
     "name": "stdout",
     "output_type": "stream",
     "text": [
      "5\n",
      "2\n"
     ]
    }
   ],
   "source": [
    "#BFS로 짜보기\n",
    "\n",
    "def solution(numbers, target):\n",
    "   \n",
    "\n",
    "    answer = 0\n",
    "    #BFS\n",
    "    q = [0]  #queue for current state of summation : 한  layer씩 내려가면서 현재 모든 경우의 수의 상태를 말해줌.\n",
    "\n",
    "    for n in numbers:\n",
    "        s = [] #현재 state에서 일시적으로 저장할 메모리\n",
    "        for _ in range(len(q)):\n",
    "            x = q.pop() #하나씩 빼오니 BFS의 특징을 가져가는 것.\n",
    "            s.append(x + n)\n",
    "            s.append(x - n)\n",
    "        \n",
    "        q = s.copy()\n",
    "\n",
    "    answer = q.count(target) # 최종 q에는 2^n에 해당하는 모든 sum 경우의 수가 담겨져 있음. 거기서 target에 해당하는 가지수만 찾으면 됨.\n",
    "    return answer\n",
    "\n",
    "\n",
    "\n",
    "numbers, target,result = [1, 1, 1, 1, 1], 3, 5\n",
    "print(solution(numbers, target))\n",
    "\n",
    "numbers, target, result = [4, 1, 2, 1], 4, 2\n",
    "print(solution(numbers, target))\n",
    "\n"
   ]
  },
  {
   "cell_type": "markdown",
   "id": "7a0dc172",
   "metadata": {},
   "source": [
    "### 네트워크\n",
    "* 컴퓨터 A와 컴퓨터 B가 직접적으로 연결되어있고, 컴퓨터 B와 컴퓨터 C가 직접적으로 연결되어 있을 때 컴퓨터 A와 컴퓨터 C도 간접적으로 연결되어 정보를 교환할 수 있습니다. 따라서 컴퓨터 A, B, C는 모두 같은 네트워크 상에 있다고 할 수 있습니다.\n",
    "* 보통 path 가 있다고 표현함.\n",
    "* 컴퓨터의 개수 n, 연결에 대한 정보가 담긴 2차원 배열 computers가 매개변수로 주어질 때, 네트워크의 개수를 return 하도록 solution 함수를 작성하시오.\n",
    "    * 2차원 : nxn\n",
    "    * 연결이 끊기면 다른 네트워크"
   ]
  },
  {
   "cell_type": "markdown",
   "id": "33f43dbd",
   "metadata": {},
   "source": [
    "* DFS 로 path 여부와 노드 개수 세기\n",
    "* network 문제 : graph 만들기 \n",
    "* dfs로 한 반복, path가 끝냈을 대, count 하기. 별다른 탈출문이 필요가 없었다."
   ]
  },
  {
   "cell_type": "code",
   "execution_count": 39,
   "id": "8f4f0ff6",
   "metadata": {},
   "outputs": [
    {
     "name": "stdout",
     "output_type": "stream",
     "text": [
      "2\n",
      "2\n"
     ]
    }
   ],
   "source": [
    "\n",
    "def solution(n, computers):\n",
    "\n",
    "    #undirected graph\n",
    "    graph = [[] for _ in range(n) ]\n",
    "\n",
    "    for i in range(n):\n",
    "        for j in range(n):\n",
    "            if computers[i][j] ==1 and i!=j:\n",
    "                graph[i].append(j)\n",
    "\n",
    "\n",
    "    #vistied \n",
    "    visited = [False] * n \n",
    "\n",
    "    #dfs\n",
    "    def dfs( graph, v):\n",
    "        nonlocal visited\n",
    "        \n",
    "        if not visited[v]: visited[v]  =True\n",
    "\n",
    "        for i in graph[v]:\n",
    "            if not visited[i]:\n",
    "                dfs( graph, i)\n",
    "\n",
    "\n",
    "    answer = 0\n",
    "    #dfs and counting path\n",
    "    for node in range(n):\n",
    "        if not visited[node]:\n",
    "            dfs(graph, node)\n",
    "            answer +=1\n",
    "\n",
    "    return answer\n",
    "\n",
    "\n",
    "n, computers , result = 3 , \t[[1, 1, 0], [1, 1, 0], [0, 0, 1]] ,2\n",
    "print(solution(n, computers))\n",
    "\n",
    "\n",
    "n, computers , result = 3 , \t[[1, 0, 1], [0, 1, 0], [1, 0, 1]] ,2\n",
    "print(solution(n, computers))"
   ]
  },
  {
   "cell_type": "markdown",
   "id": "000d93f3",
   "metadata": {},
   "source": [
    "### 게임 맵 최단 거리 level 2\n",
    "\n",
    "* 게임 맵의 상태 maps가 매개변수로 주어질 때, 캐릭터가 상대 팀 진영에 도착하기 위해서 지나가야 하는 칸의 개수의 최솟값을 return 하도록 solution 함수를 완성해주세요. 단, 상대 팀 진영에 도착할 수 없을 때는 -1을 return 해주세요.\n",
    "\n",
    "\n",
    "\n",
    "### BFS : 최단 경로 보장\n",
    "* 단, 상대 진영에서 다른 곳으로도 이동 가능하지만, 최단 경로를 보장하면서 상대 진영 도착은 맞음.\n",
    "\n"
   ]
  },
  {
   "cell_type": "code",
   "execution_count": 33,
   "id": "66871a54",
   "metadata": {},
   "outputs": [
    {
     "data": {
      "text/plain": [
       "True"
      ]
     },
     "execution_count": 33,
     "metadata": {},
     "output_type": "execute_result"
    }
   ],
   "source": [
    "\n",
    "visited =[[0] * m] * n  # 쓰면 안되는 이유. 복사라서 전체 다 반영. : 반복된 부분들이 모두 같은 객체이다."
   ]
  },
  {
   "cell_type": "code",
   "execution_count": 53,
   "id": "dfa58530",
   "metadata": {},
   "outputs": [
    {
     "name": "stdout",
     "output_type": "stream",
     "text": [
      "[[1, 0, 9, 10, 11], [2, 0, 8, 0, 10], [3, 0, 7, 8, 9], [4, 5, 6, 0, 10], [0, 0, 0, 0, 11]]\n",
      "11\n",
      "[[1, 0, 9, 10, 11], [2, 0, 8, 0, 10], [3, 0, 7, 8, 9], [4, 5, 6, 0, 0], [0, 0, 0, 0, 1]]\n",
      "-1\n"
     ]
    }
   ],
   "source": [
    "\n",
    "# bfs로 풀기 : 가장 짧은 경로가 가장 먼저 도착함.\n",
    "# 경로 거리 counting하기\n",
    "# 동서남북 이동 가능, out of range인지 확인할 것.\n",
    "\n",
    "from collections import deque\n",
    "def solution(maps):\n",
    "\n",
    "    n = len(maps)\n",
    "    m = len(maps[0])\n",
    "    \n",
    "    visited = [[0 for _ in range(m)] for _ in range(n)]  # 2차열 배열 \n",
    "\n",
    "\n",
    "    # move\n",
    "    move = [[1, 0] , [-1, 0], [0, 1], [0, -1]]\n",
    "    q = deque() # current position\n",
    "\n",
    "    q.append((0,0))\n",
    "    while(q):\n",
    "\n",
    "        cur = q.popleft()\n",
    "        visited[cur[0]][cur[1]] = 1\n",
    "\n",
    "        #next move\n",
    "        for d in move: # this is bfs\n",
    "            \n",
    "            #next position index\n",
    "            x = cur[0] + d[0]\n",
    "            y = cur[1] + d[1]\n",
    "\n",
    "            # in map\n",
    "            if (0 <= x < n ) and ( 0<= y < m):\n",
    "\n",
    "                if visited[x][y] ==0  and maps[x][y] == 1: # not visisted and have path\n",
    "                    visited[x][y] = 1 # visit\n",
    "                    \n",
    "                    maps[x][y] = maps[cur[0]][cur[1]] +1 # make move\n",
    "                    q.append((x,y)) # update current position\n",
    "    \n",
    "    if visited[n-1][m-1] == 0:\n",
    "        return -1\n",
    "    else: return maps[n-1][m-1]\n",
    "\n",
    "                    \n",
    "\n",
    "maps = [[1,0,1,1,1],[1,0,1,0,1],[1,0,1,1,1],[1,1,1,0,1],[0,0,0,0,1]]\t\n",
    "\n",
    "print(solution(maps))\n",
    "maps = [[1,0,1,1,1],[1,0,1,0,1],[1,0,1,1,1],[1,1,1,0,0],[0,0,0,0,1]]\n",
    "print(solution(maps))"
   ]
  },
  {
   "cell_type": "markdown",
   "id": "1b00a6dd",
   "metadata": {},
   "source": [
    "### 여행 경로 level 3\n",
    "\n",
    "\n",
    "* 주어진 항공권을 모두 이용하여 여행경로를 짜려고 합니다. 항상 \"ICN\" 공항에서 출발합니다.\n",
    "* 항공권 정보가 담긴 2차원 배열 tickets가 매개변수로 주어질 때, 방문하는 공항 경로를 배열에 담아 return 하도록 solution 함수를 작성해주세요.\n",
    "* 주어진 항공권은 모두 사용해야 합니다. : \n",
    "* 만일 가능한 경로가 2개 이상일 경우 알파벳 순서가 앞서는 경로를 return 합니다.\n",
    "* 든 도시를 방문할 수 없는 경우는 주어지지 않습니다. : 모든 도시를 방문하는 path를 짜라는 것.\n",
    "\n",
    "#### Idea\n",
    "* graph 만들기\n",
    "* DFS로 path 타고 가면서 node 저장하기\n",
    "* 모든 도시 방문 여부 모두 True 일때 종료.\n"
   ]
  },
  {
   "cell_type": "markdown",
   "id": "e2064687",
   "metadata": {},
   "source": [
    "### 단어 변환 level 3\n",
    "* 두 개의 단어 begin, target과 단어의 집합 words가 매개변수로 주어질 때, 최소 몇 단계의 과정을 거쳐 begin을 target으로 변환할 수 있는지 return 하도록 solution 함수를 작성해주세요.\n",
    "\n",
    "#### 최소 경로 보장 : BFS + 탈출 조건을 잘 생각해보자\n"
   ]
  },
  {
   "cell_type": "code",
   "execution_count": 1,
   "id": "43d5cb33",
   "metadata": {},
   "outputs": [
    {
     "name": "stdout",
     "output_type": "stream",
     "text": [
      "4\n"
     ]
    }
   ],
   "source": [
    "from collections import deque\n",
    "def solution(begin, target, words):\n",
    "    answer = 0\n",
    "    \n",
    "    #최소 : 목적지까지 가는 최소 경로\n",
    "    # BFS는 도착이 최단 경로임을 보장함.\n",
    "    def num_diff(a, b): #다른 개수 세기\n",
    "        cnt = 0\n",
    "        for i in range(len(a)):\n",
    "            if a[i] != b[i]:\n",
    "                cnt +=1\n",
    "        return cnt\n",
    "            \n",
    "    count = {w: 0 for w in words}\n",
    "\n",
    "    if target not in words: #words에서 아예 없다면\n",
    "        return 0\n",
    "    else: #있다면\n",
    "        q= deque([begin])\n",
    "        count[begin] = 0\n",
    "        while(q):\n",
    "            cur = q.popleft()\n",
    "            for w in words:\n",
    "                if num_diff(cur, w) == 1 and (count[w]==0): #다른 글자가 1개고, 방문X\n",
    "                    q.append(w)\n",
    "                    count[w] = count[cur] + 1\n",
    "        \n",
    "        return count[target]\n",
    "        \n",
    "        \n",
    "begin, target, words = \"hit\" , \"cog\", [\"hot\", \"dot\", \"dog\", \"lot\", \"log\", \"cog\"]\t\n",
    "print(solution(begin, target, words))\n",
    "        \n"
   ]
  },
  {
   "cell_type": "markdown",
   "id": "ecc86b68",
   "metadata": {},
   "source": []
  },
  {
   "cell_type": "markdown",
   "id": "5afbb11d-76ac-46e5-99f8-1f190f89ad09",
   "metadata": {},
   "source": [
    "## BFT (Breadth-first Traversal)\n",
    "\n",
    "### Implement BFT for graph\n",
    "*  implementation of a graph given\n",
    "\n",
    "* childs = neighbors"
   ]
  },
  {
   "cell_type": "code",
   "execution_count": 33,
   "id": "efe2a389-a274-4f1c-9c60-5c261410f123",
   "metadata": {},
   "outputs": [],
   "source": [
    "from collections import deque\n",
    "\n",
    "class undi_graph():\n",
    "    def __init__(self, V: list, E:list) -> None :\n",
    "        self.V = V[:]\n",
    "        self.neighbors = {}\n",
    "\n",
    "        for v in V:\n",
    "            self.neighbors[v] = []\n",
    "\n",
    "        for(v,w) in E:\n",
    "            self.neighbors[v].append(w)\n",
    "            self.neighbors[w].append(v)\n",
    "\n",
    "    def BFT(self) -> None : #\n",
    "        if self.V : \n",
    "            visited = {}\n",
    "            #######################################\n",
    "            # write your code \n",
    "\n",
    "            # BFT : visit all connted unvisited node from there\n",
    "            # visited is a dictionary that marks visited nodes as True\n",
    "\n",
    "            for v in self.V:\n",
    "                visited[v] = False\n",
    "            #not recursively : visit negibors first\n",
    "                \n",
    "            for v in self.V:\n",
    "                q = deque()\n",
    "                q.append(v) #initial\n",
    "                \n",
    "                while q:\n",
    "                     \n",
    "                    #visit\n",
    "                    v  = q.popleft()\n",
    "\n",
    "                    #check visited\n",
    "                    if not visited[v]:\n",
    "                        visited[v] = True\n",
    "                        print(v, end =\" \")\n",
    "                    \n",
    "                    # save its neighbors if they not visited\n",
    "                    for w in self.neighbors[v]: # 공간 사용이 이게 더 적음.\n",
    "                        if not visited[w]:\n",
    "                            q.append(w)\n",
    "           \n",
    "\n",
    "            \n",
    "            #######################################\n",
    "\n",
    "\n",
    "    #preorder\n",
    "    def __DFTHelp(self, visited:list, v:int) -> None:\n",
    "        if not visited[v]:\n",
    "            visited[v] = True\n",
    "            print(v)\n",
    "            for w in self.neighbors[v]:\n",
    "                self.__DFTHelp(visited, w)\n",
    "\n",
    "    def DFT(self) -> None:\n",
    "        if self.V:\n",
    "            visited = {}\n",
    "\n",
    "            #initialization\n",
    "            for v in self.V:\n",
    "                visited[v] = False\n",
    "            #DFT\n",
    "            for v in self.V:\n",
    "                self.__DFTHelp(visited, v)\n"
   ]
  },
  {
   "cell_type": "code",
   "execution_count": 34,
   "id": "d8a0531f-8b52-4695-b5b4-dfbdf1f540ce",
   "metadata": {},
   "outputs": [
    {
     "name": "stdout",
     "output_type": "stream",
     "text": [
      "0 1 4 5 6 7 9 8 2 3 "
     ]
    }
   ],
   "source": [
    "V = [0,1,2,3,4,5,6,7,8,9]\n",
    "E = [(0,1),(1,4),(1,5),(2,3),(4,6),(5,6),(5,7),(6,9),(7,8)]\n",
    "\n",
    "graph = undi_graph(V,E)\n",
    "graph.BFT()"
   ]
  }
 ],
 "metadata": {
  "kernelspec": {
   "display_name": "Python 3 (ipykernel)",
   "language": "python",
   "name": "python3"
  },
  "language_info": {
   "codemirror_mode": {
    "name": "ipython",
    "version": 3
   },
   "file_extension": ".py",
   "mimetype": "text/x-python",
   "name": "python",
   "nbconvert_exporter": "python",
   "pygments_lexer": "ipython3",
   "version": "3.9.6"
  }
 },
 "nbformat": 4,
 "nbformat_minor": 5
}
