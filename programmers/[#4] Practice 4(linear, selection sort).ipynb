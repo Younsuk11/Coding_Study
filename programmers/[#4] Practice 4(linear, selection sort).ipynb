{
 "cells": [
  {
   "cell_type": "markdown",
   "id": "c11fbe3f",
   "metadata": {},
   "source": [
    "# Practice 1. Cutting Candles\n",
    "\n",
    "There are some candles and a cutter which trims in a fixed length. To make a new candle, the leftover portions of the cut candles will be used.  \n",
    "Given a list of candle lengths(candles) and the desired length(n) for a new candle, write a function(findLength) to find cutting length for cutter.\n",
    "\n",
    "### Conditions\n",
    "* Cutter will be used only once.\n",
    "* Consider only integers.\n",
    "* If it is not possible to find the cutting length, the function will return -1."
   ]
  },
  {
   "cell_type": "code",
   "execution_count": 4,
   "id": "5ecb2298",
   "metadata": {
    "id": "5ecb2298"
   },
   "outputs": [],
   "source": [
    "#찾은 cutter의 길이로 자르고 남은 길이들의 합이 n과 같을 때의 cutter의 길이를 반환\n",
    "\n",
    "def findLength(candles: list, n: int) -> int:\n",
    "    # Write your code here\n",
    "   \n",
    "    candles.sort()\n",
    "    #seach -> linear search\n",
    "    for l in range(candles[0], candles[-1]+1,1):\n",
    "        sum = 0\n",
    "        for c in candles:\n",
    "            if c > l:\n",
    "                sum += c-l\n",
    "        if sum == n: return l\n",
    "    \n",
    "    return -1\n"
   ]
  },
  {
   "cell_type": "markdown",
   "id": "3ybqIgHySR6h",
   "metadata": {
    "id": "3ybqIgHySR6h"
   },
   "source": [
    "## Test Case 1"
   ]
  },
  {
   "cell_type": "code",
   "execution_count": 5,
   "id": "b0e300e0",
   "metadata": {
    "colab": {
     "base_uri": "https://localhost:8080/"
    },
    "executionInfo": {
     "elapsed": 14,
     "status": "ok",
     "timestamp": 1696570667543,
     "user": {
      "displayName": "­한예규 / 학생 / 데이터사이언스학과",
      "userId": "05941801331185193821"
     },
     "user_tz": -540
    },
    "id": "b0e300e0",
    "outputId": "2cda1842-464a-4266-9ea0-5db77ed6dc2f"
   },
   "outputs": [
    {
     "name": "stdout",
     "output_type": "stream",
     "text": [
      "15\n"
     ]
    }
   ],
   "source": [
    "#Check whether your function works well\n",
    "candleList = [20, 15, 10, 7]\n",
    "print(findLength(candleList, 5))"
   ]
  },
  {
   "cell_type": "markdown",
   "id": "TyY0IzCCSgDM",
   "metadata": {
    "id": "TyY0IzCCSgDM"
   },
   "source": [
    "## Test Case 2"
   ]
  },
  {
   "cell_type": "code",
   "execution_count": 6,
   "id": "yoWvBM-rSftv",
   "metadata": {
    "colab": {
     "base_uri": "https://localhost:8080/"
    },
    "executionInfo": {
     "elapsed": 11,
     "status": "ok",
     "timestamp": 1696570667543,
     "user": {
      "displayName": "­한예규 / 학생 / 데이터사이언스학과",
      "userId": "05941801331185193821"
     },
     "user_tz": -540
    },
    "id": "yoWvBM-rSftv",
    "outputId": "0cb01522-26b2-4d41-a20e-59fd6d15b43d"
   },
   "outputs": [
    {
     "name": "stdout",
     "output_type": "stream",
     "text": [
      "14\n"
     ]
    }
   ],
   "source": [
    "#Check whether your function works well\n",
    "candleList = [7, 16, 32, 5, 20]\n",
    "print(findLength(candleList, 26))"
   ]
  },
  {
   "cell_type": "markdown",
   "id": "-ibQlbiGSjw8",
   "metadata": {
    "id": "-ibQlbiGSjw8"
   },
   "source": [
    "## Test Case 3"
   ]
  },
  {
   "cell_type": "code",
   "execution_count": 7,
   "id": "0gc6G1wMSoNi",
   "metadata": {
    "colab": {
     "base_uri": "https://localhost:8080/"
    },
    "executionInfo": {
     "elapsed": 9,
     "status": "ok",
     "timestamp": 1696570667544,
     "user": {
      "displayName": "­한예규 / 학생 / 데이터사이언스학과",
      "userId": "05941801331185193821"
     },
     "user_tz": -540
    },
    "id": "0gc6G1wMSoNi",
    "outputId": "3f927d0f-b181-4247-ccd7-b48cf02da2bf"
   },
   "outputs": [
    {
     "name": "stdout",
     "output_type": "stream",
     "text": [
      "-1\n"
     ]
    }
   ],
   "source": [
    "#Check whether your function works well\n",
    "candleList = [25, 17, 56]\n",
    "print(findLength(candleList, 36))"
   ]
  },
  {
   "cell_type": "markdown",
   "id": "9d5bbc10",
   "metadata": {},
   "source": [
    "# Practice 2. Intermediate Steps of Selection Sort\n",
    "\n",
    "Write function print_selection that prints list immediate result at Kth iteration during selection sort.\n",
    "\n",
    "### Condition\n",
    "* If K is larger than length of list, function prints -1\n"
   ]
  },
  {
   "cell_type": "code",
   "execution_count": 20,
   "id": "0d4504ec",
   "metadata": {},
   "outputs": [],
   "source": [
    "def print_selection(L:list, k:int) -> None:\n",
    "    # Write your code here\n",
    "    #selection sort : find minimum and swap\n",
    "    \n",
    "\n",
    "    if k > len(L): print(-1)\n",
    "\n",
    "    else:\n",
    "        #copy list #원본 리스트는 그대롣 두자\n",
    "        L_copy = L[:]\n",
    "\n",
    "        for i in range(len(L_copy)):\n",
    "\n",
    "            #find minium\n",
    "            min_idx = i\n",
    "            for idx in range(i+1, len(L)):\n",
    "                if L_copy[idx] < L_copy[min_idx]:\n",
    "                    min_idx = idx\n",
    "\n",
    "            #swap\n",
    "            L_copy[i], L_copy[min_idx] = L_copy[min_idx], L_copy[i]\n",
    "            \n",
    "            if i+1 == k:\n",
    "                print(L_copy)\n",
    "    \n",
    "    "
   ]
  },
  {
   "cell_type": "markdown",
   "id": "da936abc",
   "metadata": {},
   "source": [
    "## Test Case"
   ]
  },
  {
   "cell_type": "code",
   "execution_count": 21,
   "id": "8b42f706",
   "metadata": {},
   "outputs": [
    {
     "name": "stdout",
     "output_type": "stream",
     "text": [
      "[1, 5, 9, 7, 3]\n",
      "[1, 3, 9, 7, 5]\n",
      "[1, 3, 5, 7, 9]\n",
      "[1, 3, 5, 7, 9]\n",
      "[1, 3, 5, 7, 9]\n",
      "-1\n"
     ]
    }
   ],
   "source": [
    "#Check whether your function works well\n",
    "numList = [7, 5, 9, 1, 3]\n",
    "print_selection(numList, 1)\n",
    "print_selection(numList, 2)\n",
    "print_selection(numList, 3)\n",
    "print_selection(numList, 4)\n",
    "print_selection(numList, 5)\n",
    "print_selection(numList, 6)"
   ]
  }
 ],
 "metadata": {
  "colab": {
   "provenance": []
  },
  "kernelspec": {
   "display_name": "Python 3 (ipykernel)",
   "language": "python",
   "name": "python3"
  },
  "language_info": {
   "codemirror_mode": {
    "name": "ipython",
    "version": 3
   },
   "file_extension": ".py",
   "mimetype": "text/x-python",
   "name": "python",
   "nbconvert_exporter": "python",
   "pygments_lexer": "ipython3",
   "version": "3.11.4"
  }
 },
 "nbformat": 4,
 "nbformat_minor": 5
}
