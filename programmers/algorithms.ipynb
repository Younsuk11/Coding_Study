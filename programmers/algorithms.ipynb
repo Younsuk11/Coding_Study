{
 "cells": [
  {
   "cell_type": "markdown",
   "metadata": {},
   "source": [
    "# Searching"
   ]
  },
  {
   "cell_type": "markdown",
   "metadata": {},
   "source": [
    "## linear search\n",
    "* O(L)"
   ]
  },
  {
   "cell_type": "code",
   "execution_count": null,
   "metadata": {},
   "outputs": [],
   "source": [
    "#찾은 cutter의 길이로 자르고 남은 길이들의 합이 n과 같을 때의 cutter의 길이를 반환\n",
    "\n",
    "def findLength(candles: list, n: int) -> int:\n",
    "    # Write your code here\n",
    "   \n",
    "    candles.sort()\n",
    "    #seach -> linear search\n",
    "    for l in range(candles[0], candles[-1]+1,1):\n",
    "        sum = 0\n",
    "        for c in candles:\n",
    "            if c > l:\n",
    "                sum += c-l\n",
    "        if sum == n: return l\n",
    "    \n",
    "    return -1\n"
   ]
  },
  {
   "cell_type": "code",
   "execution_count": null,
   "metadata": {},
   "outputs": [],
   "source": [
    "def linear_search_while(L, value):\n",
    "    i = 0\n",
    "\n",
    "    while (i < len(L) and L[i] !=value):\n",
    "        i +=1\n",
    "        \n",
    "    if i == len(L) : return -1\n",
    "    else: return i\n",
    "\n",
    "def linear_search_sentinel(L, value): # remove i< len(L)\n",
    "\n",
    "    L.append(value)\n",
    "\n",
    "    i = 0\n",
    "    while L[i] != value:\n",
    "        i += 1\n",
    "    \n",
    "    L.pop() # last out\n",
    "    if i == len(L): return -1\n",
    "    else: return i\n",
    "\n",
    "\n",
    "def linear_search_forloop(L, value):\n",
    "    for i in range(len(L)):\n",
    "        if L[i] == value:\n",
    "            return i\n",
    "        \n",
    "    return -1"
   ]
  },
  {
   "cell_type": "markdown",
   "metadata": {},
   "source": [
    "# BFT, DFT"
   ]
  },
  {
   "cell_type": "markdown",
   "metadata": {},
   "source": [
    "## Tree"
   ]
  },
  {
   "cell_type": "markdown",
   "metadata": {},
   "source": [
    "## Graph"
   ]
  },
  {
   "cell_type": "code",
   "execution_count": null,
   "metadata": {},
   "outputs": [],
   "source": [
    "from collections import deque\n",
    "\n",
    "class undi_graph():\n",
    "    def __init__(self, V: list, E:list) -> None :\n",
    "        self.V = V[:]\n",
    "        self.neighbors = {}\n",
    "\n",
    "        for v in V:\n",
    "            self.neighbors[v] = []\n",
    "\n",
    "        for(v,w) in E:\n",
    "            self.neighbors[v].append(w)\n",
    "            self.neighbors[w].append(v)\n",
    "\n",
    "    def BFT(self) -> None : #\n",
    "        if self.V : \n",
    "            visited = {}\n",
    "            #######################################\n",
    "            # write your code \n",
    "\n",
    "            # BFT : visit all connted unvisited node from there\n",
    "            # visited is a dictionary that marks visited nodes as True\n",
    "\n",
    "            for v in self.V:\n",
    "                visited[v] = False\n",
    "            #not recursively : visit negibors first\n",
    "                \n",
    "            for v in self.V:\n",
    "                q = deque()\n",
    "                q.append(v) #initial\n",
    "                \n",
    "                while q:\n",
    "                     \n",
    "                    #visit\n",
    "                    v  = q.popleft()\n",
    "\n",
    "                    #check visited\n",
    "                    if not visited[v]:\n",
    "                        visited[v] = True\n",
    "                        print(v, end =\" \")\n",
    "                    \n",
    "                    # save its neighbors if they not visited\n",
    "                    for w in self.neighbors[v]: # 공간 사용이 이게 더 적음.\n",
    "                        if not visited[w]:\n",
    "                            q.append(w)\n",
    "           \n",
    "\n",
    "            \n",
    "            #######################################\n",
    "\n",
    "\n",
    "    #preorder\n",
    "    def __DFTHelp(self, visited:list, v:int) -> None:\n",
    "        if not visited[v]:\n",
    "            visited[v] = True\n",
    "            print(v)\n",
    "            for w in self.neighbors[v]:\n",
    "                self.__DFTHelp(visited, w)\n",
    "\n",
    "    def DFT(self) -> None:\n",
    "        if self.V:\n",
    "            visited = {}\n",
    "\n",
    "            #initialization\n",
    "            for v in self.V:\n",
    "                visited[v] = False\n",
    "            #DFT\n",
    "            for v in self.V:\n",
    "                self.__DFTHelp(visited, v)\n"
   ]
  }
 ],
 "metadata": {
  "kernelspec": {
   "display_name": "Python 3",
   "language": "python",
   "name": "python3"
  },
  "language_info": {
   "codemirror_mode": {
    "name": "ipython",
    "version": 3
   },
   "file_extension": ".py",
   "mimetype": "text/x-python",
   "name": "python",
   "nbconvert_exporter": "python",
   "pygments_lexer": "ipython3",
   "version": "3.9.6"
  }
 },
 "nbformat": 4,
 "nbformat_minor": 2
}
