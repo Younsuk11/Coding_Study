{
 "cells": [
  {
   "cell_type": "markdown",
   "metadata": {},
   "source": [
    "# Searching"
   ]
  },
  {
   "cell_type": "markdown",
   "metadata": {},
   "source": [
    "## linear search\n",
    "* O(L)"
   ]
  },
  {
   "cell_type": "code",
   "execution_count": null,
   "metadata": {},
   "outputs": [],
   "source": [
    "#찾은 cutter의 길이로 자르고 남은 길이들의 합이 n과 같을 때의 cutter의 길이를 반환\n",
    "\n",
    "def findLength(candles: list, n: int) -> int:\n",
    "    # Write your code here\n",
    "   \n",
    "    candles.sort()\n",
    "    #seach -> linear search\n",
    "    for l in range(candles[0], candles[-1]+1,1):\n",
    "        sum = 0\n",
    "        for c in candles:\n",
    "            if c > l:\n",
    "                sum += c-l\n",
    "        if sum == n: return l\n",
    "    \n",
    "    return -1\n"
   ]
  },
  {
   "cell_type": "code",
   "execution_count": null,
   "metadata": {},
   "outputs": [],
   "source": [
    "def linear_search_while(L, value):\n",
    "    i = 0\n",
    "\n",
    "    while (i < len(L) and L[i] !=value):\n",
    "        i +=1\n",
    "        \n",
    "    if i == len(L) : return -1\n",
    "    else: return i\n",
    "\n",
    "def linear_search_sentinel(L, value): # remove i< len(L)\n",
    "\n",
    "    L.append(value)\n",
    "\n",
    "    i = 0\n",
    "    while L[i] != value:\n",
    "        i += 1\n",
    "    \n",
    "    L.pop() # last out\n",
    "    if i == len(L): return -1\n",
    "    else: return i\n",
    "\n",
    "\n",
    "def linear_search_forloop(L, value):\n",
    "    for i in range(len(L)):\n",
    "        if L[i] == value:\n",
    "            return i\n",
    "        \n",
    "    return -1"
   ]
  },
  {
   "cell_type": "markdown",
   "metadata": {},
   "source": [
    "## Binary search : O(logL)\n",
    "* L 이 sorted 라면 : using sorted(L)\n",
    "* 가운데 인덱스를 기준으로 크다면 왼쪽, 작다면 오른쪽을 검사\n",
    "* candidate 반을 날린다는 느낌."
   ]
  },
  {
   "cell_type": "code",
   "execution_count": null,
   "metadata": {},
   "outputs": [],
   "source": [
    "# sorted(L)\n",
    "\n",
    "def binary_search(L, value):\n",
    "\n",
    "    start, end = 0, len(L) -1\n",
    "\n",
    "\n",
    "    while(start != end+1): \n",
    "        mid = (start + end) // 2 # 몫이니까 짝수개면 작은쪽이 mid\n",
    "\n",
    "        if value > L[mid] : \n",
    "            start  = mid +1\n",
    "        \n",
    "        else:\n",
    "            end = mid -1\n",
    "\n",
    "    \n",
    "    if (start < len(L)) and (L[start] == value): return start\n",
    "    else: return -1\n",
    "\n"
   ]
  },
  {
   "cell_type": "markdown",
   "metadata": {},
   "source": [
    "# Sorting"
   ]
  },
  {
   "cell_type": "markdown",
   "metadata": {},
   "source": [
    "## selection sorting\n",
    "* 정렬이 안된 곳에서 최소값을 찾아 앞으로 가져온다.\n",
    "* O(N^2)"
   ]
  },
  {
   "cell_type": "code",
   "execution_count": null,
   "metadata": {},
   "outputs": [],
   "source": [
    "def print_selection(L:list, k:int) -> None:\n",
    "    # Write your code here\n",
    "    #selection sort : find minimum and swap\n",
    "    \n",
    "\n",
    "    if k > len(L): print(-1)\n",
    "\n",
    "    else:\n",
    "        #copy list #원본 리스트는 그대롣 두자\n",
    "        L_copy = L[:]\n",
    "\n",
    "        for i in range(len(L_copy)):\n",
    "\n",
    "            #find minium\n",
    "            min_idx = i\n",
    "            for idx in range(i+1, len(L)):\n",
    "                if L_copy[idx] < L_copy[min_idx]:\n",
    "                    min_idx = idx\n",
    "\n",
    "            #swap\n",
    "            L_copy[i], L_copy[min_idx] = L_copy[min_idx], L_copy[i]\n",
    "            \n",
    "            if i+1 == k:\n",
    "                print(L_copy)\n",
    "                \n",
    "#Check whether your function works well\n",
    "numList = [7, 5, 9, 1, 3]\n",
    "print_selection(numList, 1)\n",
    "print_selection(numList, 2)\n",
    "print_selection(numList, 3)\n",
    "print_selection(numList, 4)\n",
    "print_selection(numList, 5)\n",
    "print_selection(numList, 6)"
   ]
  },
  {
   "cell_type": "markdown",
   "metadata": {},
   "source": [
    "## insertion sorting\n",
    "* 대부분 sorted 되었을 때, 정렬이 안된 부분의 가장 왼쪽부터 적절한 위치에 넣는다.\n",
    "* best : 하나만 linear로 위치를 찾으면 끝. : O(KN)\n",
    "* 거의 정렬되었을 때는 selection sort보다 빠름."
   ]
  },
  {
   "cell_type": "code",
   "execution_count": null,
   "metadata": {},
   "outputs": [],
   "source": [
    "def insertion_sorting(L):\n",
    "    \n",
    "    for i in range(1, len(L)):#leftmost of unsorted part L[i] : current position\n",
    "\n",
    "        for j in range(i, 0, -1): # sorted part : backward  \n",
    "            if L[j] < L[j-1]:\n",
    "                L[j] , L[j-1] = L[j-1], L[j] # 한칸씩 자리 이동\n",
    "\n",
    "            else: break #대수 비교 맞을 때, 여기서 종료"
   ]
  },
  {
   "cell_type": "markdown",
   "metadata": {},
   "source": [
    "## Merge sorting\n"
   ]
  },
  {
   "cell_type": "markdown",
   "metadata": {},
   "source": [
    "* 둘로 나누고, 정렬 후, 다시 합친다.\n",
    "    * 나눈다.\n",
    "    * 정렬한다. : merge sort\n",
    "    * 합친다.\n",
    "* Recursively\n",
    "* 정렬 시 다시 merge sort 사용\n",
    "* 합친다 : 각각 sublist의 leftmost를 비교 후, 작은 것만 올리고 큰것은 남기고\n",
    "\n",
    "* time : O(NlogN)\n",
    "* memory : O(N)"
   ]
  },
  {
   "cell_type": "code",
   "execution_count": null,
   "metadata": {},
   "outputs": [],
   "source": [
    "# sorting\n",
    "def merge(L, first, mid, last):\n",
    "    k = first  #current index of L\n",
    "\n",
    "    sub1 = L[first : mid+1]\n",
    "    sub2 = L[mid+1 : last +1]\n",
    "\n",
    "    i = j= 0 # indexing for each sub list\n",
    "\n",
    "    while(i < len(sub1) and j < len(sub2)):\n",
    "        \n",
    "        if sub1[i] <= sub2[j]:\n",
    "            L[k] = sub1[i]\n",
    "            i+=1\n",
    "        else:\n",
    "            L[k] = sub2[j]\n",
    "            j+= 1\n",
    "        \n",
    "        k+=1\n",
    "\n",
    "    # index i, j stop in sub list \n",
    "    #남은 것들\n",
    "    if i < len(sub1):\n",
    "        L[k:last+1] = sub1[i:]\n",
    "    \n",
    "    if j < len(sub2):\n",
    "        L[k : last +1]  = sub2[j:]\n",
    "\n",
    "\n",
    "def mergeSort(L):\n",
    "    mergeSortHelp(L, 0, len(L)-1)\n",
    "\n",
    "\n",
    "def mergeSortHelp(L, first, last):\n",
    "\n",
    "    #condition\n",
    "    if first == last:\n",
    "        return # base case\n",
    "    \n",
    "    else:\n",
    "        mid = first + (last - first) // 2\n",
    "\n",
    "        #반절식 나눠서 sorting\n",
    "        mergeSortHelp(L, first, mid)\n",
    "        mergeSortHelp(L, mid+1, last)\n",
    "        merge(L, first, mid, last)\n",
    "\n",
    "\n"
   ]
  },
  {
   "cell_type": "markdown",
   "metadata": {},
   "source": [
    "# BFT, DFT"
   ]
  },
  {
   "cell_type": "markdown",
   "metadata": {},
   "source": [
    "## Tree"
   ]
  },
  {
   "cell_type": "markdown",
   "metadata": {},
   "source": [
    "## Graph"
   ]
  },
  {
   "cell_type": "code",
   "execution_count": null,
   "metadata": {},
   "outputs": [],
   "source": [
    "from collections import deque\n",
    "\n",
    "class undi_graph():\n",
    "    def __init__(self, V: list, E:list) -> None :\n",
    "        self.V = V[:]\n",
    "        self.neighbors = {}\n",
    "\n",
    "        for v in V:\n",
    "            self.neighbors[v] = []\n",
    "\n",
    "        for(v,w) in E:\n",
    "            self.neighbors[v].append(w)\n",
    "            self.neighbors[w].append(v)\n",
    "\n",
    "    def BFT(self) -> None : #\n",
    "        if self.V : \n",
    "            visited = {}\n",
    "            #######################################\n",
    "            # write your code \n",
    "\n",
    "            # BFT : visit all connted unvisited node from there\n",
    "            # visited is a dictionary that marks visited nodes as True\n",
    "\n",
    "            for v in self.V:\n",
    "                visited[v] = False\n",
    "            #not recursively : visit negibors first\n",
    "                \n",
    "            for v in self.V:\n",
    "                q = deque()\n",
    "                q.append(v) #initial\n",
    "                \n",
    "                while q:\n",
    "                     \n",
    "                    #visit\n",
    "                    v  = q.popleft()\n",
    "\n",
    "                    #check visited\n",
    "                    if not visited[v]:\n",
    "                        visited[v] = True\n",
    "                        print(v, end =\" \")\n",
    "                    \n",
    "                    # save its neighbors if they not visited\n",
    "                    for w in self.neighbors[v]: # 공간 사용이 이게 더 적음.\n",
    "                        if not visited[w]:\n",
    "                            q.append(w)\n",
    "           \n",
    "\n",
    "            \n",
    "            #######################################\n",
    "\n",
    "\n",
    "    #preorder\n",
    "    def __DFTHelp(self, visited:list, v:int) -> None:\n",
    "        if not visited[v]:\n",
    "            visited[v] = True\n",
    "            print(v)\n",
    "            for w in self.neighbors[v]:\n",
    "                self.__DFTHelp(visited, w)\n",
    "\n",
    "    def DFT(self) -> None:\n",
    "        if self.V:\n",
    "            visited = {}\n",
    "\n",
    "            #initialization\n",
    "            for v in self.V:\n",
    "                visited[v] = False\n",
    "            #DFT\n",
    "            for v in self.V:\n",
    "                self.__DFTHelp(visited, v)\n"
   ]
  }
 ],
 "metadata": {
  "kernelspec": {
   "display_name": "Python 3",
   "language": "python",
   "name": "python3"
  },
  "language_info": {
   "codemirror_mode": {
    "name": "ipython",
    "version": 3
   },
   "file_extension": ".py",
   "mimetype": "text/x-python",
   "name": "python",
   "nbconvert_exporter": "python",
   "pygments_lexer": "ipython3",
   "version": "3.9.6"
  }
 },
 "nbformat": 4,
 "nbformat_minor": 2
}
