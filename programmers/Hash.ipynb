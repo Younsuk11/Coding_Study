{
 "cells": [
  {
   "cell_type": "markdown",
   "metadata": {},
   "source": [
    "# 해쉬(Hash)"
   ]
  },
  {
   "cell_type": "markdown",
   "metadata": {},
   "source": [
    "## level1\n",
    "\n",
    "###  폰켓못\n",
    "* 총 N 마리의 폰켓몬 중에서 N/2마리를 가져가도 좋다고 했습니다.\n",
    "* 따라서 같은 종류의 폰켓몬은 같은 번호를 가지고 있습니다\n",
    "* 당신은 최대한 다양한 종류의 폰켓몬을 가지길 원하기 때문에, 최대한 많은 종류의 폰켓몬을 포함해서 N/2마리를 선택하려 합니다\n",
    "* NC(N/2)를 하려고 할때,  최대한 많은 종류의 폰켓못 선택\n",
    "* 종류 최댓값 반환\n"
   ]
  },
  {
   "cell_type": "code",
   "execution_count": null,
   "metadata": {},
   "outputs": [],
   "source": [
    "def solution(nums):\n",
    "\n",
    "    return min(int(len(nums)/2), len(set(nums)))\n",
    "\n",
    "nums, result = [3,1,2,3], 2\n",
    "\n",
    "solution(nums)"
   ]
  },
  {
   "cell_type": "markdown",
   "metadata": {},
   "source": [
    "### 마라톤\n",
    "* 수많은 마라톤 선수들이 마라톤에 참여하였습니다. 단 한 명의 선수를 제외하고는 모든 선수가 마라톤을 완주하였습니다.\n",
    "\n",
    "* 마라톤에 참여한 선수들의 이름이 담긴 배열 participant와 완주한 선수들의 이름이 담긴 배열 completion이 주어질 때, 완주하지 못한 선수의 이름을 return 하도록 solution 함수를 작성해주세요\n",
    "\n",
    "* 조건 : 참가자 중에 동명이인이 있을 수 있음."
   ]
  },
  {
   "cell_type": "markdown",
   "metadata": {},
   "source": [
    "**collections.Counter(list) : 딕셔너리 형태로 set의 연산이 가능한 유일한 모듈**"
   ]
  },
  {
   "cell_type": "code",
   "execution_count": null,
   "metadata": {},
   "outputs": [],
   "source": [
    "def solution(participant,completion):\n",
    "    return list(set(participant) - set(completion))[0] \n",
    "\n",
    "\n",
    "\n",
    "participant, completion = [\"marina\", \"marina\", \"nikola\", \"vinko\", \"filipa\"], [\"marina\", \"filipa\", \"marina\", \"nikola\"]\n",
    "print(solution(p, c))\n",
    "\n",
    "\n",
    "import collections\n",
    "\n",
    "\n",
    "def solution(participant, completion):\n",
    "    answer = collections.Counter(participant) - collections.Counter(completion) # 딕션너리 형태로 만든 후, set 계산이 가능한게 유일하다.\n",
    "    return list(answer.keys())[0]"
   ]
  },
  {
   "cell_type": "markdown",
   "metadata": {},
   "source": [
    "### prefix 문제"
   ]
  },
  {
   "cell_type": "code",
   "execution_count": null,
   "metadata": {},
   "outputs": [],
   "source": [
    "# prefix 문제 : hash\n",
    "def solution(phone_book):\n",
    "    answer = True\n",
    "    h = {}\n",
    "    for num in phone_book:\n",
    "        h[num] = 0\n",
    "    \n",
    "    for num in phone_book:\n",
    "        for k in h:\n",
    "            # 같은 건 넘어가\n",
    "            if num == k: continue\n",
    "            else:\n",
    "                if num.find(k) == 0:\n",
    "                   answer = False\n",
    "    return answer\n",
    "# 복잡도 통과 X  : hash를 충분이 활용 x\n",
    "\n",
    "\n",
    "# 길이가 작은 것이 기준이 아닌, 큰 것을 기준으로 앞에서 자른다.\n",
    "def solution(phone_book):\n",
    "    answer = True\n",
    "\n",
    "    for num in phone_book:\n",
    "\n",
    "        for i in range(len(num)):\n",
    "            pre = num[:i]\n",
    "            if pre in phone_book:\n",
    "                answer = False\n",
    "    \n",
    "    return answer\n",
    "\n",
    "\n",
    "\n",
    "# startwith method : prefix검사\n",
    "def solution(phoneBook):\n",
    "    phoneBook = sorted(phoneBook) # 길이순으로 정렬\n",
    "\n",
    "    for p1, p2 in zip(phoneBook, phoneBook[1:]): # pairwising : zip 은 각각 하나씩 매칭인데, 개수가 작은 쪽이 기준이 된다.\n",
    "        if p2.startswith(p1):\n",
    "            return False\n",
    "    return True"
   ]
  }
 ],
 "metadata": {
  "language_info": {
   "name": "python"
  }
 },
 "nbformat": 4,
 "nbformat_minor": 2
}
