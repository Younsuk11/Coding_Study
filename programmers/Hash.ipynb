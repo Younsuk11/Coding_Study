{
 "cells": [
  {
   "cell_type": "markdown",
   "metadata": {},
   "source": [
    "# 해쉬(Hash)"
   ]
  },
  {
   "cell_type": "markdown",
   "metadata": {},
   "source": [
    "## level1\n",
    "\n",
    "###  폰켓못\n",
    "* 총 N 마리의 폰켓몬 중에서 N/2마리를 가져가도 좋다고 했습니다.\n",
    "* 따라서 같은 종류의 폰켓몬은 같은 번호를 가지고 있습니다\n",
    "* 당신은 최대한 다양한 종류의 폰켓몬을 가지길 원하기 때문에, 최대한 많은 종류의 폰켓몬을 포함해서 N/2마리를 선택하려 합니다\n",
    "* NC(N/2)를 하려고 할때,  최대한 많은 종류의 폰켓못 선택\n",
    "* 종류 최댓값 반환\n"
   ]
  },
  {
   "cell_type": "code",
   "execution_count": null,
   "metadata": {},
   "outputs": [],
   "source": [
    "def solution(nums):\n",
    "\n",
    "    return min(int(len(nums)/2), len(set(nums)))\n",
    "\n",
    "nums, result = [3,1,2,3], 2\n",
    "\n",
    "solution(nums)"
   ]
  },
  {
   "cell_type": "markdown",
   "metadata": {},
   "source": [
    "### 완주하지 못한 선수(마라톤)\n",
    "* 수많은 마라톤 선수들이 마라톤에 참여하였습니다. 단 한 명의 선수를 제외하고는 모든 선수가 마라톤을 완주하였습니다.\n",
    "\n",
    "* 마라톤에 참여한 선수들의 이름이 담긴 배열 participant와 완주한 선수들의 이름이 담긴 배열 completion이 주어질 때, 완주하지 못한 선수의 이름을 return 하도록 solution 함수를 작성해주세요\n",
    "\n",
    "* 조건 : 참가자 중에 동명이인이 있을 수 있음."
   ]
  },
  {
   "cell_type": "markdown",
   "metadata": {},
   "source": [
    "**collections.Counter(list) : 딕셔너리 형태로 set의 연산이 가능한 유일한 모듈**"
   ]
  },
  {
   "cell_type": "code",
   "execution_count": null,
   "metadata": {},
   "outputs": [],
   "source": [
    "def solution(participant,completion):\n",
    "    return list(set(participant) - set(completion))[0] \n",
    "\n",
    "\n",
    "\n",
    "participant, completion = [\"marina\", \"marina\", \"nikola\", \"vinko\", \"filipa\"], [\"marina\", \"filipa\", \"marina\", \"nikola\"]\n",
    "print(solution(p, c))\n",
    "\n",
    "\n",
    "import collections\n",
    "\n",
    "\n",
    "def solution(participant, completion):\n",
    "    answer = collections.Counter(participant) - collections.Counter(completion) # 딕션너리 형태로 만든 후, set 계산이 가능한게 유일하다.\n",
    "    return list(answer.keys())[0]"
   ]
  },
  {
   "cell_type": "markdown",
   "metadata": {},
   "source": [
    "### prefix 문제 , 전화번호 목록"
   ]
  },
  {
   "cell_type": "code",
   "execution_count": null,
   "metadata": {},
   "outputs": [],
   "source": [
    "# prefix 문제 : hash\n",
    "def solution(phone_book):\n",
    "    answer = True\n",
    "    h = {}\n",
    "    for num in phone_book:\n",
    "        h[num] = 0\n",
    "    \n",
    "    for num in phone_book:\n",
    "        for k in h:\n",
    "            # 같은 건 넘어가\n",
    "            if num == k: continue\n",
    "            else:\n",
    "                if num.find(k) == 0:\n",
    "                   answer = False\n",
    "    return answer\n",
    "# 복잡도 통과 X  : hash를 충분이 활용 x\n",
    "\n",
    "\n",
    "# 길이가 작은 것이 기준이 아닌, 큰 것을 기준으로 앞에서 자른다.\n",
    "def solution(phone_book):\n",
    "    answer = True\n",
    "\n",
    "    for num in phone_book:\n",
    "\n",
    "        for i in range(len(num)):\n",
    "            pre = num[:i]\n",
    "            if pre in phone_book:\n",
    "                answer = False\n",
    "    \n",
    "    return answer\n",
    "\n",
    "\n",
    "\n",
    "# startwith method : prefix검사\n",
    "def solution(phoneBook):\n",
    "    phoneBook = sorted(phoneBook) # 길이순으로 정렬\n",
    "\n",
    "    for p1, p2 in zip(phoneBook, phoneBook[1:]): # pairwising : zip 은 각각 하나씩 매칭인데, 개수가 작은 쪽이 기준이 된다.\n",
    "        if p2.startswith(p1):\n",
    "            return False\n",
    "    return True"
   ]
  },
  {
   "cell_type": "markdown",
   "metadata": {},
   "source": [
    "## 의상 level2\n",
    "\n",
    "* 코니는 매일 다른 옷을 조합하여 입는것을 좋아합니다. : 조합\n",
    "* 코니는 각 종류별로 최대 1가지 의상만 착용할 수 있습니다.\n",
    "* 혹은 의상을 추가로 더 착용한 경우에는 서로 다른 방법으로 옷을 착용한 것으로 계산합니다.\n",
    "* 코니는 하루에 최소 한 개의 의상은 입습니다.\n",
    "* clothes의 각 행은 [의상의 이름, 의상의 종류]로 이루어져 있습니다.\n",
    "* 코니가 가진 의상의 수는 1개 이상 30개 이하입니다.\n",
    "* 같은 이름을 가진 의상은 존재하지 않습니다.\n",
    "* clothes의 모든 원소는 문자열로 이루어져 있습니다.\n",
    "* 모든 문자열의 길이는 1 이상 20 이하인 자연수이고 알파벳 소문자 또는 '_' 로만 이루어져 있습니다."
   ]
  },
  {
   "cell_type": "markdown",
   "metadata": {},
   "source": [
    "hash로 정리하고, 조합 수 세기 = 하나씩, 혹은 두개씩만, 세개 모두 다 고르 때도 있으니까... 흡사 이항정리"
   ]
  },
  {
   "cell_type": "code",
   "execution_count": null,
   "metadata": {},
   "outputs": [],
   "source": [
    "def solution(clothes):\n",
    "\n",
    "    \n",
    "    #hash \n",
    "    clothes_dict = {}\n",
    "    for name, t in clothes:\n",
    "        if t not in clothes_dict:\n",
    "            clothes_dict[t] = []\n",
    "        clothes_dict[t].append(name)\n",
    "\n",
    "   #조합 세기 : (a + 1) (b+1)(c+1) 이항정리 -> 조합구하고 맨 마지막 -1\n",
    "    answer = 1\n",
    "    for a in clothes_dict:\n",
    "        answer *= (len(clothes_dict[a]) +1)\n",
    "    \n",
    "    return answer -1\n",
    "    \n",
    "\n",
    "# 같은 방식인데, hash 형성이랑 조합 수 세기를 한번에\n",
    "def solution(clothes):\n",
    "    clothes_type = {}\n",
    "\n",
    "    for c, t in clothes:\n",
    "        if t not in clothes_type:\n",
    "            clothes_type[t] = 2 #처음에 넣는 경우라면, 넣으면서 해당 옷 입는 경우랑 아무것도 안입는 경우를 모두 포함\n",
    "        else:\n",
    "            clothes_type[t] += 1 #같은 종류 다른 옷 들어왔을 때 경우 추가\n",
    "\n",
    "    cnt = 1\n",
    "    for num in clothes_type.values():\n",
    "        cnt *= num # 조합 combination\n",
    "\n",
    "    return cnt - 1 # 아무 것도 안입는 경우 빼기\n"
   ]
  },
  {
   "cell_type": "markdown",
   "metadata": {},
   "source": [
    "## 베스트 앨범 level 3\n",
    "\n",
    "* 장르 별로 가장 많이 재생된 노래를 두 개씩 모아 베스트 앨범을 출시하려 합니다\n",
    "* 노래는 고유 번호로 구분하며, 노래를 수록하는 기준은 다음과 같습니다.\n",
    "    * 속한 노래가 많이 재생된 장르를 먼저 수록합니다. :  틀린 부분 : 장르의 노래 곡 수 합이 제일 많은 순으로.\n",
    "    * 장르 내에서 많이 재생된 노래를 먼저 수록합니다.\n",
    "        * 장르 내에서 재생 횟수가 같은 노래 중에서는 고유 번호가 낮은 노래를 먼저 수록합니다. sorting\n",
    "\n"
   ]
  },
  {
   "cell_type": "markdown",
   "metadata": {},
   "source": [
    "틀린 부분 : 장르의 노래 곡 수 합이 제일 많은 순으로."
   ]
  },
  {
   "cell_type": "code",
   "execution_count": 14,
   "metadata": {},
   "outputs": [
    {
     "name": "stdout",
     "output_type": "stream",
     "text": [
      "[4, 1, 3, 0]\n"
     ]
    }
   ],
   "source": [
    "def solution(genres, plays):\n",
    "    answer = []\n",
    "\n",
    "    hash = {}\n",
    "    \n",
    "    for i, g in enumerate(genres):\n",
    "        if g not in hash:\n",
    "            hash[g] = []\n",
    "        hash[g].append((i, plays[i]))\n",
    "    \n",
    "    dict2 = {}\n",
    "    for g in hash:\n",
    "        # plays수를 기반으로 정렬 :내림차순\n",
    "        hash[g].sort(key = lambda x : x[1], reverse = True) \n",
    "\n",
    "        #곡 수 합을 기준으로 정렬하기 위함\n",
    "        s = sum([x[1] for x in hash[g]])\n",
    "        dict2[g] = s\n",
    "    \n",
    "    \n",
    "    #곡 수 합을 기준으로 정렬 : 장르 재생 수 많은 순으로\n",
    "    for g in sorted(list(dict2.keys()), key = lambda x : dict2[x], reverse = True): \n",
    "        if len(hash[g]) == 1: # 하나 일때\n",
    "            answer.append(hash[g][0][0])\n",
    "        else:\n",
    "            #두개 이상일 때 : 여기서 이미 같아도 인덱스 순으로 정렬이기에 문제 없을거다.\n",
    "            answer += [a[0] for a in hash[g][:2]]\n",
    "                       \n",
    "    return answer\n",
    "\n",
    "genres = [\"classic\", \"pop\", \"classic\", \"classic\", \"pop\" , \"pop\"]\n",
    "\n",
    "plays = [500, 600, 150, 800, 2500 , 600]\n",
    "print(solution(genres, plays))"
   ]
  },
  {
   "cell_type": "code",
   "execution_count": null,
   "metadata": {},
   "outputs": [],
   "source": [
    "# better one\n",
    "\n",
    "def solution(genres, plays):\n",
    "    answer = []\n",
    "    #장르별 hash\n",
    "    d = {e:[] for e in set(genres)}\n",
    "\n",
    "    #장르별 : [재생수 , id]\n",
    "    for e in zip(genres, plays, range(len(plays))):\n",
    "        d[e[0]].append([e[1] , e[2]])\n",
    "\n",
    "    # 곡수 합으로 정렬\n",
    "    genreSort =sorted(list(d.keys()), key= lambda x: sum( map(lambda y: y[0],d[x])), reverse = True)\n",
    "\n",
    "    #장르 재생 수 순으로\n",
    "    for g in genreSort:\n",
    "\n",
    "        # (재생수, -id) 순으로 정렬 : 재생수 먼저 역순으로 같으면 -id 기준으로 역순으로 (index가 작은게 먼저 올거다.) # 지린다.....\n",
    "        temp = [e[1] for e in sorted(d[g],key= lambda x: (x[0], -x[1]), reverse = True)]\n",
    "        answer += temp[:min(len(temp),2)] # 1개도 자동으로 처리\n",
    "    return answer"
   ]
  }
 ],
 "metadata": {
  "kernelspec": {
   "display_name": "Python 3",
   "language": "python",
   "name": "python3"
  },
  "language_info": {
   "codemirror_mode": {
    "name": "ipython",
    "version": 3
   },
   "file_extension": ".py",
   "mimetype": "text/x-python",
   "name": "python",
   "nbconvert_exporter": "python",
   "pygments_lexer": "ipython3",
   "version": "3.9.6"
  }
 },
 "nbformat": 4,
 "nbformat_minor": 2
}
