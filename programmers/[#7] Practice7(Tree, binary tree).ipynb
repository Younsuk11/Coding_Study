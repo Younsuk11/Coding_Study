{
 "cells": [
  {
   "cell_type": "markdown",
   "id": "42be00f1",
   "metadata": {},
   "source": [
    "## Practice 1. Deepest Leaves Sum\n",
    "Given the root of a binary tree, return the sum of values of its deepest leaves."
   ]
  },
  {
   "cell_type": "code",
   "execution_count": 1,
   "id": "eb16dcfb",
   "metadata": {
    "id": "cf726f29"
   },
   "outputs": [],
   "source": [
    "# TreeNode Definition for Binary Tree\n",
    "class TreeNode:\n",
    "    def __init__(self, val=0, left=None, right=None):\n",
    "        self.val = val\n",
    "        self.left = left\n",
    "        self.right = right"
   ]
  },
  {
   "cell_type": "code",
   "execution_count": 2,
   "id": "30262737",
   "metadata": {},
   "outputs": [],
   "source": [
    "# Tree Construction\n",
    "root = TreeNode(1)\n",
    "root.left = TreeNode(2)\n",
    "root.right = TreeNode(3)\n",
    "root.left.left = TreeNode(4)\n",
    "root.left.right = TreeNode(5)\n",
    "root.right.left = None\n",
    "root.right.right = TreeNode(6)\n",
    "root.left.left.left = TreeNode(7)\n",
    "root.left.left.right = None\n",
    "root.left.right.left = None\n",
    "root.left.right.right = None\n",
    "root.right.right.left = None\n",
    "root.right.right.right = TreeNode(8)"
   ]
  },
  {
   "cell_type": "code",
   "execution_count": 9,
   "id": "e525e98c",
   "metadata": {},
   "outputs": [],
   "source": [
    "class Tree():\n",
    "    def __init__(self, root: TreeNode) -> None:\n",
    "        self.root = root\n",
    "\n",
    "    def deepestLeavesSum(self) -> None:\n",
    "        # Write your code here\n",
    "        \n",
    "        \n",
    "        #preorder DFT : visit first\n",
    "\n",
    "        \n",
    "        if self.root ==None: return\n",
    "\n",
    "        #queues for current level(visited)\n",
    "        q = [self.root]\n",
    "        #queue for each level\n",
    "        Q = []\n",
    "\n",
    "        sum = 0\n",
    "\n",
    "        while q:\n",
    "\n",
    "            #preorder DFT : level로 한 줄씩 내력가면서.\n",
    "            for node in q:\n",
    "                for child in [node.left, node.right]:\n",
    "                    if child:\n",
    "                        Q.append(child)\n",
    "                \n",
    "        \n",
    "            if len(Q) > 0: # queue for not deepest\n",
    "                q, Q = Q, []\n",
    "            \n",
    "            #--------------\n",
    "            else: # nodes that have no children\n",
    "                for node in q:\n",
    "                    sum+= node.val\n",
    "                \n",
    "        \n",
    "  \n",
    "                return sum\n",
    "    \n",
    "    "
   ]
  },
  {
   "cell_type": "code",
   "execution_count": 10,
   "id": "ed94b1b1",
   "metadata": {},
   "outputs": [
    {
     "data": {
      "text/plain": [
       "15"
      ]
     },
     "execution_count": 10,
     "metadata": {},
     "output_type": "execute_result"
    }
   ],
   "source": [
    "# Create a tree\n",
    "myTree = Tree(root)\n",
    "\n",
    "# Execute preorder DFT\n",
    "myTree.deepestLeavesSum()"
   ]
  },
  {
   "cell_type": "markdown",
   "id": "59b87d01",
   "metadata": {
    "id": "59b87d01"
   },
   "source": [
    "## Practice2. Binary Search Tree Implementation\n",
    "Implement a binary search tree that has the following three methods:\n",
    "- search method\n",
    "- insert method\n",
    "- delete method  \n",
    "\n",
    "First two methods are provided for you, so implement only the delete method.\n",
    "<br> Complete the deleteHelp, and findMax function.\n",
    "<br> Most BST problems make use of recursion, so recover your memory from class!  \n",
    "  \n",
    "  \n",
    "- (1) Base case – case that returns a variable or constant value\n",
    "- (2) Recursive case – case that uses the function being defined or another function again"
   ]
  },
  {
   "cell_type": "code",
   "execution_count": 5,
   "id": "ebe04ab2",
   "metadata": {
    "id": "ebe04ab2"
   },
   "outputs": [],
   "source": [
    "class TreeNode():\n",
    "    def __init__(self, x:int):\n",
    "        self.val = x\n",
    "        self.left = None\n",
    "        self.right = None"
   ]
  },
  {
   "cell_type": "code",
   "execution_count": 87,
   "id": "ae8b144f",
   "metadata": {
    "id": "ae8b144f"
   },
   "outputs": [],
   "source": [
    "class BST():\n",
    "    def __init__(self, root:TreeNode) -> None:\n",
    "        self.root = root\n",
    "\n",
    "    def __searchHelp(self, curNode: TreeNode, x: int) -> TreeNode:\n",
    "        # (1) Base Case\n",
    "        if not curNode:\n",
    "            return None\n",
    "        if x == curNode.val:\n",
    "            return curNode\n",
    "\n",
    "        # (2) Recursive case\n",
    "        if x < curNode.val:\n",
    "            return self.__searchHelp(curNode.left, x)\n",
    "        else:\n",
    "            return self.__searchHelp(curNode.right, x)\n",
    "\n",
    "    def search(self, x:int) -> TreeNode:\n",
    "        return self.__searchHelp(self.root, x)\n",
    "\n",
    "    def __insertHelp(self, curNode: TreeNode, x: int) -> TreeNode:\n",
    "        # (1) Base Case\n",
    "        if not curNode:\n",
    "            return TreeNode(x)\n",
    "        if x == curNode.val:\n",
    "            return curNode\n",
    "\n",
    "        # (2) Recursive case\n",
    "        if x < curNode.val:\n",
    "            curNode.left = self.__insertHelp(curNode.left, x)\n",
    "        else:\n",
    "            curNode.right = self.__insertHelp(curNode.right, x)\n",
    "\n",
    "        return curNode\n",
    "\n",
    "    def insert(self, x: int) -> None:\n",
    "        self.root = self.__insertHelp(self.root, x)\n",
    "\n",
    "\n",
    "\n",
    "    def __findMax(self, curNode : TreeNode) -> int:\n",
    "\n",
    "        if curNode.right == None:\n",
    "            return curNode.val\n",
    "        \n",
    "        else:\n",
    "            return self.__findMax(curNode.right) # recursively right \n",
    "\n",
    "\n",
    "\n",
    "    # scan through subtree and return a new root (if necessary)\n",
    "    def __deleteHelp(self, curNode: TreeNode, x: int) -> TreeNode:\n",
    "        #Write your code here\n",
    "\n",
    "        #search it \n",
    "\n",
    "        #base case : escape and not found\n",
    "        if not curNode:\n",
    "            return curNode\n",
    "        \n",
    "        #recursive case\n",
    "        if x < curNode.val:\n",
    "            curNode.left = self.__deleteHelp(curNode.left,x) # keep going left\n",
    "\n",
    "        elif x> curNode.val:\n",
    "            curNode.right = self.__deleteHelp(curNode.right, x) # keep going right\n",
    "\n",
    "        else: #find it!\n",
    "    \n",
    "            #step 2\n",
    "            if (curNode.left == None) and (curNode.right == None): # no child\n",
    "                return None # delete that node\n",
    "            \n",
    "            elif curNode.left and curNode.right == None: # one child\n",
    "                return curNode.left\n",
    "            \n",
    "            elif (curNode.left == None) and curNode.right:\n",
    "                return curNode.right\n",
    "            \n",
    "            else: #two child\n",
    "                #1. biggest from left\n",
    "                leftlargest = self.__findMax(curNode.left)\n",
    "        \n",
    "\n",
    "                #delete and get left largest node for left subtree\n",
    "                curNode.left = self.__deleteHelp(curNode.left, leftlargest)\n",
    "                \n",
    "                curNode.val = leftlargest\n",
    "        return curNode\n",
    "\n",
    "\n",
    "    def delete(self, x: int) -> None:\n",
    "        self.root = self.__deleteHelp(self.root, x)"
   ]
  },
  {
   "cell_type": "code",
   "execution_count": 88,
   "id": "0a9150fa",
   "metadata": {
    "id": "0a9150fa"
   },
   "outputs": [],
   "source": [
    "tree1 = TreeNode(1)\n",
    "tree2 = TreeNode(2)\n",
    "tree3 = TreeNode(3)\n",
    "tree4 = TreeNode(4)\n",
    "tree5 = TreeNode(5)\n",
    "tree6 = TreeNode(6)\n",
    "tree7 = TreeNode(7)\n",
    "\n",
    "tree4.left = tree2\n",
    "tree4.right = tree6\n",
    "\n",
    "tree2.left = tree1\n",
    "tree2.right = tree3\n",
    "\n",
    "tree6.left = tree5\n",
    "tree6.right = tree7\n",
    "\n",
    "# Instance of class BST, setting node with value of 4 as its root\n",
    "myTree = BST(tree4)"
   ]
  },
  {
   "cell_type": "code",
   "execution_count": 89,
   "id": "6cea9279",
   "metadata": {
    "id": "6cea9279"
   },
   "outputs": [
    {
     "name": "stdout",
     "output_type": "stream",
     "text": [
      "<__main__.TreeNode object at 0x128317290> 6\n"
     ]
    }
   ],
   "source": [
    "# Test search\n",
    "node = myTree.search(6)\n",
    "if node == None:\n",
    "    print(node)\n",
    "else:\n",
    "    print(node, node.val)"
   ]
  },
  {
   "cell_type": "code",
   "execution_count": 90,
   "id": "ef27f9a3",
   "metadata": {
    "id": "ef27f9a3"
   },
   "outputs": [
    {
     "name": "stdout",
     "output_type": "stream",
     "text": [
      "<__main__.TreeNode object at 0x128315d90> 8\n"
     ]
    }
   ],
   "source": [
    "# Test insert\n",
    "myTree.insert(8)\n",
    "node = myTree.search(8)\n",
    "if node == None:\n",
    "    print(node)\n",
    "else:\n",
    "    print(node, node.val)"
   ]
  },
  {
   "cell_type": "code",
   "execution_count": 91,
   "id": "9d2c1318",
   "metadata": {
    "id": "9d2c1318"
   },
   "outputs": [
    {
     "name": "stdout",
     "output_type": "stream",
     "text": [
      "root: 4\n",
      "new root: 3\n"
     ]
    }
   ],
   "source": [
    "# Test delete - 1\n",
    "print(\"root:\", myTree.root.val)\n",
    "myTree.delete(4)\n",
    "print(\"new root:\", myTree.root.val)"
   ]
  },
  {
   "cell_type": "code",
   "execution_count": 92,
   "id": "85110cd6",
   "metadata": {
    "id": "85110cd6"
   },
   "outputs": [
    {
     "name": "stdout",
     "output_type": "stream",
     "text": [
      "Is there node with the value of 4?\n",
      "None\n"
     ]
    }
   ],
   "source": [
    "# Test delete - 2\n",
    "print(\"Is there node with the value of 4?\")\n",
    "node = myTree.search(4)\n",
    "if node == None:\n",
    "    print(node)\n",
    "else:\n",
    "    print(node, node.val)"
   ]
  },
  {
   "cell_type": "code",
   "execution_count": 93,
   "id": "dfddbb82",
   "metadata": {
    "id": "dfddbb82"
   },
   "outputs": [
    {
     "name": "stdout",
     "output_type": "stream",
     "text": [
      "Is there node with the value of 3?\n",
      "<__main__.TreeNode object at 0x128314b90> 3\n"
     ]
    }
   ],
   "source": [
    "# Test delete - 3\n",
    "print(\"Is there node with the value of 3?\")\n",
    "node = myTree.search(3)\n",
    "if node == None:\n",
    "    print(node)\n",
    "else:\n",
    "    print(node, node.val)"
   ]
  },
  {
   "cell_type": "code",
   "execution_count": 94,
   "id": "477d693e",
   "metadata": {
    "id": "477d693e"
   },
   "outputs": [
    {
     "name": "stdout",
     "output_type": "stream",
     "text": [
      "2\n",
      "6\n"
     ]
    }
   ],
   "source": [
    "# Test delete - 4\n",
    "print(myTree.root.left.val)\n",
    "print(myTree.root.right.val)"
   ]
  }
 ],
 "metadata": {
  "colab": {
   "provenance": []
  },
  "kernelspec": {
   "display_name": "Python 3 (ipykernel)",
   "language": "python",
   "name": "python3"
  },
  "language_info": {
   "codemirror_mode": {
    "name": "ipython",
    "version": 3
   },
   "file_extension": ".py",
   "mimetype": "text/x-python",
   "name": "python",
   "nbconvert_exporter": "python",
   "pygments_lexer": "ipython3",
   "version": "3.11.4"
  }
 },
 "nbformat": 4,
 "nbformat_minor": 5
}
