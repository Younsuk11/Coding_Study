{
 "cells": [
  {
   "cell_type": "markdown",
   "metadata": {},
   "source": [
    "# Day1"
   ]
  },
  {
   "cell_type": "code",
   "execution_count": 1,
   "metadata": {},
   "outputs": [],
   "source": [
    "# max 내장함수, str에서도 max연산 가능\n",
    "def solution(a, b):\n",
    "    return int(max(f\"{a}{b}\", f\"{b}{a}\"))\n",
    "\n",
    "#mine\n",
    "def solution(a, b):\n",
    "    answer = 0\n",
    "    A = int(str(a) + str(b))\n",
    "    B = int(str(b) + str(a))\n",
    "    if  A>= B:\n",
    "        answer = A\n",
    "    else:\n",
    "        answer = B\n",
    "    return answer"
   ]
  },
  {
   "cell_type": "code",
   "execution_count": null,
   "metadata": {},
   "outputs": [],
   "source": [
    "a, b = map(int, input().strip().split(' ')) #interation list에 map적용\n",
    "print(f\"a = {a}\")\n",
    "print(f\"b = {b}\")"
   ]
  },
  {
   "cell_type": "code",
   "execution_count": null,
   "metadata": {},
   "outputs": [],
   "source": [
    "#문자열 반복\n",
    "a, b = input().strip().split(' ')\n",
    "b = int(b)\n",
    "print(a*b)"
   ]
  },
  {
   "cell_type": "code",
   "execution_count": null,
   "metadata": {},
   "outputs": [],
   "source": [
    "#대소문자 반대로 변환\n",
    "print(input().swapcase())"
   ]
  },
  {
   "cell_type": "code",
   "execution_count": 6,
   "metadata": {},
   "outputs": [
    {
     "name": "stdout",
     "output_type": "stream",
     "text": [
      "!@#$%^&*(\\'\"<>?:;\n",
      "!@#$%^&*(\\'\"<>?:;\n"
     ]
    }
   ],
   "source": [
    "print('!@#$%^&*(\\\\\\'\\\"<>?:;') #특수 문자 출력 , \\, '\"는 모두 \\처리\n",
    "\n",
    "#better one : raw\n",
    "print(r'!@#$%^&*(\\'\"<>?:;')"
   ]
  },
  {
   "cell_type": "code",
   "execution_count": null,
   "metadata": {},
   "outputs": [],
   "source": [
    "str1, str2 = input().strip().split(' ')\n",
    "print(str1+str2)\n",
    "\n",
    "#better one\n",
    "print(input().strip().replace(' ', '')) #공백 없애기"
   ]
  },
  {
   "cell_type": "code",
   "execution_count": null,
   "metadata": {},
   "outputs": [],
   "source": [
    "str = input()\n",
    "for c in str:\n",
    "    print(c)\n",
    "\n",
    "#better one : join() 사이사이 넣어주기\n",
    "print('\\n'.join(input()))"
   ]
  },
  {
   "cell_type": "code",
   "execution_count": null,
   "metadata": {},
   "outputs": [],
   "source": [
    "\n",
    "a = int(input())\n",
    "if a % 2 == 0: print(f\"{a} is even\")\n",
    "else: print(f\"{a} is odd\")\n",
    "\n",
    "\n",
    "\n",
    "# better one : formatting 내 조건문 가능\n",
    "N = int(input())\n",
    "print(f\"{N} is {'even' if N % 2 == 0 else 'odd'}\")"
   ]
  },
  {
   "cell_type": "code",
   "execution_count": null,
   "metadata": {},
   "outputs": [],
   "source": [
    "#replace : gpt answer\n",
    "def solution(my_string, overwrite_string, s):\n",
    "    answer = my_string[:s] + overwrite_string + my_string[s+len(overwrite_string):]\n",
    "    return answer\n",
    "\n"
   ]
  },
  {
   "cell_type": "code",
   "execution_count": 14,
   "metadata": {},
   "outputs": [],
   "source": [
    "# prefix 문제 : hash\n",
    "def solution(phone_book):\n",
    "    answer = True\n",
    "    h = {}\n",
    "    for num in phone_book:\n",
    "        h[num] = 0\n",
    "    \n",
    "    for num in phone_book:\n",
    "        for k in h:\n",
    "            # 같은 건 넘어가\n",
    "            if num == k: continue\n",
    "            else:\n",
    "                if num.find(k) == 0:\n",
    "                   answer = False\n",
    "    return answer\n",
    "# 복잡도 통과 X  : hash를 충분이 활용 x\n",
    "\n",
    "\n",
    "# 길이가 작은 것이 기준이 아닌, 큰 것을 기준으로 앞에서 자른다.\n",
    "def solution(phone_book):\n",
    "    answer = True\n",
    "\n",
    "    for num in phone_book:\n",
    "\n",
    "        for i in range(len(num)):\n",
    "            pre = num[:i]\n",
    "            if pre in phone_book:\n",
    "                answer = False\n",
    "    \n",
    "    return answer\n",
    "\n",
    "\n",
    "\n",
    "# startwith method : prefix검사\n",
    "def solution(phoneBook):\n",
    "    phoneBook = sorted(phoneBook) # 길이순으로 정렬\n",
    "\n",
    "    for p1, p2 in zip(phoneBook, phoneBook[1:]): # pairwising : zip 은 각각 하나씩 매칭인데, 개수가 작은 쪽이 기준이 된다.\n",
    "        if p2.startswith(p1):\n",
    "            return False\n",
    "    return True"
   ]
  },
  {
   "cell_type": "code",
   "execution_count": null,
   "metadata": {},
   "outputs": [],
   "source": [
    "def solution(num1, num2):\n",
    "    return 1 if num1 ==num2 else -1 # 한줄 만들기"
   ]
  },
  {
   "cell_type": "code",
   "execution_count": 13,
   "metadata": {},
   "outputs": [],
   "source": [
    "#최대공약수\n",
    "def GCD(num1, num2):\n",
    "    low = min(num1, num2)\n",
    "    high = max(num1, num2)\n",
    "    \n",
    "    if low == 1:\n",
    "        return 1\n",
    "    \n",
    "    if high % low == 0:\n",
    "        return low\n",
    "    \n",
    "    else: \n",
    "        return GCD(high, high % low)\n",
    "\n",
    "\n",
    "#기약분수 문제\n",
    "def solution(numer1, denom1, numer2, denom2):\n",
    "    answer = []\n",
    "    \n",
    "    #same denom, then just add numer\n",
    "    if denom1 == denom2 :\n",
    "        numer = numer1 + numer2\n",
    "        denom = denom1\n",
    "    \n",
    "    else:\n",
    "        numer = numer1 * denom2 + numer2 * denom1 # 1*4 + 2*3 = 10\n",
    "        denom = denom1 * denom2 # 2*4 = 8\n",
    "    \n",
    "    # get GCD and divide with it\n",
    "    gcd = GCD(numer, denom)\n",
    "    \n",
    "    # answer.append(numer // gcd)\n",
    "    # answer.append(denom // gcd)\n",
    "\n",
    "    answer = [numer, denom]\n",
    "    return answer\n",
    "\n",
    "\n",
    "import math\n",
    "\n",
    "def solution(denum1, num1, denum2, num2):\n",
    "    denum = denum1 * num2 + denum2 * num1\n",
    "    num = num1 * num2\n",
    "    gcd = math.gcd(denum, num)\n",
    "    return [denum//gcd, num//gcd]"
   ]
  },
  {
   "cell_type": "markdown",
   "metadata": {},
   "source": [
    "# Day 2"
   ]
  },
  {
   "cell_type": "code",
   "execution_count": null,
   "metadata": {},
   "outputs": [],
   "source": [
    "\n",
    "def solution(numbers):\n",
    "\n",
    "    return [2*n for n in numbers]\n",
    "\n",
    "#better one\n",
    "def solution(numbers):\n",
    "    return list(map(lambda x: x * 2, numbers))\n"
   ]
  },
  {
   "cell_type": "code",
   "execution_count": null,
   "metadata": {},
   "outputs": [],
   "source": [
    "# sorting\n",
    "\n",
    "def linear_sorting(array):\n",
    "    pass\n",
    "\n",
    "def selection_sorting(array):\n",
    "    pass\n",
    "\n",
    "def insertion_sorting(array):\n",
    "    pass\n",
    "\n",
    "def merge_sorting(array):\n",
    "    pass"
   ]
  }
 ],
 "metadata": {
  "kernelspec": {
   "display_name": "Python 3",
   "language": "python",
   "name": "python3"
  },
  "language_info": {
   "codemirror_mode": {
    "name": "ipython",
    "version": 3
   },
   "file_extension": ".py",
   "mimetype": "text/x-python",
   "name": "python",
   "nbconvert_exporter": "python",
   "pygments_lexer": "ipython3",
   "version": "3.9.6"
  }
 },
 "nbformat": 4,
 "nbformat_minor": 2
}
