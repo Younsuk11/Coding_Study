{
 "cells": [
  {
   "cell_type": "markdown",
   "id": "5afbb11d-76ac-46e5-99f8-1f190f89ad09",
   "metadata": {},
   "source": [
    "## BFT (Breadth-first Traversal)\n",
    "\n",
    "### Implement BFT for graph\n",
    "*  implementation of a graph given\n",
    "\n",
    "* childs = neighbors"
   ]
  },
  {
   "cell_type": "code",
   "execution_count": 33,
   "id": "efe2a389-a274-4f1c-9c60-5c261410f123",
   "metadata": {},
   "outputs": [],
   "source": [
    "from collections import deque\n",
    "\n",
    "class undi_graph():\n",
    "    def __init__(self, V: list, E:list) -> None :\n",
    "        self.V = V[:]\n",
    "        self.neighbors = {}\n",
    "\n",
    "        for v in V:\n",
    "            self.neighbors[v] = []\n",
    "\n",
    "        for(v,w) in E:\n",
    "            self.neighbors[v].append(w)\n",
    "            self.neighbors[w].append(v)\n",
    "\n",
    "    def BFT(self) -> None : #\n",
    "        if self.V : \n",
    "            visited = {}\n",
    "            #######################################\n",
    "            # write your code \n",
    "\n",
    "            # BFT : visit all connted unvisited node from there\n",
    "            # visited is a dictionary that marks visited nodes as True\n",
    "\n",
    "            for v in self.V:\n",
    "                visited[v] = False\n",
    "            #not recursively : visit negibors first\n",
    "                \n",
    "            for v in self.V:\n",
    "                q = deque()\n",
    "                q.append(v) #initial\n",
    "                \n",
    "                while q:\n",
    "                     \n",
    "                    #visit\n",
    "                    v  = q.popleft()\n",
    "\n",
    "                    #check visited\n",
    "                    if not visited[v]:\n",
    "                        visited[v] = True\n",
    "                        print(v, end =\" \")\n",
    "                    \n",
    "                    # save its neighbors if they not visited\n",
    "                    for w in self.neighbors[v]: # 공간 사용이 이게 더 적음.\n",
    "                        if not visited[w]:\n",
    "                            q.append(w)\n",
    "           \n",
    "\n",
    "            \n",
    "            #######################################\n",
    "\n",
    "\n",
    "    #preorder\n",
    "    def __DFTHelp(self, visited:list, v:int) -> None:\n",
    "        if not visited[v]:\n",
    "            visited[v] = True\n",
    "            print(v)\n",
    "            for w in self.neighbors[v]:\n",
    "                self.__DFTHelp(visited, w)\n",
    "\n",
    "    def DFT(self) -> None:\n",
    "        if self.V:\n",
    "            visited = {}\n",
    "\n",
    "            #initialization\n",
    "            for v in self.V:\n",
    "                visited[v] = False\n",
    "            #DFT\n",
    "            for v in self.V:\n",
    "                self.__DFTHelp(visited, v)\n"
   ]
  },
  {
   "cell_type": "code",
   "execution_count": 34,
   "id": "d8a0531f-8b52-4695-b5b4-dfbdf1f540ce",
   "metadata": {},
   "outputs": [
    {
     "name": "stdout",
     "output_type": "stream",
     "text": [
      "0 1 4 5 6 7 9 8 2 3 "
     ]
    }
   ],
   "source": [
    "V = [0,1,2,3,4,5,6,7,8,9]\n",
    "E = [(0,1),(1,4),(1,5),(2,3),(4,6),(5,6),(5,7),(6,9),(7,8)]\n",
    "\n",
    "graph = undi_graph(V,E)\n",
    "graph.BFT()"
   ]
  }
 ],
 "metadata": {
  "kernelspec": {
   "display_name": "Python 3 (ipykernel)",
   "language": "python",
   "name": "python3"
  },
  "language_info": {
   "codemirror_mode": {
    "name": "ipython",
    "version": 3
   },
   "file_extension": ".py",
   "mimetype": "text/x-python",
   "name": "python",
   "nbconvert_exporter": "python",
   "pygments_lexer": "ipython3",
   "version": "3.9.6"
  }
 },
 "nbformat": 4,
 "nbformat_minor": 5
}
