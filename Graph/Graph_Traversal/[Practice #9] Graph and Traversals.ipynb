{
 "cells": [
  {
   "cell_type": "markdown",
   "id": "5afbb11d-76ac-46e5-99f8-1f190f89ad09",
   "metadata": {},
   "source": [
    "## 1. BFT (Breadth-first Traversal)\n",
    "\n",
    "### Implement a BFT method for a graph\n",
    "*  An implementation of a graph is given"
   ]
  },
  {
   "cell_type": "code",
   "execution_count": null,
   "id": "efe2a389-a274-4f1c-9c60-5c261410f123",
   "metadata": {},
   "outputs": [],
   "source": [
    "from collections import deque\n",
    "\n",
    "class undi_graph():\n",
    "    def __init__(self, V: list, E:list) -> None :\n",
    "        self.V = V[:]\n",
    "        self.neighbors = {}\n",
    "\n",
    "        for v in V:\n",
    "            self.neighbors[v] = []\n",
    "\n",
    "        for(v,w) in E:\n",
    "            self.neighbors[v].append(w)\n",
    "            self.neighbors[w].append(v)\n",
    "\n",
    "    def BFT(self):\n",
    "        if self.V: \n",
    "            visited = {}\n",
    "            #######################################\n",
    "            # write your code \n",
    "            #######################################"
   ]
  },
  {
   "cell_type": "code",
   "execution_count": null,
   "id": "d8a0531f-8b52-4695-b5b4-dfbdf1f540ce",
   "metadata": {},
   "outputs": [],
   "source": [
    "V = [0,1,2,3,4,5,6,7,8,9]\n",
    "E = [(0,1),(1,4),(1,5),(2,3),(4,6),(5,6),(5,7),(6,9),(7,8)]\n",
    "\n",
    "graph = undi_graph(V,E)\n",
    "graph.BFT()"
   ]
  },
  {
   "cell_type": "markdown",
   "id": "5dc3ef80",
   "metadata": {},
   "source": [
    "## 2. DFT (Depth-first Traversal) Post-order\n",
    "\n",
    "### Implement a post-order DFT method for a graph\n",
    "*  An implementation of a graph is given"
   ]
  },
  {
   "cell_type": "code",
   "execution_count": null,
   "id": "239b16d5",
   "metadata": {},
   "outputs": [],
   "source": [
    "class undi_graph2():\n",
    "    def __init__(self, V: list, E:list) -> None :\n",
    "        self.V = V[:]\n",
    "        self.neighbors = {}\n",
    "\n",
    "        for v in V:\n",
    "            self.neighbors[v] = []\n",
    "\n",
    "        for(v,w) in E:\n",
    "            self.neighbors[v].append(w)\n",
    "            self.neighbors[w].append(v)\n",
    "\n",
    "    def __DFTHelp(self, visited, v):\n",
    "        #######################################\n",
    "        # write your code \n",
    "        #######################################\n",
    "    \n",
    "    \n",
    "    def DFT(self):\n",
    "        if self.V: \n",
    "            visited = {}\n",
    "            for v in self.V:\n",
    "                visited[v] = False\n",
    "            for v in self.V:\n",
    "                self.__DFTHelp(visited, v)"
   ]
  },
  {
   "cell_type": "code",
   "execution_count": null,
   "id": "0f3ebc91",
   "metadata": {},
   "outputs": [],
   "source": [
    "V = [0,1,2,3,4,5,6,7,8,9]\n",
    "E = [(0,1),(1,4),(1,5),(2,3),(4,6),(5,6),(5,7),(6,9),(7,8)]\n",
    "\n",
    "graph = undi_graph2(V,E)\n",
    "graph.DFT()"
   ]
  },
  {
   "cell_type": "markdown",
   "id": "566df237-01e0-46d6-9c58-8e5d4b78cbad",
   "metadata": {},
   "source": [
    "## 3. Cycles in a graph\n",
    "\n",
    "### Implement a method to detect cycles for an undirected graph"
   ]
  },
  {
   "cell_type": "code",
   "execution_count": null,
   "id": "bbb93aed-5082-4d4c-a06b-a82fc92e1690",
   "metadata": {},
   "outputs": [],
   "source": [
    "class undi_graph3():\n",
    "    def __init__(self, V: list, E:list) -> None :\n",
    "        self.V = V[:]\n",
    "        self.neighbors = {}\n",
    "\n",
    "        for v in V:\n",
    "            self.neighbors[v] = []\n",
    "\n",
    "        for(v,w) in E:\n",
    "            self.neighbors[v].append(w)\n",
    "            self.neighbors[w].append(v)\n",
    "\n",
    "    def has_cycles(self):\n",
    "        if self.V:\n",
    "            visited = {}\n",
    "            #######################################\n",
    "            # write your code \n",
    "            #######################################\n",
    "        return False"
   ]
  },
  {
   "cell_type": "code",
   "execution_count": null,
   "id": "4196a73c-59e4-4c68-8fd0-3a8b90a33b3a",
   "metadata": {},
   "outputs": [],
   "source": [
    "V = [0,1,2,3,4,5,6,7,8,9]\n",
    "E = [(0,1),(1,4),(1,5),(2,3),(4,6),(5,6),(5,7),(6,9),(7,8)]\n",
    "\n",
    "graph = undi_graph3(V,E)\n",
    "graph.has_cycles()"
   ]
  }
 ],
 "metadata": {
  "kernelspec": {
   "display_name": "Python 3 (ipykernel)",
   "language": "python",
   "name": "python3"
  },
  "language_info": {
   "codemirror_mode": {
    "name": "ipython",
    "version": 3
   },
   "file_extension": ".py",
   "mimetype": "text/x-python",
   "name": "python",
   "nbconvert_exporter": "python",
   "pygments_lexer": "ipython3",
   "version": "3.11.5"
  }
 },
 "nbformat": 4,
 "nbformat_minor": 5
}
