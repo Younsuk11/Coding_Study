{
 "cells": [
  {
   "cell_type": "markdown",
   "id": "30b4ee4d",
   "metadata": {
    "id": "30b4ee4d"
   },
   "source": [
    "# Q1. Power of Three"
   ]
  },
  {
   "cell_type": "markdown",
   "id": "78937fe9",
   "metadata": {},
   "source": [
    "### i) Create a function for checking a number if it is a power of 3 using recursion."
   ]
  },
  {
   "cell_type": "markdown",
   "id": "06eaaced",
   "metadata": {
    "id": "06eaaced"
   },
   "source": [
    "- ex1 - P1(27)\n",
    "> True\n",
    "- ex2 - P1(15631)\n",
    "> False\n",
    "- ex3 - P1(-1)\n",
    "> False\n"
   ]
  },
  {
   "cell_type": "code",
   "execution_count": 4,
   "id": "c3d5dcce",
   "metadata": {},
   "outputs": [],
   "source": [
    "def P1_Recursion(n) -> bool:\n",
    "    # Write your code\n",
    "    #base case\n",
    "    if n == 1:\n",
    "        return True\n",
    "    \n",
    "    #condition\n",
    "    elif n <=0 or (n % 3 !=0) : return False\n",
    "        \n",
    "    #recursive case\n",
    "    return P1_Recursion(n/3)\n",
    "\n",
    "     "
   ]
  },
  {
   "cell_type": "code",
   "execution_count": 5,
   "id": "52b7647a",
   "metadata": {},
   "outputs": [
    {
     "name": "stdout",
     "output_type": "stream",
     "text": [
      "Input: 27 / Expected: True / Return:  True\n",
      "Input: 15631 / Expected: False / Return:  False\n",
      "Input: -1 / Expected: False / Return:  False\n",
      "Input: 59049 / Expected: True / Return:  True\n",
      "Input: 39.2 / Expected: False / Return:  False\n"
     ]
    }
   ],
   "source": [
    "# Test code for given cases; run without modification\n",
    "print(\"Input: 27 / Expected: True / Return: \", P1_Recursion(27))\n",
    "print(\"Input: 15631 / Expected: False / Return: \", P1_Recursion(15631))\n",
    "print(\"Input: -1 / Expected: False / Return: \", P1_Recursion(-1))\n",
    "print(\"Input: 59049 / Expected: True / Return: \", P1_Recursion(59049))\n",
    "print(\"Input: 39.2 / Expected: False / Return: \", P1_Recursion(39.2))"
   ]
  },
  {
   "cell_type": "markdown",
   "id": "11fd3bae",
   "metadata": {},
   "source": [
    "### ii) Create a function for checking a number if it is a power of 3 without using recursion."
   ]
  },
  {
   "cell_type": "code",
   "execution_count": 6,
   "id": "3429cf9b",
   "metadata": {},
   "outputs": [],
   "source": [
    "def P1_Loop(n) -> bool:\n",
    "    # Write your code\n",
    "    if n<= 0 :return False\n",
    "    else:\n",
    "        while n>1:\n",
    "            n /= 3\n",
    "        \n",
    "        #return n==1\n",
    "        if n ==1 :\n",
    "            return True\n",
    "        else: return False\n",
    "    "
   ]
  },
  {
   "cell_type": "code",
   "execution_count": 7,
   "id": "af92d433",
   "metadata": {},
   "outputs": [
    {
     "name": "stdout",
     "output_type": "stream",
     "text": [
      "Input: 27 / Expected: True / Return:  True\n",
      "Input: 15631 / Expected: False / Return:  False\n",
      "Input: -1 / Expected: False / Return:  False\n",
      "Input: 59049 / Expected: True / Return:  True\n",
      "Input: 39.2 / Expected: False / Return:  False\n"
     ]
    }
   ],
   "source": [
    "# Test code for given cases; run without modification\n",
    "print(\"Input: 27 / Expected: True / Return: \", P1_Loop(27))\n",
    "print(\"Input: 15631 / Expected: False / Return: \", P1_Loop(15631))\n",
    "print(\"Input: -1 / Expected: False / Return: \", P1_Loop(-1))\n",
    "print(\"Input: 59049 / Expected: True / Return: \", P1_Loop(59049))\n",
    "print(\"Input: 39.2 / Expected: False / Return: \", P1_Loop(39.2))"
   ]
  },
  {
   "cell_type": "markdown",
   "id": "19342ff9",
   "metadata": {},
   "source": [
    "# Q2. Pascal's Triangle"
   ]
  },
  {
   "cell_type": "markdown",
   "id": "7d527a27",
   "metadata": {
    "id": "7d527a27"
   },
   "source": [
    "### Create a function for calculating a desired row of the Pascal’s triangle using Recursion"
   ]
  },
  {
   "attachments": {},
   "cell_type": "markdown",
   "id": "9701dc9b",
   "metadata": {},
   "source": [
    "Pascal's Triangle: Each number lies between two numbers and below them, and its value is the sum of the two numbers above it.\n",
    "\n",
    "처음 시작은 1부터 시작"
   ]
  },
  {
   "cell_type": "code",
   "execution_count": 8,
   "id": "6b416b8c",
   "metadata": {},
   "outputs": [],
   "source": [
    "from typing import List"
   ]
  },
  {
   "cell_type": "code",
   "execution_count": 18,
   "id": "72723dfa",
   "metadata": {},
   "outputs": [],
   "source": [
    "def Pascal_Recursion(n:int) -> List[int]: # BiG-O(N^^2)\n",
    "    # Write your code\n",
    "    \n",
    "    #base case\n",
    "    if n ==0:\n",
    "        return [1]\n",
    "    \n",
    "    answer = []\n",
    "    answer.append(1)\n",
    "    P = Pascal_Recursion(n-1)\n",
    "    #recusive case\n",
    "    for r in range(n-1): # n-2개\n",
    "        answer.append(P[r] + P[r+1])\n",
    "    answer.append(1)\n",
    "    \n",
    "    return answer  "
   ]
  },
  {
   "cell_type": "code",
   "execution_count": 20,
   "id": "f05315d1",
   "metadata": {},
   "outputs": [
    {
     "name": "stdout",
     "output_type": "stream",
     "text": [
      "i) Pascal Triangle with Recursion\n",
      "0th row:  [1]\n",
      "1th row:  [1, 1]\n",
      "2th row:  [1, 2, 1]\n",
      "3th row:  [1, 3, 3, 1]\n",
      "4th row:  [1, 4, 6, 4, 1]\n",
      "5th row:  [1, 5, 10, 10, 5, 1]\n",
      "6th row:  [1, 6, 15, 20, 15, 6, 1]\n"
     ]
    }
   ],
   "source": [
    "# Test code for given cases; run without modification\n",
    "print(\"i) Pascal Triangle with Recursion\")\n",
    "for i in range(7):\n",
    "    print(\"{}th row: \".format(i) , Pascal_Recursion(i))"
   ]
  },
  {
   "cell_type": "code",
   "execution_count": 23,
   "id": "503346ef",
   "metadata": {},
   "outputs": [],
   "source": [
    "#Extra) Maybe use combination properties?\n",
    "def Pascal_Comb(n:int) -> List[int]:\n",
    "    # Write your code\n",
    "\n",
    "\n",
    "    answer = [1]*(n+1)\n",
    "    for r in range(0, n-1):\n",
    "        answer[r+1] = int(((n-r) / (r+1)))*answer[r]\n",
    "    \n",
    "    return answer"
   ]
  },
  {
   "cell_type": "code",
   "execution_count": 24,
   "id": "eb12913b",
   "metadata": {},
   "outputs": [
    {
     "data": {
      "text/plain": [
       "[1, 3, 3, 1]"
      ]
     },
     "execution_count": 24,
     "metadata": {},
     "output_type": "execute_result"
    }
   ],
   "source": [
    "Pascal_Comb(3) # BiG-O(n)"
   ]
  },
  {
   "cell_type": "code",
   "execution_count": null,
   "id": "505c0be2",
   "metadata": {},
   "outputs": [],
   "source": []
  }
 ],
 "metadata": {
  "colab": {
   "provenance": []
  },
  "kernelspec": {
   "display_name": "Python 3 (ipykernel)",
   "language": "python",
   "name": "python3"
  },
  "language_info": {
   "codemirror_mode": {
    "name": "ipython",
    "version": 3
   },
   "file_extension": ".py",
   "mimetype": "text/x-python",
   "name": "python",
   "nbconvert_exporter": "python",
   "pygments_lexer": "ipython3",
   "version": "3.11.4"
  }
 },
 "nbformat": 4,
 "nbformat_minor": 5
}
