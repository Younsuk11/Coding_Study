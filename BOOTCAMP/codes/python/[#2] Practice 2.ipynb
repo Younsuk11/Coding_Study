{
 "cells": [
  {
   "cell_type": "markdown",
   "id": "z2Ag8OinB65s",
   "metadata": {
    "id": "z2Ag8OinB65s"
   },
   "source": [
    "\n",
    "# Sets, Tuple, Dictionaires, and Mutability"
   ]
  },
  {
   "cell_type": "markdown",
   "id": "59b87d01",
   "metadata": {
    "id": "59b87d01"
   },
   "source": [
    "### Q1. Find duplicates"
   ]
  },
  {
   "cell_type": "markdown",
   "id": "a2c008f6",
   "metadata": {
    "id": "a2c008f6"
   },
   "source": [
    "[KOR] 정수(int)로만 구성된 리스트를 변수(argument)로 받고, 그 중 두 번 이상 반복되는 정수의 집합(set)을 리턴하는 함수를 작성하시오.\n",
    "\n",
    "[ENG] Take a list of integers as input argument, and return a set of numbers that appear two or more times."
   ]
  },
  {
   "cell_type": "markdown",
   "id": "06eaaced",
   "metadata": {
    "id": "06eaaced"
   },
   "source": [
    "- ex1 - P1([1, 2, 3, 1])\n",
    "> {1}\n",
    "- ex2 - P1([1, 1, 2, 3, 3, 3])\n",
    "> {1,3}\n",
    "- ex3 - P1([1, 2, 3, 4, 5])\n",
    "> set()\n"
   ]
  },
  {
   "cell_type": "markdown",
   "id": "d04c3808",
   "metadata": {
    "id": "d04c3808"
   },
   "source": [
    "#### Solution"
   ]
  },
  {
   "cell_type": "code",
   "execution_count": 9,
   "id": "8f162ac5",
   "metadata": {
    "id": "8f162ac5"
   },
   "outputs": [],
   "source": [
    "def P1(lst: list) -> set:\n",
    "    ### Write code here ###\n",
    "    \n",
    "    count = [lst.count(num) for num in lst]\n",
    "\n",
    "    return set([lst[count.index(i)] for i in count if i >=2])\n",
    "\n",
    "    ### End of your code ###"
   ]
  },
  {
   "cell_type": "code",
   "execution_count": 10,
   "id": "fd529607",
   "metadata": {
    "id": "fd529607"
   },
   "outputs": [
    {
     "name": "stdout",
     "output_type": "stream",
     "text": [
      "Input: [1, 2, 3, 1] / Expected: {1} / Return:  {1}\n",
      "Input: [1, 1, 2, 3, 3, 3] / Expected: {1, 3} / Return:  {1, 3}\n",
      "Input: [1, 2, 3, 4, 5] / Expected: set() / Return:  set()\n"
     ]
    }
   ],
   "source": [
    "# Test code for given cases; run without modification\n",
    "print(\"Input: [1, 2, 3, 1] / Expected: {1} / Return: \", P1([1, 2, 3, 1]))\n",
    "print(\"Input: [1, 1, 2, 3, 3, 3] / Expected: {1, 3} / Return: \", P1([1, 1, 2, 3, 3, 3]))\n",
    "print(\"Input: [1, 2, 3, 4, 5] / Expected: set() / Return: \", P1([1, 2, 3, 4, 5]))"
   ]
  },
  {
   "cell_type": "code",
   "execution_count": 12,
   "id": "55f7a109",
   "metadata": {
    "id": "55f7a109"
   },
   "outputs": [
    {
     "data": {
      "text/plain": [
       "{1, 3}"
      ]
     },
     "execution_count": 12,
     "metadata": {},
     "output_type": "execute_result"
    }
   ],
   "source": [
    "# Try your own test case!\n",
    "test_input = [1, 1, 2, 3, 3, 3]# your input\n",
    "P1(test_input)"
   ]
  },
  {
   "cell_type": "markdown",
   "id": "8cd0fa28",
   "metadata": {
    "id": "8cd0fa28"
   },
   "source": [
    "### Q2. Particle with highest probability"
   ]
  },
  {
   "cell_type": "markdown",
   "id": "d047edd3",
   "metadata": {
    "id": "d047edd3"
   },
   "source": [
    "[KOR]\n",
    "일련의 실험을 수행한 후, 특정 다섯 종류의 아원자 입자(subatomic particles)를 탐지할 확률을 {str: float} 딕셔너리 형태로 다음과 같이 저장했다.\n",
    "> {'neutron': 0.55, ‘proton': 0.21, 'meson': 0.03, 'muon': 0.07, 'neutrino': 0.14}\n",
    "\n",
    "이러한 딕셔너리를 변수(argument)로 받아 탐지 가능성이 가장 큰 입자를 리턴하는 함수를 작성하시오. 입자가 발견될 확률이 같은 경우는 없다.\n",
    "\n",
    "[ENG]\n",
    "Probabilities of detecting each subatomic particles are given in the form of dictionary.\n",
    "> {'neutron': 0.55, ‘proton': 0.21, 'meson': 0.03, 'muon': 0.07, 'neutrino': 0.14}\n",
    "\n",
    "Implement a function that returns the particle with the highest probability. There is no case that the probability is the same among different particles."
   ]
  },
  {
   "cell_type": "markdown",
   "id": "0cee3808",
   "metadata": {
    "id": "0cee3808"
   },
   "source": [
    "- ex1 - P2({'neutron': 0.55, 'proton': 0.21, 'meson': 0.03, 'muon': 0.07, 'neutrino': 0.14})\n",
    "> 'neutron'\n",
    "- ex2 - P2({'neutron': 0.11, 'proton': 0.21, 'meson': 0.05, 'muon': 0.09, 'neutrino': 0.12})\n",
    "> 'proton'"
   ]
  },
  {
   "cell_type": "markdown",
   "id": "378deec1",
   "metadata": {
    "id": "378deec1"
   },
   "source": [
    "#### Solution"
   ]
  },
  {
   "cell_type": "code",
   "execution_count": 18,
   "id": "78c884c3",
   "metadata": {
    "id": "78c884c3"
   },
   "outputs": [],
   "source": [
    "def P2(dct: dict) -> str:\n",
    "    ### Write code here ###\n",
    "    max_k = \"\"\n",
    "    max_v = 0\n",
    "    for k,v in dct.items():\n",
    "        if v > max_v:\n",
    "            max_v = v\n",
    "            max_k = k\n",
    "\n",
    "    return max_k\n",
    "    \n",
    "\n",
    "    ### End of your code ###"
   ]
  },
  {
   "cell_type": "code",
   "execution_count": 19,
   "id": "e4c48b20",
   "metadata": {
    "id": "e4c48b20"
   },
   "outputs": [
    {
     "name": "stdout",
     "output_type": "stream",
     "text": [
      "Input: {'neutron': 0.55, 'proton': 0.21, 'meson': 0.03, 'muon': 0.07, 'neutrino': 0.14} \n",
      " Expected: neutron \n",
      " Return:  neutron\n",
      "Input: {'neutron': 0.11, 'proton': 0.21, 'meson': 0.05, 'muon': 0.09, 'neutrino': 0.12} \n",
      " Expected: proton \n",
      " Return:  proton\n"
     ]
    }
   ],
   "source": [
    "# Test code for given cases; run without modification\n",
    "print(\"Input: {'neutron': 0.55, 'proton': 0.21, 'meson': 0.03, 'muon': 0.07, 'neutrino': 0.14} \\n Expected: neutron \\n Return: \", P2({'neutron': 0.55, 'proton': 0.21, 'meson': 0.03, 'muon': 0.07, 'neutrino': 0.14}))\n",
    "print(\"Input: {'neutron': 0.11, 'proton': 0.21, 'meson': 0.05, 'muon': 0.09, 'neutrino': 0.12} \\n Expected: proton \\n Return: \", P2({'neutron': 0.11, 'proton': 0.21, 'meson': 0.05, 'muon': 0.09, 'neutrino': 0.12}))"
   ]
  },
  {
   "cell_type": "code",
   "execution_count": 20,
   "id": "af547038",
   "metadata": {
    "id": "af547038"
   },
   "outputs": [
    {
     "data": {
      "text/plain": [
       "'neutron'"
      ]
     },
     "execution_count": 20,
     "metadata": {},
     "output_type": "execute_result"
    }
   ],
   "source": [
    "# Try your own test case!\n",
    "test_input = {'neutron': 0.55, 'proton': 0.21, 'meson': 0.03, 'muon': 0.07, 'neutrino': 0.14}# your input\n",
    "P2(test_input)"
   ]
  },
  {
   "cell_type": "markdown",
   "id": "764fc4b0",
   "metadata": {
    "id": "764fc4b0"
   },
   "source": [
    "### Q3. Check dictionary of dictionaries"
   ]
  },
  {
   "cell_type": "markdown",
   "id": "a6ed4a38",
   "metadata": {
    "id": "a6ed4a38"
   },
   "source": [
    "[KOR]\n",
    "때때로 프로그래머들은 value가 딕셔너리로 이루어진 “Dictionary of dictionaries”를 간단한 데이터베이스로 이용한다. key가 문자열(string)이고 value가 딕셔너리 형태인 “Dictionary of dictionaries”를 다음과 같이 나타낼 수 있고, 이때 value는 “inner dictionary”라 한다. “Dictionary of dictionaries”를 변수(argument)로 받아 “inner dictionaries”가 모두 같은 key 값을 가지면 1, 아니면 0을 리턴하는 함수를 작성하시오.\n",
    "\n",
    "! 조건\n",
    "1. 딕셔너리가 비어있는 경우는 없음\n",
    "2. 모든 value는 딕셔너리로 되어있음\n",
    "3. value의 value는 딕셔너리 형태가 아님\n",
    "\n",
    "\n",
    "[ENG]\n",
    "\"Dictionary of dictionaries\" refer to a dictionary that has values that are dictionaries as well. Here we have keys of strings and values of dictionaries, which we call \"inner dictionary\". Take \"Dictionary of dictionaries\" as input argument. Return 1 if all \"inner dictionaries\" have the exact same keys, else 0.\n",
    "\n",
    "! Condition\n",
    "1. input dictionaries are not empty\n",
    "2. All values are dictionaries\n",
    "3. Values of a value is not a dictionary"
   ]
  },
  {
   "cell_type": "code",
   "execution_count": null,
   "id": "becfd848",
   "metadata": {
    "id": "becfd848"
   },
   "outputs": [],
   "source": [
    "{ 'jgoodall' : {'surname' : 'Goodall',\n",
    "                'forename' : 'Jane',\n",
    "                'born' : 1934,\n",
    "                'died' : None,\n",
    "                'notes' : 'primate researcher',\n",
    "                'author' : ['In the Shadow of Man','The Chimpanzees of Gombe']},\n",
    "    'rfranklin' : {'surname' : 'Franklin',\n",
    "                'forename' : 'Rosalind',\n",
    "                'born' : 1920,\n",
    "                'died' : 1957,\n",
    "                'notes' : 'contributed to discovery of DNA'},\n",
    "    'rcarson' : {'surname' : 'Carson',\n",
    "                'forename' : 'Rachel',\n",
    "                'born' : 1907,\n",
    "                'died' : 1964,\n",
    "                'notes' : 'raised awareness of effects of DDT',\n",
    "                'author' : ['Silent Spring'] }}"
   ]
  },
  {
   "cell_type": "markdown",
   "id": "ee4feb00",
   "metadata": {
    "id": "ee4feb00"
   },
   "source": [
    "- ex1 - P3({'a': {'aa':123, 'ab': [1,2]}, 'b': {'aa': 'bb', 'ab': 'cc'}})\n",
    "> 1 (Explanation: All values have the same keys, {'aa', 'ab'}.)\n",
    "- ex2 - P3({'A': {1: 'a', 2: 'b'}, 'B': {2: 'c', 3: 'd'}})\n",
    "> 0"
   ]
  },
  {
   "cell_type": "markdown",
   "id": "b1586baf",
   "metadata": {
    "id": "b1586baf"
   },
   "source": [
    "#### Solution"
   ]
  },
  {
   "cell_type": "code",
   "execution_count": 27,
   "id": "99f76b43",
   "metadata": {
    "id": "99f76b43"
   },
   "outputs": [],
   "source": [
    "def P3(dct: dict) -> int:\n",
    "    ### Write code here ###\n",
    "\n",
    "    keys = [set(v.keys()) for v in dct.values()]\n",
    "    f = keys[0]\n",
    "    for k in keys:\n",
    "        if f != k:\n",
    "            return 0\n",
    "        f = k\n",
    "    \n",
    "    return 1\n",
    "        \n",
    "\n",
    "    \n",
    "    \n",
    "\n",
    "    ### End of your code ###"
   ]
  },
  {
   "cell_type": "code",
   "execution_count": 28,
   "id": "6241edea",
   "metadata": {
    "id": "6241edea"
   },
   "outputs": [
    {
     "name": "stdout",
     "output_type": "stream",
     "text": [
      "Input: {'a': {'aa':123, 'ab': [1,2]}, 'b': {'aa': 'bb', 'ab': 'cc'}, 'c':{'ab':'bc','aa':'dd'}} \n",
      " Expected: 1 \n",
      " Return:  1\n",
      "Input: {'A': {1: 'a', 2: 'b'}, 'B': {2: 'c', 3: 'd'}} \n",
      " Expected: 0 \n",
      " Return:  0\n"
     ]
    }
   ],
   "source": [
    "# Test code for given cases; run without modification\n",
    "print(\"Input: {'a': {'aa':123, 'ab': [1,2]}, 'b': {'aa': 'bb', 'ab': 'cc'}, 'c':{'ab':'bc','aa':'dd'}} \\n Expected: 1 \\n Return: \", P3({'a': {'aa':123, 'ab': [1,2]}, 'b': {'aa': 'bb', 'ab': 'cc'}, 'c':{'ab':'bc','aa':'dd'}}))\n",
    "print(\"Input: {'A': {1: 'a', 2: 'b'}, 'B': {2: 'c', 3: 'd'}} \\n Expected: 0 \\n Return: \", P3({'A': {1: 'a', 2: 'b'}, 'B': {2: 'c', 3: 'd'}}))"
   ]
  },
  {
   "cell_type": "code",
   "execution_count": null,
   "id": "6791dd78",
   "metadata": {
    "id": "6791dd78"
   },
   "outputs": [],
   "source": [
    "# Try your own test case!\n",
    "test_input = _# your input\n",
    "P3(test_input)"
   ]
  },
  {
   "cell_type": "markdown",
   "id": "mkugnd6xKsnG",
   "metadata": {
    "id": "mkugnd6xKsnG"
   },
   "source": [
    "# File IO"
   ]
  },
  {
   "cell_type": "markdown",
   "id": "b914d718-b4c3-4107-99d2-10fee0eb0c02",
   "metadata": {},
   "source": [
    "시작 전 menu.txt, file_practice.txt를 현재 디렉토리에 저장해 주세요."
   ]
  },
  {
   "cell_type": "markdown",
   "id": "37da5851",
   "metadata": {
    "id": "37da5851"
   },
   "source": [
    "## Q4. Café menu\n",
    "\n",
    "Write two functions to read a cafe's menu from a text file (menu.txt) and return a list of menu.\n",
    "\n",
    "* menu - returns list of lists\n",
    "* reverse_menu - returns a list of strings in reverse order"
   ]
  },
  {
   "cell_type": "code",
   "execution_count": 29,
   "id": "d08d9508-a3b7-42d0-a85c-0bb18bd10579",
   "metadata": {},
   "outputs": [
    {
     "name": "stdout",
     "output_type": "stream",
     "text": [
      "menu.txt \n",
      "\n",
      "Americano 3.66 4.11 4.56\n",
      "CafeLatte 4.11 4.56 5.00\n",
      "CafeMocha 4.55 5.00 5.45\n",
      "DecafeCaffeLatte 4.38 4.82\n"
     ]
    }
   ],
   "source": [
    "print(\"menu.txt \\n\")\n",
    "with open(\"menu.txt\",'r') as menu_txt:\n",
    "    print(menu_txt.read())"
   ]
  },
  {
   "cell_type": "code",
   "execution_count": 30,
   "id": "80d140a0",
   "metadata": {
    "id": "80d140a0"
   },
   "outputs": [],
   "source": [
    "from typing import TextIO, List"
   ]
  },
  {
   "cell_type": "code",
   "execution_count": 35,
   "id": "8a29fdd4",
   "metadata": {
    "id": "8a29fdd4"
   },
   "outputs": [],
   "source": [
    "def menu(filename : str) -> List[List]:\n",
    "    # Write your code here\n",
    "    with open(filename, \"r\") as file:\n",
    "        out_list = file.readlines()\n",
    "    out_list = [o.strip() for o in out_list]\n",
    "\n",
    "    return out_list"
   ]
  },
  {
   "cell_type": "code",
   "execution_count": 36,
   "id": "2301df84",
   "metadata": {
    "id": "2301df84"
   },
   "outputs": [
    {
     "data": {
      "text/plain": [
       "['Americano 3.66 4.11 4.56',\n",
       " 'CafeLatte 4.11 4.56 5.00',\n",
       " 'CafeMocha 4.55 5.00 5.45',\n",
       " 'DecafeCaffeLatte 4.38 4.82']"
      ]
     },
     "execution_count": 36,
     "metadata": {},
     "output_type": "execute_result"
    }
   ],
   "source": [
    "menu('menu.txt')"
   ]
  },
  {
   "cell_type": "code",
   "execution_count": 39,
   "id": "b153071e",
   "metadata": {
    "id": "b153071e"
   },
   "outputs": [],
   "source": [
    "def reverse_menu(filename: str) -> list:\n",
    "    # Write your code here\n",
    "    out = menu(filename)\n",
    "    reverse_list = [out[i] for i in range(len(out)-1, -1, -1)]\n",
    "\n",
    "    return reverse_list"
   ]
  },
  {
   "cell_type": "code",
   "execution_count": 40,
   "id": "501bc6d0",
   "metadata": {
    "id": "501bc6d0"
   },
   "outputs": [
    {
     "data": {
      "text/plain": [
       "['DecafeCaffeLatte 4.38 4.82',\n",
       " 'CafeMocha 4.55 5.00 5.45',\n",
       " 'CafeLatte 4.11 4.56 5.00',\n",
       " 'Americano 3.66 4.11 4.56']"
      ]
     },
     "execution_count": 40,
     "metadata": {},
     "output_type": "execute_result"
    }
   ],
   "source": [
    "reverse_menu('menu.txt')"
   ]
  }
 ],
 "metadata": {
  "colab": {
   "collapsed_sections": [
    "mkugnd6xKsnG",
    "37da5851",
    "36383641",
    "0408a141",
    "2d209e85",
    "d6a2a24b"
   ],
   "provenance": []
  },
  "kernelspec": {
   "display_name": "Python 3 (ipykernel)",
   "language": "python",
   "name": "python3"
  },
  "language_info": {
   "codemirror_mode": {
    "name": "ipython",
    "version": 3
   },
   "file_extension": ".py",
   "mimetype": "text/x-python",
   "name": "python",
   "nbconvert_exporter": "python",
   "pygments_lexer": "ipython3",
   "version": "3.11.4"
  }
 },
 "nbformat": 4,
 "nbformat_minor": 5
}
