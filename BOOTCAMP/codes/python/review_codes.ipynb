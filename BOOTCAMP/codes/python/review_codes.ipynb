{
 "cells": [
  {
   "cell_type": "markdown",
   "metadata": {},
   "source": [
    "# Object-Oriented Programming\n",
    "\n",
    "* Encapsulation : Contain related information in an object\n",
    "    * attributes and methods\n",
    "* Abstraction : Expose only high level interfaces to the outside world\n",
    "    * hide details\n",
    "* Inheritance : Child classes inherit data and behaviors from parent class\n",
    "    * super().init\n",
    "* Polymorphism : A single method acts in a different way depending on objects\n",
    "    * 각 object 내 method가 각기 다른 것을 한다."
   ]
  },
  {
   "cell_type": "markdown",
   "metadata": {},
   "source": [
    "## School Members"
   ]
  },
  {
   "cell_type": "code",
   "execution_count": 13,
   "metadata": {},
   "outputs": [],
   "source": [
    "class Member:\n",
    "    def __init__(self, name: str, address:str, email:str, DoB:str, affiliation : str) -> None:\n",
    "        self.name = name\n",
    "        self.address = address\n",
    "        self.email = email\n",
    "        self.DoB = DoB\n",
    "        self.affiliation = affiliation\n",
    "        self.infoList = [self.name, self.address, self.email, self.DoB, self.affiliation]\n",
    "\n",
    "    def printInfo(self):\n",
    "        print(self.infoList)\n",
    "\n",
    "    #for polymorpism\n",
    "    def switch_affiliation(self, new_affiliation:str):\n",
    "        print(\"Member \", self.name, \"changes affiliation from \", self.affiliation, \"to \", new_affiliation)\n",
    "        self.affiliation = new_affiliation\n",
    "\n",
    "\n",
    "class Student(Member) : #inheritance\n",
    "    def __init__(self, name: str, address:str, email:str, DoB:str, affiliation : str, student_num :str ) -> None:\n",
    "        super().__init__(name, address, email, DoB, affiliation) #parameter 상속\n",
    "        self.student_num = student_num\n",
    "        self.advisor = \"\"\n",
    "        self.courses_taken = []\n",
    "        self.courses_taking = []\n",
    "        self.GPA = 0\n",
    "        self.infoList +=[self.student_num, self.advisor, self.courses_taken, self.courses_taking, self.GPA]\n",
    "\n",
    "    #for polymorpism\n",
    "    def switch_affiliation(self, new_affiliation:str):\n",
    "        print(\"Student \", self.name, \"changes affiliation from \", self.affiliation, \"to \", new_affiliation)\n",
    "        self.affiliation = new_affiliation\n",
    "    \n",
    "        \n",
    "\n",
    "class Faculty(Member):\n",
    "    def __init__(self, name: str, address:str, email:str, DoB:str, affiliation : str, faculty_num:str ) -> None:\n",
    "        super().__init__(name, address, email, DoB, affiliation) #parameter 상속\n",
    "\n",
    "        self.faculty_num = faculty_num\n",
    "        self.advisees = []\n",
    "        self.courses_teaching =[]\n",
    "\n",
    "        self.infoList+=[self.faculty_num, self.advisees, self.courses_teaching]\n",
    "\n",
    "\n",
    "    #for polymorpism\n",
    "    def switch_affiliation(self, new_affiliation:str):\n",
    "        print(\"Faculty \", self.name, \"changes affiliation from \", self.affiliation, \"to \", new_affiliation)\n",
    "        self.affiliation = new_affiliation\n",
    "\n",
    "            "
   ]
  },
  {
   "cell_type": "code",
   "execution_count": 14,
   "metadata": {},
   "outputs": [
    {
     "name": "stdout",
     "output_type": "stream",
     "text": [
      "<class '__main__.Faculty'>\n",
      "True\n",
      "['Kim', 'add', 'email', 'Dob', 'DS', 'faculty_num', [], []]\n"
     ]
    }
   ],
   "source": [
    "hyungsin = Faculty(\"Kim\", \"add\", \"email\", \"Dob\", \"DS\", \"faculty_num\")\n",
    "print(type(hyungsin))\n",
    "print(type(hyungsin) ==Faculty)\n",
    "hyungsin.printInfo() # "
   ]
  },
  {
   "cell_type": "markdown",
   "metadata": {},
   "source": [
    "마지막 두개는 advisees, courses_teaching"
   ]
  },
  {
   "cell_type": "markdown",
   "metadata": {},
   "source": [
    "## Testing Inheritance"
   ]
  },
  {
   "cell_type": "code",
   "execution_count": 15,
   "metadata": {},
   "outputs": [
    {
     "name": "stdout",
     "output_type": "stream",
     "text": [
      "['Yeom', 'add', 'email', 'DB', 'DS', '10', '', [], [], 0]\n",
      "['Yeom2', 'add2', 'email2', 'DB2', 'DS2', '11', [], []]\n"
     ]
    }
   ],
   "source": [
    "yeom_s = Student(\"Yeom\", \"add\", \"email\", \"DB\", \"DS\", \"10\")\n",
    "yeom_s.printInfo()\n",
    "yeom_f = Faculty(\"Yeom2\", \"add2\", \"email2\", \"DB2\", \"DS2\", \"11\")\n",
    "yeom_f.printInfo()"
   ]
  },
  {
   "cell_type": "markdown",
   "metadata": {},
   "source": [
    "서로 같은 \"객체\"를 상속 받아온거지, 다르게 정의를 내리면서, 다른 값들을 지정한다."
   ]
  },
  {
   "cell_type": "markdown",
   "metadata": {},
   "source": [
    "## Testing Polymorpism\n",
    "\n",
    "single method acts in a different way depending on objects"
   ]
  },
  {
   "cell_type": "code",
   "execution_count": 16,
   "metadata": {},
   "outputs": [
    {
     "name": "stdout",
     "output_type": "stream",
     "text": [
      "Student  Yeom changes affiliation from  DS to  GSDS\n",
      "Faculty  Yeom2 changes affiliation from  DS2 to  GSDS\n",
      "['Yeom', 'add', 'email', 'DB', 'DS', '10', '', [], [], 0]\n",
      "['Yeom2', 'add2', 'email2', 'DB2', 'DS2', '11', [], []]\n"
     ]
    }
   ],
   "source": [
    "yeom_s.switch_affiliation(\"GSDS\")\n",
    "yeom_f.switch_affiliation(\"GSDS\")\n",
    "\n",
    "yeom_s.printInfo() # 문제는 이거는 바뀌지 않음. 리스트 내 저장되어있는 \"주소\"값은 바뀌지 않았기 때문.\n",
    "yeom_f.printInfo()"
   ]
  },
  {
   "cell_type": "markdown",
   "metadata": {},
   "source": [
    "infoList가 바뀌지 않은 이유 : evaluation한 값, 즉 주소값을 저장하고 있기에 주소 값을 바꿔줘야 한다.\n",
    " * list에 담겨있는 것도 새롭게 assignment해야 함."
   ]
  },
  {
   "cell_type": "markdown",
   "metadata": {},
   "source": [
    "## Cartesian Plane"
   ]
  },
  {
   "cell_type": "code",
   "execution_count": 19,
   "metadata": {},
   "outputs": [],
   "source": [
    "class Point:\n",
    "    def __init__(self, x:int, y:int) ->None:\n",
    "        self.x = x\n",
    "        self.y = y\n",
    "\n",
    "class Line:\n",
    "    def __init__(self, p1 :Point, p2 : Point) -> None:\n",
    "        self.p1 = p1\n",
    "        self.p2 = p2\n",
    "\n",
    "    def slope(self) ->float:\n",
    "        return f\"{(self.p2.y - self.p1.y) / (self.p2.x - self.p1.x):.1f}\"\n",
    "\n",
    "    def length(self):\n",
    "        return ((self.p2.y - self.p1.y)**2 + (self.p2.x - self.p1.x)**2)**0.5\n"
   ]
  },
  {
   "cell_type": "code",
   "execution_count": 20,
   "metadata": {},
   "outputs": [
    {
     "name": "stdout",
     "output_type": "stream",
     "text": [
      "0.5\n",
      "2.23606797749979\n"
     ]
    }
   ],
   "source": [
    "line = Line(Point(1,1), Point(3,2))\n",
    "print(line.slope())\n",
    "print(line.length())\n",
    "\n"
   ]
  },
  {
   "cell_type": "markdown",
   "metadata": {},
   "source": [
    "# Seach Algorithms"
   ]
  },
  {
   "cell_type": "markdown",
   "metadata": {},
   "source": [
    "## Linear Search"
   ]
  },
  {
   "cell_type": "markdown",
   "metadata": {},
   "source": [
    "search from first to the last item sequentially "
   ]
  },
  {
   "cell_type": "code",
   "execution_count": null,
   "metadata": {},
   "outputs": [],
   "source": [
    "def linear_search_while(L: list, value: Any) ->int:\n",
    "    i = 0\n",
    "    while i< len(L) and L[i] != value:\n",
    "        i +=1\n",
    "\n",
    "    if i == len(L):\n",
    "        return -1\n",
    "\n",
    "    else: return i\n",
    "\n",
    "def linear_search_sentinel(L: list, value: Any) ->int:\n",
    "    L.append(value) # add the sentinel\n",
    "    i = 0\n",
    "    while L[i] != value:\n",
    "        i +=1\n",
    "\n",
    "    L.pop() # remove the sentinel(from last)\n",
    "    if i == len(L):\n",
    "        return -1\n",
    "\n",
    "    else: return i\n",
    "\n",
    "\n",
    "\n",
    "\n",
    "def linear_search_for(L: list, value: Any) ->int:\n",
    "    for i in range(len(L)):\n",
    "        if L[i] == value:\n",
    "            return i \n",
    "        return -1"
   ]
  },
  {
   "cell_type": "markdown",
   "metadata": {},
   "source": [
    "**Time Complexity**\n",
    "* Linear search : len(L) * k : proportional to len(L)"
   ]
  },
  {
   "cell_type": "code",
   "execution_count": null,
   "metadata": {},
   "outputs": [],
   "source": [
    "import time\n",
    "t_start = time.perf_counter()\n",
    "\n",
    "## algorithm\n",
    "\n",
    "t_end = time.perf_counter()\n",
    "\n",
    "(t_end -t_start) * 1000.0 # the unit : milliseconds"
   ]
  },
  {
   "cell_type": "markdown",
   "metadata": {},
   "source": [
    "while, sentinel, for보다 list.index(value)로 찾는게 가장 빠르다.\n",
    "* Why? : C로 구현한 것이 더 빠르다는 사실임.\n"
   ]
  },
  {
   "cell_type": "markdown",
   "metadata": {},
   "source": [
    "# Binary Seach"
   ]
  },
  {
   "cell_type": "markdown",
   "metadata": {},
   "source": [
    "Linear search는 sorting 여부에 크게 좌우되지 않는다.\n",
    "* 정렬된 것에 대해 장점을 부각해보자.\n",
    "* Linear search  :  하나 평가하고 하나 제외하고\n",
    "* Binary search : 한번 평가하고 전체의 반 제외하고\n",
    "    * 정렬된 전체의 가운데를 target 하고 비교, 작다면 왼쪽을 날리고, 크다면 오른쪽을 날리고.\n",
    "\n",
    "\n",
    "\n",
    "단, 정렬된 리스트만 가능하다."
   ]
  },
  {
   "cell_type": "code",
   "execution_count": null,
   "metadata": {},
   "outputs": [],
   "source": [
    "def binary_search(L : list, v: Any) -> int:\n",
    "\n",
    "    start, end = 0, len(L) -1\n",
    "\n",
    "    while start != end + 1:\n",
    "        mid = (start + end) // 2 # index의 가운데\n",
    "\n",
    "        if L[mid] <v : \n",
    "            start = mid +1 # 앞쪽 날리기\n",
    "\n",
    "        else: end = mid -1\n",
    "\n",
    "    if start < len(L) and L[start] ==v:\n",
    "\n",
    "            return start\n",
    "    else: return -1\n"
   ]
  },
  {
   "cell_type": "markdown",
   "metadata": {},
   "source": [
    "**Time Complexity**\n",
    "\n",
    "* linear : len(L)\n",
    "* binary : log2len(L)\n",
    "\n",
    "list.index보다 빠르다.\n",
    "\n",
    "그럼 sorting은 어떻게?: Selection Sort"
   ]
  },
  {
   "cell_type": "markdown",
   "metadata": {},
   "source": [
    "## Selection Sort"
   ]
  },
  {
   "cell_type": "markdown",
   "metadata": {},
   "source": [
    "* find the minimum value of the unsorted list and swap it with the leftmost entry\n",
    "    * find minimum\n",
    "    * swap\n",
    "    * repetition"
   ]
  },
  {
   "cell_type": "code",
   "execution_count": null,
   "metadata": {},
   "outputs": [],
   "source": [
    "\n",
    "def find_min(L: list, start_idx: int) -> int:\n",
    "    smallest = start_idx\n",
    "    for i in range(start_idx +1, len(L)): #len(L) proportional -> sum\n",
    "\n",
    "        if L[i] < L[start_idx]:\n",
    "            smallest = i\n",
    "        else:\n",
    "            continue\n",
    "    \n",
    "    return smallest\n",
    "\n",
    "\n",
    "\n",
    "\n",
    "\n",
    "def selection_sort(L : list) -> None:\n",
    "    for i in range(len(L)): #current cursor\n",
    "        # find minimum\n",
    "        smallest = find_min(L, i)\n",
    "    \n",
    "        #swap \n",
    "        L[i], L[smallest] = L[smallest], L[i]"
   ]
  },
  {
   "cell_type": "markdown",
   "metadata": {},
   "source": [
    "**Time Complexity**\n",
    "\n",
    "* find_min : N(N+1) /2 : sum ~ N**2\n",
    "* swap : just 1"
   ]
  },
  {
   "cell_type": "markdown",
   "metadata": {},
   "source": [
    "## Insertion Sort"
   ]
  },
  {
   "cell_type": "markdown",
   "metadata": {},
   "source": [
    "Insert the leftmost item of the unsorted list to the proper location of the sorted list\n",
    "* 반대로 하나씩 적절한 공간에 넣는다. : 왼(작은것) - proper - 오(큰 것)\n",
    "* find proper place : 여기서 find_min 보다 작을 것\n",
    "    * 불필요한 이동이 없다.\n",
    "* insert\n",
    "* iteration"
   ]
  },
  {
   "cell_type": "code",
   "execution_count": null,
   "metadata": {},
   "outputs": [],
   "source": [
    "def insert(L: list, last_idx: int) -> None:\n",
    "\n",
    "    for i in range(last_idx, 0, -1): # go backward\n",
    "\n",
    "        if L[i-1] > L[i]: # check stoppping condition\n",
    "            #swap\n",
    "            L[i-1], L[i] = L[i], L[i-1]\n",
    "        \n",
    "        else: break\n",
    "\n",
    "\n",
    "\n",
    "def insert_sort(L:list) -> None :\n",
    "\n",
    "    for i in range(1, len(L)):  #0은 sort됐다고 가정\n",
    "        insert(L, i)"
   ]
  },
  {
   "cell_type": "markdown",
   "metadata": {},
   "source": [
    "**Time Complexity**\n",
    "\n",
    "* insert : 평균 (i+1) / 2를 look up 하면서 i/2 times swap -> 바깥 for 문\n",
    "    * look up : N(N+1) / 4 - 1/2\n",
    "    * Swap : (N-1)N/4\n",
    "\n",
    "* ~ N**2 : a bit slower than Selection sort\n",
    "\n",
    "* 거의 sorted 때 강점을 갖고 있다.-> 그냥 lookup 만 하고 자나가면 되기에, kN\n",
    "    * 자리를 바로 찾을 수 있기에.\n",
    "    * selection sort로 한다면 불필요하게(이미 정렬된 부분도) 전체를 보면서 minimum이 어딘지를 봐야 한다.\n",
    "\n",
    "\n",
    "\n"
   ]
  },
  {
   "cell_type": "markdown",
   "metadata": {},
   "source": [
    "## Big O"
   ]
  },
  {
   "cell_type": "markdown",
   "metadata": {},
   "source": [
    "* Execution cost\n",
    "    * time and memnory complexity\n",
    "\n",
    "* Programming cost\n",
    "    * develpment time, readabiity, modifiability, and maintainability"
   ]
  },
  {
   "cell_type": "markdown",
   "metadata": {},
   "source": [
    "Asymptotic Analysis\n",
    "* 2N**2 vs 500N operations\n",
    "    * not a specific value but a function shape (parabola vs line)\n",
    "    * order of growth\n",
    "    * 수치해석적인 해석이 필요하다."
   ]
  },
  {
   "cell_type": "markdown",
   "metadata": {},
   "source": [
    "**Time complexity**\n",
    "\n",
    "* order of Growth\n",
    "    1. consider only worst case\n",
    "    2. focus on only one operation that has the highest order of growth\n",
    "    3. remove lower order terms\n",
    "\n",
    "    * ex : Selection sort : N**2\n",
    "\n",
    "\n",
    "Formal Definition\n",
    "* T(N) $\\in$ O(f(N))\n",
    "* funtion T(N) has its order of growth less than or equal to f(N)\n",
    "* O : Big-O\n",
    "* there exists const k , s.t. $T(N) \\le k*f(N)$ for large N"
   ]
  },
  {
   "cell_type": "markdown",
   "metadata": {},
   "source": [
    "# Merge Sort"
   ]
  },
  {
   "cell_type": "code",
   "execution_count": null,
   "metadata": {},
   "outputs": [],
   "source": [
    "def merge(L: list, first: int, mid : int, last : int):\n",
    "    k = first\n",
    "    \n",
    "\n",
    "    sub1 = L[first:mid +1]\n",
    "    sub2 = L[mid+1 : last+1]\n",
    "\n",
    "    i = j= 0\n",
    "\n",
    "    while( i<len(sub1) and j < len(sub2)):\n",
    "        if sub1[i] <= sub2[j]:\n",
    "            L[k] = sub1[i]\n",
    "\n",
    "            i = i+1\n",
    "\n",
    "        else:\n",
    "            L[k] = sub2[j]\n",
    "            j = j+1\n",
    "        \n",
    "        k +=1\n",
    "\n",
    "    #checking left : sub1 or sub2 둘 중 하나는 남게 끝나기에.\n",
    "    \n",
    "    if i<len(sub1):\n",
    "        L[k :last+1] = sub1[i:]\n",
    "\n",
    "    elif j<len(sub2):\n",
    "        L[k :last+1] = sub2[j:]\n",
    "\n",
    "\n",
    "\n",
    "def MergeSortHelp(L : list, first: int, last : int) -> None:\n",
    "    if first  == last :\n",
    "        return\n",
    "    \n",
    "    else:\n",
    "        mid = first + (last-first)//2\n",
    "\n",
    "        MergeSortHelp(L, first, mid)\n",
    "        MergeSortHelp(L, mid+1, last)\n",
    "\n",
    "        merge(L, first, mid,last)"
   ]
  },
  {
   "cell_type": "markdown",
   "metadata": {},
   "source": [
    "# Binary search Tree"
   ]
  },
  {
   "cell_type": "code",
   "execution_count": null,
   "metadata": {},
   "outputs": [],
   "source": [
    "class TreeNode():\n",
    "    def __init__(self, x: int):\n",
    "        self.val = x\n",
    "        self.left = None\n",
    "        self.right = None\n",
    "\n",
    "class BST():\n",
    "    def __init__(self, root:TreeNode) -> None:\n",
    "        self.root = root\n",
    "\n",
    "    def __searchHelp(self, curNode: TreeNode, x: int) -> TreeNode:\n",
    "        # (1) Base Case\n",
    "        if not curNode:\n",
    "            return None\n",
    "        if x == curNode.val:\n",
    "            return curNode\n",
    "\n",
    "        # (2) Recursive case\n",
    "        if x < curNode.val:\n",
    "            return self.__searchHelp(curNode.left, x)\n",
    "        else:\n",
    "            return self.__searchHelp(curNode.right, x)\n",
    "\n",
    "    def search(self, x:int) -> TreeNode:\n",
    "        return self.__searchHelp(self.root, x)\n",
    "\n",
    "    def __insertHelp(self, curNode: TreeNode, x: int) -> TreeNode:\n",
    "        # (1) Base Case\n",
    "        if not curNode:\n",
    "            return TreeNode(x)\n",
    "        if x == curNode.val:\n",
    "            return curNode\n",
    "\n",
    "        # (2) Recursive case\n",
    "        if x < curNode.val:\n",
    "            curNode.left = self.__insertHelp(curNode.left, x)\n",
    "        else:\n",
    "            curNode.right = self.__insertHelp(curNode.right, x)\n",
    "\n",
    "        return curNode\n",
    "\n",
    "    def insert(self, x: int) -> None:\n",
    "        self.root = self.__insertHelp(self.root, x)\n",
    "\n",
    "\n",
    "\n",
    "    def __findMax(self, curNode : TreeNode) -> int:\n",
    "\n",
    "        if curNode.right == None:\n",
    "            return curNode.val\n",
    "        \n",
    "        else:\n",
    "            return self.__findMax(curNode.right) # recursively right \n",
    "\n",
    "\n",
    "\n",
    "    # scan through subtree and return a new root (if necessary)\n",
    "    def __deleteHelp(self, curNode: TreeNode, x: int) -> TreeNode:\n",
    "        #Write your code here\n",
    "\n",
    "        #search it \n",
    "\n",
    "        #base case : escape and not found\n",
    "        if not curNode:\n",
    "            return curNode\n",
    "        \n",
    "        #recursive case\n",
    "        if x < curNode.val:\n",
    "            curNode.left = self.__deleteHelp(curNode.left,x) # keep going left\n",
    "\n",
    "        elif x> curNode.val:\n",
    "            curNode.right = self.__deleteHelp(curNode.right, x) # keep going right\n",
    "\n",
    "        else: #find it!\n",
    "    \n",
    "            #step 2\n",
    "            if (curNode.left == None) and (curNode.right == None): # no child\n",
    "                return None # delete that node\n",
    "            \n",
    "            elif curNode.left and curNode.right == None: # one child\n",
    "                return curNode.left\n",
    "            \n",
    "            elif (curNode.left == None) and curNode.right:\n",
    "                return curNode.right\n",
    "            \n",
    "            else: #two child\n",
    "                #1. biggest from left\n",
    "                leftlargest = self.__findMax(curNode.left)\n",
    "        \n",
    "\n",
    "                #delete and get left largest node for left subtree\n",
    "                curNode.left = self.__deleteHelp(curNode.left, leftlargest)\n",
    "                \n",
    "                #replace with leftlargest value\n",
    "                curNode.val = leftlargest\n",
    "        return curNode\n",
    "\n",
    "\n",
    "    def delete(self, x: int) -> None:\n",
    "        self.root = self.__deleteHelp(self.root, x)"
   ]
  },
  {
   "cell_type": "markdown",
   "metadata": {},
   "source": [
    "# BFT(Breadth -First Traveral) in Tree"
   ]
  },
  {
   "cell_type": "code",
   "execution_count": null,
   "metadata": {},
   "outputs": [],
   "source": [
    "class Tree():\n",
    "    def visit(self, node : TreeNode):\n",
    "        print(node.val)\n",
    "\n",
    "    def BFT(self):\n",
    "        if self.root ==None:\n",
    "            return\n",
    "        \n",
    "        q = [self.root]\n",
    "        # q = deque([self.root])\n",
    "\n",
    "        while q:\n",
    "            curNode = q.pop(0) #q.popleft()\n",
    "\n",
    "            self.visit(curNode)\n",
    "\n",
    "            for childNode in curNode.child:\n",
    "                if childNode:\n",
    "                    q.append(childNode)"
   ]
  },
  {
   "cell_type": "markdown",
   "metadata": {},
   "source": [
    "# DFT in Tree"
   ]
  },
  {
   "cell_type": "markdown",
   "metadata": {},
   "source": [
    "## Preorder : visit a node before traversing\n",
    "\n",
    "ex) file directory listing"
   ]
  },
  {
   "cell_type": "code",
   "execution_count": null,
   "metadata": {},
   "outputs": [],
   "source": [
    "class Tree():\n",
    "    def visit(self, node : TreeNode):\n",
    "        print(node.val)\n",
    "\n",
    "    def __DFT_preorderHelp(self, curNode):\n",
    "        if curNode == None:\n",
    "            return\n",
    "        \n",
    "        self.visit(curNode)\n",
    "\n",
    "        for childNode  in curNode.child:\n",
    "            self.__DFT_preorderHelp(childNode)\n",
    "\n",
    "    def DFT_preorder(self):\n",
    "        self.__DFT_preorderHelp(self.root)\n"
   ]
  },
  {
   "cell_type": "markdown",
   "metadata": {},
   "source": [
    "## Inorder : Traverse -> visit in the middle\n",
    "\n",
    "\n",
    "ex) convert a binary search tree to a sorted list"
   ]
  },
  {
   "cell_type": "code",
   "execution_count": null,
   "metadata": {},
   "outputs": [],
   "source": [
    "class Tree():\n",
    "    def visit(self, node : TreeNode):\n",
    "        print(node.val)\n",
    "\n",
    "    def __DFT_inorderHelp(self, curNode):\n",
    "        if curNode == None:\n",
    "            return\n",
    "        \n",
    "        for i in range(len(curNode.child)):\n",
    "            if i ==1:\n",
    "                self.visit(curNode)\n",
    "\n",
    "            self.__DFT_inorderHelp(curNode.child[i])\n",
    "\n",
    "    def DFT_inorder(self):\n",
    "        self.__DFT_inorderHelp(self.root)\n"
   ]
  },
  {
   "cell_type": "markdown",
   "metadata": {},
   "source": [
    "## PostOrder : visit a node after traversing\n",
    "\n",
    "\n",
    "ex) file size calculation"
   ]
  },
  {
   "cell_type": "code",
   "execution_count": null,
   "metadata": {},
   "outputs": [],
   "source": [
    "class Tree():\n",
    "    def visit(self, node : TreeNode):\n",
    "        print(node.val)\n",
    "\n",
    "    def __DFT_postorderHelp(self, curNode):\n",
    "        if curNode == None:\n",
    "            return\n",
    "        \n",
    "        for i in range(len(curNode.child)):\n",
    "            self.__DFT_postorderHelp(curNode.child[i])\n",
    "            \n",
    "        \n",
    "        self.visit(curNode)\n",
    "\n",
    "            \n",
    "\n",
    "    def DFT_postorder(self):\n",
    "        self.__DFT_postorderHelp(self.root)\n"
   ]
  },
  {
   "cell_type": "markdown",
   "metadata": {},
   "source": [
    "# Graph\n",
    "\n",
    "* tree : connected, only one path\n",
    "* graph  : all of them\n",
    "* child = neighbors"
   ]
  },
  {
   "cell_type": "code",
   "execution_count": null,
   "metadata": {},
   "outputs": [],
   "source": [
    "from collections import deque\n",
    "\n",
    "class undi_graph():\n",
    "    def __init__(self, V: list, E:list) -> None :\n",
    "        self.V = V[:]\n",
    "        self.neighbors = {}\n",
    "\n",
    "        for v in V:\n",
    "            self.neighbors[v] = []\n",
    "\n",
    "        for(v,w) in E:\n",
    "            self.neighbors[v].append(w)\n",
    "            self.neighbors[w].append(v)\n",
    "\n",
    "    def BFT(self) -> None : #\n",
    "        if self.V : \n",
    "            visited = {}\n",
    "            #######################################\n",
    "            # write your code \n",
    "\n",
    "            # BFT : visit all connted unvisited node from there\n",
    "            # visited is a dictionary that marks visited nodes as True\n",
    "\n",
    "            for v in self.V:\n",
    "                visited[v] = False\n",
    "            #not recursively : visit negibors first\n",
    "                \n",
    "            for v in self.V:\n",
    "                q = deque()\n",
    "                q.append(v) #initial\n",
    "                \n",
    "                while q:\n",
    "                     \n",
    "                    #visit\n",
    "                    v  = q.popleft()\n",
    "\n",
    "                    #check visited\n",
    "                    if not visited[v]:\n",
    "                        visited[v] = True\n",
    "                        print(v, end =\" \")\n",
    "                    \n",
    "                    # save its neighbors if they not visited\n",
    "                    for w in self.neighbors[v]: # 공간 사용이 이게 더 적음.\n",
    "                        if not visited[w]:\n",
    "                            q.append(w)\n",
    "           \n",
    "\n",
    "            \n",
    "            #######################################\n",
    "\n",
    "\n",
    "    #preorder\n",
    "    def __DFTHelp(self, visited:list, v:int) -> None:\n",
    "\n",
    "        \n",
    "        if not visited[v]:\n",
    "            visited[v] = True\n",
    "            print(v)\n",
    "            for w in self.neighbors[v]:\n",
    "                self.__DFTHelp(visited, w)\n",
    "\n",
    "\n",
    "\n",
    "    def DFT(self) -> None:\n",
    "        if self.V:\n",
    "            visited = {}\n",
    "\n",
    "            #initialization\n",
    "            for v in self.V:\n",
    "                visited[v] = False\n",
    "            #DFT\n",
    "            for v in self.V:\n",
    "                self.__DFTHelp(visited, v)\n"
   ]
  },
  {
   "cell_type": "markdown",
   "metadata": {},
   "source": [
    "# 2's complement"
   ]
  },
  {
   "cell_type": "code",
   "execution_count": null,
   "metadata": {},
   "outputs": [],
   "source": [
    "def print_2_complement(n_bit,number):\n",
    "    ## your code\n",
    "\n",
    "    #원리 : 2_complemet끼리 더하면 0(n_bit)이다.\n",
    "\n",
    "    ##(n_bit +1 )의 2 거듭제곱에서 number을 뺀 수의 binary 표현\n",
    "    total = 2**n_bit # 16\n",
    "    bi = total - number\n",
    "    #bit\n",
    "    bi = bin(bi)[2:].zfill(n_bit) # fill bits\n",
    "\n",
    "    return bi"
   ]
  },
  {
   "cell_type": "markdown",
   "metadata": {},
   "source": [
    "## binary addition"
   ]
  },
  {
   "cell_type": "code",
   "execution_count": null,
   "metadata": {},
   "outputs": [],
   "source": [
    "def addition(x,y):\n",
    "    # Your code\n",
    "\n",
    "\n",
    "    carry = 0 #자리수 넘어가는 수\n",
    "    max_len = max(len(x), len(y))\n",
    "    #자리수 맞추기\n",
    "    x = x.zfill(max_len)\n",
    "    y = y.zfill(max_len)\n",
    "    answer = \"\"\n",
    "\n",
    "    for i in range(max_len -1, -1, -1): #1의 자리 부터\n",
    "        compare = carry + int(x[i]) + int(y[i]) # 0,1,2,3\n",
    "\n",
    "        #case1 : 자리 넘어가는 경우 : 2,3\n",
    "        if compare >=2:\n",
    "            if compare ==2:\n",
    "                answer = \"0\" + answer\n",
    "            \n",
    "            else:\n",
    "                answer = \"1\" + answer\n",
    "            carry =1\n",
    "\n",
    "        #자리가 넘어가지 않는 경우 : 0 or 1\n",
    "        else:\n",
    "            answer  = str(compare) + answer\n",
    "            carry =0\n",
    "\n",
    "\n",
    "\n",
    "\n",
    "\n",
    "    return answer"
   ]
  },
  {
   "cell_type": "markdown",
   "metadata": {},
   "source": [
    "## Hexagonal"
   ]
  },
  {
   "cell_type": "code",
   "execution_count": null,
   "metadata": {},
   "outputs": [],
   "source": [
    "def toHex(num: int) -> str:\n",
    "    # Your code\n",
    "\n",
    "\n",
    "    hex_num = \"0123456789abcdef\"\n",
    "\n",
    "    if num == 0:\n",
    "        return \"0\"\n",
    "    \n",
    "    ans = \"\"\n",
    "    while (num != 0 ) and len(ans) < 8:  #constraint\n",
    "        ans = hex_num[num % 16] + ans\n",
    "\n",
    "        #오른쪽으로 4비트 이동(binary 비트 상에서 오른쪽으로 밀기, like treadmil)\n",
    "        num >>=4 \n",
    "        \n",
    "\n",
    "\n",
    "    return ans"
   ]
  }
 ],
 "metadata": {
  "kernelspec": {
   "display_name": "base",
   "language": "python",
   "name": "python3"
  },
  "language_info": {
   "codemirror_mode": {
    "name": "ipython",
    "version": 3
   },
   "file_extension": ".py",
   "mimetype": "text/x-python",
   "name": "python",
   "nbconvert_exporter": "python",
   "pygments_lexer": "ipython3",
   "version": "3.11.4"
  }
 },
 "nbformat": 4,
 "nbformat_minor": 2
}
