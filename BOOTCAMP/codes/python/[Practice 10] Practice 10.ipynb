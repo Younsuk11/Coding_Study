{
 "cells": [
  {
   "cell_type": "markdown",
   "metadata": {},
   "source": [
    "# Exercise 1 2's complement implementation"
   ]
  },
  {
   "cell_type": "markdown",
   "metadata": {},
   "source": [
    "##### If the bit and number(number will always given positive) are given, print the negative binary representation with  2's complement.\n",
    "##### For example, if n_bit = 4 and number is 5, then the answer is 1011.\n",
    "Hint:\n",
    "Implementing decimal int to binary string might be difficult. Using python's bin() function is highly recommended"
   ]
  },
  {
   "cell_type": "code",
   "execution_count": 17,
   "metadata": {},
   "outputs": [],
   "source": [
    "def print_2_complement(n_bit,number):\n",
    "    ## your code\n",
    "\n",
    "    #원리 : 2_complemet끼리 더하면 0(n_bit)이다.\n",
    "\n",
    "    ##(n_bit +1 )의 2 거듭제곱에서 number을 뺀 수의 binary 표현\n",
    "    total = 2**n_bit # 16\n",
    "    bi = total - number\n",
    "    #bit\n",
    "    bi = bin(bi)[2:].zfill(n_bit) # fill bits\n",
    "\n",
    "    return bi"
   ]
  },
  {
   "cell_type": "code",
   "execution_count": 18,
   "metadata": {},
   "outputs": [
    {
     "name": "stdout",
     "output_type": "stream",
     "text": [
      "1011\n",
      "111000\n",
      "10011\n"
     ]
    }
   ],
   "source": [
    "## Test case\n",
    "\n",
    "print(print_2_complement(4,5))\n",
    "print(print_2_complement(6,8))\n",
    "print(print_2_complement(5,13))"
   ]
  },
  {
   "cell_type": "markdown",
   "metadata": {},
   "source": [
    "# Exercise 2 binary addition"
   ]
  },
  {
   "cell_type": "markdown",
   "metadata": {},
   "source": [
    "When n-bit binary number x and y are given in string(with 2's complement representation), print the result of the addition of x and y"
   ]
  },
  {
   "cell_type": "code",
   "execution_count": 20,
   "metadata": {},
   "outputs": [],
   "source": [
    "def addition(x,y):\n",
    "    # Your code\n",
    "\n",
    "\n",
    "    carry = 0 #자리수 넘어가는 수\n",
    "    max_len = max(len(x), len(y))\n",
    "    #자리수 맞추기\n",
    "    x = x.zfill(max_len)\n",
    "    y = y.zfill(max_len)\n",
    "    answer = \"\"\n",
    "\n",
    "    for i in range(max_len -1, -1, -1): #1의 자리 부터\n",
    "        compare = carry + int(x[i]) + int(y[i]) # 0,1,2,3\n",
    "\n",
    "        #case1 : 자리 넘어가는 경우 : 2,3\n",
    "        if compare >=2:\n",
    "            if compare ==2:\n",
    "                answer = \"0\" + answer\n",
    "            \n",
    "            else:\n",
    "                answer = \"1\" + answer\n",
    "            carry =1\n",
    "\n",
    "        #자리가 넘어가지 않는 경우 : 0 or 1\n",
    "        else:\n",
    "            answer  = str(compare) + answer\n",
    "            carry =0\n",
    "\n",
    "\n",
    "\n",
    "\n",
    "\n",
    "    return answer"
   ]
  },
  {
   "cell_type": "code",
   "execution_count": 21,
   "metadata": {},
   "outputs": [
    {
     "name": "stdout",
     "output_type": "stream",
     "text": [
      "0100\n",
      "0111\n",
      "010110\n"
     ]
    }
   ],
   "source": [
    "### Test case\n",
    "print(addition(\"0001\",\"0011\"))\n",
    "print(addition(\"0011\",\"0100\"))\n",
    "print(addition(\"001010\",\"001100\"))"
   ]
  },
  {
   "cell_type": "markdown",
   "metadata": {},
   "source": [
    "# Exercise 3 ToHexa"
   ]
  },
  {
   "cell_type": "markdown",
   "metadata": {},
   "source": [
    "Given an integer num, return a string representing its hexadecimal representation. For negative integers, two’s complement method is used.\n",
    "\n",
    "All the letters in the answer string should be lowercase characters, and there should not be any leading zeros in the answer except for the zero itself.\n",
    "\n",
    "Constraint : -2^31 <= num <= 2^31 - 1\n",
    "\n",
    "Note: You are not allowed to use any built-in library method to directly solve this problem. e.g.) hex(26)..."
   ]
  },
  {
   "cell_type": "code",
   "execution_count": 47,
   "metadata": {},
   "outputs": [],
   "source": [
    "def toHex(num: int) -> str:\n",
    "    # Your code\n",
    "\n",
    "\n",
    "    hex_num = \"0123456789abcdef\"\n",
    "\n",
    "    if num == 0:\n",
    "        return \"0\"\n",
    "    \n",
    "    ans = \"\"\n",
    "    while (num != 0 ) and len(ans) < 8:  #constraint\n",
    "        ans = hex_num[num % 16] + ans\n",
    "\n",
    "        #오른쪽으로 4비트 이동(binary 비트 상에서 오른쪽으로 밀기, like treadmil)\n",
    "        num >>=4 \n",
    "        \n",
    "\n",
    "\n",
    "    return ans"
   ]
  }
 ],
 "metadata": {
  "kernelspec": {
   "display_name": "Python 3",
   "language": "python",
   "name": "python3"
  },
  "language_info": {
   "codemirror_mode": {
    "name": "ipython",
    "version": 3
   },
   "file_extension": ".py",
   "mimetype": "text/x-python",
   "name": "python",
   "nbconvert_exporter": "python",
   "pygments_lexer": "ipython3",
   "version": "3.9.6"
  }
 },
 "nbformat": 4,
 "nbformat_minor": 2
}
