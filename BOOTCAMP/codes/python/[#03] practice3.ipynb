{
 "cells": [
  {
   "cell_type": "markdown",
   "metadata": {},
   "source": [
    "# In-class Exercise"
   ]
  },
  {
   "cell_type": "markdown",
   "metadata": {},
   "source": [
    "## Q1. Cartesian Plane"
   ]
  },
  {
   "cell_type": "markdown",
   "metadata": {},
   "source": [
    "Write two classes `Point` and `Line` that give the same output as below:\n",
    "```python\n",
    "line = Line(Point(1,1), Point(3,2)) # a line comprised of two 2D points\n",
    "line.slope() \n",
    "# 0.5\n",
    "line.length() \n",
    "# 2.23606797749979\n",
    "```"
   ]
  },
  {
   "cell_type": "code",
   "execution_count": 1,
   "metadata": {},
   "outputs": [],
   "source": [
    "class Point():\n",
    "    def __init__(self, x,y):\n",
    "        self.x = x\n",
    "        self.y = y"
   ]
  },
  {
   "cell_type": "code",
   "execution_count": 2,
   "metadata": {},
   "outputs": [],
   "source": [
    "from math import sqrt"
   ]
  },
  {
   "cell_type": "code",
   "execution_count": 6,
   "metadata": {},
   "outputs": [],
   "source": [
    "class Line():\n",
    "    def __init__(self, p1 :Point, p2 : Point) -> None:\n",
    "        self.p1 = p1\n",
    "        self.p2 = p2\n",
    "\n",
    "    def slope(self) ->float:\n",
    "        return float(f\"{(self.p2.y - self.p1.y) / (self.p2.x - self.p1.x):.1f}\")\n",
    "\n",
    "    def length(self):\n",
    "        return ((self.p2.y - self.p1.y)**2 + (self.p2.x - self.p1.x)**2)**0.5"
   ]
  },
  {
   "cell_type": "code",
   "execution_count": 7,
   "metadata": {},
   "outputs": [],
   "source": [
    "line = Line(Point(1,1), Point(3,2))"
   ]
  },
  {
   "cell_type": "code",
   "execution_count": 8,
   "metadata": {},
   "outputs": [
    {
     "data": {
      "text/plain": [
       "0.5"
      ]
     },
     "execution_count": 8,
     "metadata": {},
     "output_type": "execute_result"
    }
   ],
   "source": [
    "line.slope()"
   ]
  },
  {
   "cell_type": "code",
   "execution_count": 9,
   "metadata": {},
   "outputs": [
    {
     "data": {
      "text/plain": [
       "2.23606797749979"
      ]
     },
     "execution_count": 9,
     "metadata": {},
     "output_type": "execute_result"
    }
   ],
   "source": [
    "line.length()"
   ]
  },
  {
   "cell_type": "markdown",
   "metadata": {},
   "source": [
    "## Q2-1. Country"
   ]
  },
  {
   "cell_type": "markdown",
   "metadata": {},
   "source": [
    "Write class `Country`."
   ]
  },
  {
   "cell_type": "markdown",
   "metadata": {},
   "source": [
    "- a. By using `__init__` method, make class `Country` that takes `name`, `population`, `area` as parameters. The example looks like below. <br>\n",
    "  ```python\n",
    "  canada = Country(\"Canada\", 34482779, 9984670)\n",
    "  canada.population \n",
    "  # 34482779\n",
    "  canada.area \n",
    "  # 9984670\n",
    "  ```"
   ]
  },
  {
   "cell_type": "markdown",
   "metadata": {},
   "source": [
    "- b. define `is_larger` method.\n",
    "  - `is_lager` : a method that returns `True` only when the first country has a larger area than the second country. (Return `False` if area is the same)\n",
    "  - The example looks like below <br>\n",
    "    ```python\n",
    "    usa = Country(\"United State of America\", 313914040, 9826675)\n",
    "    canada.is_larger(usa) \n",
    "    # True\n",
    "    ```"
   ]
  },
  {
   "cell_type": "markdown",
   "metadata": {},
   "source": [
    "- c. define `population_density` method.\n",
    "  - `population_density` : a method that returns the population density (number of people per area) of a country. (There is no case where the area is zero.)\n",
    "  - The example looks like below <br>\n",
    "    ```python\n",
    "    canada.population_densitiy() \n",
    "    # 3.4535722262227995\n",
    "    ```"
   ]
  },
  {
   "cell_type": "code",
   "execution_count": 10,
   "metadata": {},
   "outputs": [],
   "source": [
    "# Do not edit this code!\n",
    "# This code help Country class recognize itself\n",
    "from __future__ import annotations"
   ]
  },
  {
   "cell_type": "code",
   "execution_count": 11,
   "metadata": {},
   "outputs": [],
   "source": [
    "class Country:\n",
    "    def __init__(self, name: str, population: int, area: int) -> None:\n",
    "        # 4-a. Write your code below\n",
    "        self.name = name\n",
    "        self.population = population\n",
    "        self.area = area\n",
    "\n",
    "    def is_larger(self, compare: Country) -> bool:\n",
    "        # 4-b. Write your code below\n",
    "        return self.area > compare.area\n",
    "    def population_density(self) -> float:\n",
    "        # 4-c. Write your code below\n",
    "        return self.population / self.area"
   ]
  },
  {
   "cell_type": "code",
   "execution_count": 12,
   "metadata": {},
   "outputs": [
    {
     "name": "stdout",
     "output_type": "stream",
     "text": [
      "Canada\n",
      "9984670\n"
     ]
    }
   ],
   "source": [
    "canada = Country(\"Canada\", 34482779, 9984670)\n",
    "print(canada.name) \n",
    "print(canada.area)"
   ]
  },
  {
   "cell_type": "code",
   "execution_count": 13,
   "metadata": {},
   "outputs": [
    {
     "data": {
      "text/plain": [
       "True"
      ]
     },
     "execution_count": 13,
     "metadata": {},
     "output_type": "execute_result"
    }
   ],
   "source": [
    "usa = Country(\"United State of America\", 313914040, 9826675)\n",
    "canada.is_larger(usa) "
   ]
  },
  {
   "cell_type": "code",
   "execution_count": 14,
   "metadata": {},
   "outputs": [
    {
     "data": {
      "text/plain": [
       "3.4535722262227995"
      ]
     },
     "execution_count": 14,
     "metadata": {},
     "output_type": "execute_result"
    }
   ],
   "source": [
    "canada.population_density() "
   ]
  },
  {
   "cell_type": "markdown",
   "metadata": {},
   "source": [
    "## Q2-2. Continent"
   ]
  },
  {
   "cell_type": "markdown",
   "metadata": {},
   "source": [
    "Write `Continent` class that takes `name` and `Countries` as parameters.<br>\n",
    "(Country class is same one which you've just implemented at Q3-1)"
   ]
  },
  {
   "cell_type": "markdown",
   "metadata": {},
   "source": [
    "- a. By using `__init__` method, make class `Continent` that takes `name`, `countries` as parameters.\n",
    "  - `Countries` is a list of `Country` objects.\n",
    "  - `Countries` at least has more than one element.\n",
    "  - The example looks like below. <br>\n",
    "    ```python\n",
    "    canada = Country('Canada', 34482779, 9984670)\n",
    "    usa = Country('United States of America', 313914040, 9826675)\n",
    "    mexico = Country('Mexico', 112336538, 1943950)\n",
    "    countries = [canada, usa, mexico]\n",
    "    north_america = Continent('North America', countries)\n",
    "    north_america.name \n",
    "    # North America\n",
    "    ```"
   ]
  },
  {
   "cell_type": "markdown",
   "metadata": {},
   "source": [
    "- b. define `total_population` method.\n",
    "  - `total_poulation method` : a method that returns the sum of the population of countries belonging to the continent\n",
    "  - The example looks like below <br>\n",
    "    ```python\n",
    "    north_america.total_population() \n",
    "    # 460733357\n",
    "    ```"
   ]
  },
  {
   "cell_type": "code",
   "execution_count": 24,
   "metadata": {},
   "outputs": [],
   "source": [
    "class Continent:\n",
    "    def __init__(self, name: str, countries: list[Country]) -> None:\n",
    "        # Q5-a. Write your code below\n",
    "        self.name = name\n",
    "        self.countries = countries\n",
    "\n",
    "    def total_population(self) -> int:\n",
    "        # Q5-b. Write your code below\n",
    "        tp = 0\n",
    "        for country in self.countries:\n",
    "            tp += country.population\n",
    "        return tp"
   ]
  },
  {
   "cell_type": "code",
   "execution_count": 25,
   "metadata": {},
   "outputs": [
    {
     "data": {
      "text/plain": [
       "'North America'"
      ]
     },
     "execution_count": 25,
     "metadata": {},
     "output_type": "execute_result"
    }
   ],
   "source": [
    "canada = Country('Canada', 34482779, 9984670)\n",
    "usa = Country('United States of America', 313914040, 9826675)\n",
    "mexico = Country('Mexico', 112336538, 1943950)\n",
    "countries = [canada, usa, mexico]\n",
    "north_america = Continent('North America', countries)\n",
    "north_america.name"
   ]
  },
  {
   "cell_type": "code",
   "execution_count": 26,
   "metadata": {},
   "outputs": [
    {
     "data": {
      "text/plain": [
       "460733357"
      ]
     },
     "execution_count": 26,
     "metadata": {},
     "output_type": "execute_result"
    }
   ],
   "source": [
    "north_america.total_population()"
   ]
  }
 ],
 "metadata": {
  "kernelspec": {
   "display_name": "Python 3 (ipykernel)",
   "language": "python",
   "name": "python3"
  },
  "language_info": {
   "codemirror_mode": {
    "name": "ipython",
    "version": 3
   },
   "file_extension": ".py",
   "mimetype": "text/x-python",
   "name": "python",
   "nbconvert_exporter": "python",
   "pygments_lexer": "ipython3",
   "version": "3.11.4"
  },
  "vscode": {
   "interpreter": {
    "hash": "aee8b7b246df8f9039afb4144a1f6fd8d2ca17a180786b69acc140d282b71a49"
   }
  }
 },
 "nbformat": 4,
 "nbformat_minor": 4
}
