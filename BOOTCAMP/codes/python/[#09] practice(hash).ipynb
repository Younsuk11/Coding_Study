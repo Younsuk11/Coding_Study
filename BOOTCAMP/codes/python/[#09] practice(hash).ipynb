{
 "cells": [
  {
   "cell_type": "markdown",
   "id": "30b4ee4d",
   "metadata": {
    "id": "30b4ee4d"
   },
   "source": [
    "# Q1. Majority Element"
   ]
  },
  {
   "cell_type": "markdown",
   "id": "7d527a27",
   "metadata": {
    "id": "7d527a27"
   },
   "source": [
    "### Create a function that takes a list nums and returns its majority element"
   ]
  },
  {
   "cell_type": "code",
   "execution_count": 10,
   "id": "24bdf330",
   "metadata": {},
   "outputs": [],
   "source": [
    "def majorityelement2(nums: list) -> int: #maximum count\n",
    "    hash = {}\n",
    "    # Write your code\n",
    "\n",
    "    max = 0\n",
    "    result = 0\n",
    "    lst = list(set(nums))\n",
    "    for num in lst:\n",
    "        count = nums.count(num)\n",
    "        hash[num] = count\n",
    "        if count > max:\n",
    "            max = count\n",
    "            result = num\n",
    "    \n",
    "    return result\n",
    "\n",
    "def majorityelement(nums: list) -> int:\n",
    "    hash = {}\n",
    "    # Write your code\n",
    "\n",
    "    for num in nums:\n",
    "        if num in hash:\n",
    "            hash[num] +=1\n",
    "\n",
    "            if hash[num] >= len(nums) //2: # majority\n",
    "                return num\n",
    "        else:\n",
    "            hash[num] = 1\n",
    "\n",
    "\n",
    "\n",
    "\n",
    "\n",
    "    \n"
   ]
  },
  {
   "cell_type": "code",
   "execution_count": 11,
   "id": "a7c3aa06",
   "metadata": {},
   "outputs": [
    {
     "data": {
      "text/plain": [
       "3"
      ]
     },
     "execution_count": 11,
     "metadata": {},
     "output_type": "execute_result"
    }
   ],
   "source": [
    "L = [3, 3, 3, 2, 1, 3, 2, 1]\n",
    "majorityelement(L)"
   ]
  },
  {
   "cell_type": "markdown",
   "id": "70163ceb",
   "metadata": {
    "id": "70163ceb"
   },
   "source": [
    "# Q2. Find Prefix Number"
   ]
  },
  {
   "cell_type": "markdown",
   "id": "da9c09ab",
   "metadata": {
    "id": "da9c09ab"
   },
   "source": [
    "### Create a function that returns whether a number’s element is a prefix of another element (Numbers can’t be more than 11 digits)"
   ]
  },
  {
   "cell_type": "code",
   "execution_count": 22,
   "id": "2b3e28f5",
   "metadata": {
    "id": "2b3e28f5",
    "outputId": "8e403c29-fb97-4868-a9bf-60fb2433c042"
   },
   "outputs": [],
   "source": [
    "def findprefix(number:list) -> bool:\n",
    "    hash = {}\n",
    "    # Write your code\n",
    "\n",
    "    for num in number:\n",
    "       hash[num] = 0\n",
    "\n",
    "    for num in number:\n",
    "        for h in hash.keys():\n",
    "\n",
    "            if h.find(num) == 0:\n",
    "                hash[num] += 1\n",
    "                \n",
    "                if hash[num] >= 2:\n",
    "                    return False\n",
    "    \n",
    "    return True\n",
    "\n",
    "\n",
    "def findprefix(number:list) -> bool:\n",
    "    hash = {}\n",
    "    # Write your code\n",
    "\n",
    "    for num in number:\n",
    "       hash[num] = 0\n",
    "\n",
    "    for num in number:\n",
    "        for h in hash.keys():\n",
    "\n",
    "            if h.find(num) == 0:\n",
    "                hash[num] += 1\n",
    "                \n",
    "                if hash[num] >= 2:\n",
    "                    return False\n",
    "    \n",
    "    return True"
   ]
  },
  {
   "cell_type": "code",
   "execution_count": 23,
   "id": "8678ffc3",
   "metadata": {},
   "outputs": [
    {
     "data": {
      "text/plain": [
       "True"
      ]
     },
     "execution_count": 23,
     "metadata": {},
     "output_type": "execute_result"
    }
   ],
   "source": [
    "number = [\"112\", \"119\", \"01012345678\"]\n",
    "findprefix(number)"
   ]
  },
  {
   "cell_type": "code",
   "execution_count": 24,
   "id": "e74507e5",
   "metadata": {},
   "outputs": [
    {
     "data": {
      "text/plain": [
       "False"
      ]
     },
     "execution_count": 24,
     "metadata": {},
     "output_type": "execute_result"
    }
   ],
   "source": [
    "number = [\"112\", \"010\", \"01012345678\"]\n",
    "findprefix(number)"
   ]
  }
 ],
 "metadata": {
  "colab": {
   "provenance": []
  },
  "kernelspec": {
   "display_name": "Python 3 (ipykernel)",
   "language": "python",
   "name": "python3"
  },
  "language_info": {
   "codemirror_mode": {
    "name": "ipython",
    "version": 3
   },
   "file_extension": ".py",
   "mimetype": "text/x-python",
   "name": "python",
   "nbconvert_exporter": "python",
   "pygments_lexer": "ipython3",
   "version": "3.9.6"
  }
 },
 "nbformat": 4,
 "nbformat_minor": 5
}
