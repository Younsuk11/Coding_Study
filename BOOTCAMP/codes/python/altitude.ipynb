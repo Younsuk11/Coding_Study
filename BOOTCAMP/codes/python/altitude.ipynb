{
 "cells": [
  {
   "cell_type": "markdown",
   "id": "1d3181a3-b4ac-4655-acf0-23cef3ea0acf",
   "metadata": {},
   "source": [
    "## Find the Highest Altitude\n",
    "\n",
    "##### There is a biker going on a road trip. \n",
    "##### The road trip consists of n + 1 points at different altitudes. \n",
    "##### The biker starts his trip on point 0 with altitude equal 0.\n",
    "\n",
    "##### You are given an integer array gain of length n where gain[i] is the net gain in altitude between points i​​​​​​ and i + 1 for all (0 <= i < n). Return the highest altitude of a point.\n",
    "\n",
    "\n",
    "##### Example 1:\n",
    "##### Input: gain = [-5,1,5,0,-7]\n",
    "##### Output: 1\n",
    "##### Explanation: The altitudes are [0,-5,-4,1,1,-6]. The highest is 1.\n",
    "\n",
    "\n",
    "##### Example 2:\n",
    "##### Input: gain = [-4,-3,-2,-1,4,3,2]\n",
    "##### Output: 0\n",
    "##### Explanation: The altitudes are [0,-4,-7,-9,-10,-6,-3,-1]. The highest is 0."
   ]
  },
  {
   "cell_type": "code",
   "execution_count": 1,
   "id": "b1f72c95-6c62-45b8-b129-65bb6dc705c7",
   "metadata": {},
   "outputs": [],
   "source": [
    "import re"
   ]
  },
  {
   "cell_type": "code",
   "execution_count": 7,
   "id": "62cf57fc-630a-4b6a-83a8-5deda432a9af",
   "metadata": {},
   "outputs": [],
   "source": [
    "class Solution(object):\n",
    "    def largestAltitude(self, gain) :\n",
    "        ###### write your code ######\n",
    "        altitude = []\n",
    "        current = 0\n",
    "        for i in range(len(gain)):\n",
    "            altitude.append(current)\n",
    "            current +=gain[i]\n",
    "        altitude.sort()\n",
    "        largest = altitude[-1]\n",
    "        ###### write your code ######\n",
    "        return largest"
   ]
  },
  {
   "cell_type": "code",
   "execution_count": 3,
   "id": "f41e9f0f-7884-42ba-8346-c63f77fc785c",
   "metadata": {},
   "outputs": [],
   "source": [
    "## Do not change below code ##        \n",
    "if __name__ == '__main__':\n",
    "    calc = Solution()"
   ]
  }
 ],
 "metadata": {
  "kernelspec": {
   "display_name": "Python 3 (ipykernel)",
   "language": "python",
   "name": "python3"
  },
  "language_info": {
   "codemirror_mode": {
    "name": "ipython",
    "version": 3
   },
   "file_extension": ".py",
   "mimetype": "text/x-python",
   "name": "python",
   "nbconvert_exporter": "python",
   "pygments_lexer": "ipython3",
   "version": "3.9.6"
  }
 },
 "nbformat": 4,
 "nbformat_minor": 5
}
