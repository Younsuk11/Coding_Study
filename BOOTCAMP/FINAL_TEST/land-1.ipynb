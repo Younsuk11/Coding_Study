{
 "cells": [
  {
   "cell_type": "code",
   "execution_count": 1,
   "id": "43bbe141-6d6b-4119-a74a-493677b50416",
   "metadata": {},
   "outputs": [],
   "source": [
    "import re"
   ]
  },
  {
   "cell_type": "code",
   "execution_count": 2,
   "id": "b0899894-9d19-4085-a436-c7c89441a9e0",
   "metadata": {},
   "outputs": [],
   "source": [
    "class Land(object) :\n",
    "    def __init__(self) :\n",
    "        self.white = 0\n",
    "        self.red = 0\n",
    "\n",
    "    def t_conquer(self,x,y,N,territory):\n",
    "        #####################################\n",
    "\n",
    "        # write your own code\n",
    "        # do not change written code\n",
    "        \n",
    "        #####################################\n",
    "        return [self.white, self.red]"
   ]
  },
  {
   "cell_type": "code",
   "execution_count": 3,
   "id": "c0635621-e850-4a82-b674-1dab381ee850",
   "metadata": {},
   "outputs": [],
   "source": [
    "## Do not change below code ##        \n",
    "if __name__ == '__main__':\n",
    "    calc = Land()"
   ]
  },
  {
   "cell_type": "markdown",
   "id": "f8968353-c2e0-42ea-b32a-f8717b6787ff",
   "metadata": {},
   "source": [
    "### Test Case 1"
   ]
  },
  {
   "cell_type": "code",
   "execution_count": 4,
   "id": "e77d2bb8-088e-468c-a9f0-8ffbf9feae80",
   "metadata": {},
   "outputs": [
    {
     "data": {
      "text/plain": [
       "[11, 11]"
      ]
     },
     "execution_count": 4,
     "metadata": {},
     "output_type": "execute_result"
    }
   ],
   "source": [
    "N = 8\n",
    "territory = [[1,0,1,1,1,1,0,0],\n",
    "             [1,0,1,1,1,1,0,0],\n",
    "             [0,0,1,1,0,0,1,1],\n",
    "             [0,0,1,1,0,0,1,0],\n",
    "             [1,1,0,0,0,0,0,0],\n",
    "             [1,1,0,0,0,0,0,0],\n",
    "             [0,0,1,0,0,0,0,0],\n",
    "             [0,0,0,1,0,0,0,0]]\n",
    "\n",
    "l = Land()\n",
    "color = l.t_conquer(0,0,N,territory)\n",
    "color"
   ]
  },
  {
   "cell_type": "markdown",
   "id": "7223f35f-a6ed-48e1-9a9f-c2a3ef8fd06b",
   "metadata": {},
   "source": [
    "### Test Case 2"
   ]
  },
  {
   "cell_type": "code",
   "execution_count": 5,
   "id": "9847a322-b846-4ac6-aaa7-b005626a7c0c",
   "metadata": {},
   "outputs": [
    {
     "data": {
      "text/plain": [
       "[7, 6]"
      ]
     },
     "execution_count": 5,
     "metadata": {},
     "output_type": "execute_result"
    }
   ],
   "source": [
    "N = 4\n",
    "territory = [[0,0,1,1],\n",
    "             [1,1,1,1],\n",
    "             [1,0,0,0],\n",
    "             [0,0,1,1]]\n",
    "\n",
    "l = Land()\n",
    "color = l.t_conquer(0,0,N,territory)\n",
    "color"
   ]
  },
  {
   "cell_type": "markdown",
   "id": "a2cc06ba-0115-4d38-a2e4-57b23ed58b0b",
   "metadata": {},
   "source": [
    "### Test Case 3"
   ]
  },
  {
   "cell_type": "code",
   "execution_count": 6,
   "id": "0f487f87-8ddc-4e51-a2c1-44c1e5a45d71",
   "metadata": {},
   "outputs": [
    {
     "data": {
      "text/plain": [
       "[20, 20]"
      ]
     },
     "execution_count": 6,
     "metadata": {},
     "output_type": "execute_result"
    }
   ],
   "source": [
    "N = 16\n",
    "territory = [[1,1,1,1,0,0,0,0,1,1,0,0,1,1,1,1],\n",
    "             [1,1,1,1,0,0,1,1,1,1,0,1,1,1,1,1],\n",
    "             [1,1,1,1,1,1,0,0,0,0,1,1,1,1,1,1],\n",
    "             [1,1,1,1,1,1,0,0,0,0,1,1,1,1,1,1],\n",
    "             [1,1,1,1,0,0,1,1,1,1,0,0,0,0,0,0],\n",
    "             [0,1,1,1,1,0,1,1,1,1,0,0,0,0,0,0],\n",
    "             [1,1,1,1,0,0,0,0,0,0,0,0,0,0,0,0],\n",
    "             [1,1,1,1,0,0,0,0,0,0,0,0,0,0,0,0],\n",
    "             [1,1,1,1,1,1,1,1,0,0,0,0,0,0,0,0],\n",
    "             [1,1,1,1,1,1,1,1,0,0,0,0,0,0,0,0],\n",
    "             [1,1,1,1,1,1,1,1,0,0,0,0,0,0,0,0],\n",
    "             [1,1,1,1,1,1,1,1,0,0,0,0,0,0,0,0],\n",
    "             [1,1,1,1,0,0,0,0,0,0,0,0,0,0,0,0],\n",
    "             [1,1,1,1,0,0,0,0,0,0,0,0,0,0,0,0],\n",
    "             [1,1,1,1,0,0,0,0,0,0,0,0,0,0,0,0],\n",
    "             [1,1,1,1,0,0,0,0,0,0,0,0,0,0,0,0]]\n",
    "\n",
    "l = Land()\n",
    "color = l.t_conquer(0,0,N,territory)\n",
    "color"
   ]
  }
 ],
 "metadata": {
  "kernelspec": {
   "display_name": "Python 3 (ipykernel)",
   "language": "python",
   "name": "python3"
  },
  "language_info": {
   "codemirror_mode": {
    "name": "ipython",
    "version": 3
   },
   "file_extension": ".py",
   "mimetype": "text/x-python",
   "name": "python",
   "nbconvert_exporter": "python",
   "pygments_lexer": "ipython3",
   "version": "3.9.6"
  }
 },
 "nbformat": 4,
 "nbformat_minor": 5
}
