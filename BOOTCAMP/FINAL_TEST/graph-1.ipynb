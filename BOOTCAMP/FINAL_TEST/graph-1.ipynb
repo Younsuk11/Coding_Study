{
 "cells": [
  {
   "cell_type": "code",
   "execution_count": 1,
   "id": "16453513-6d5b-4055-8c09-349392744788",
   "metadata": {},
   "outputs": [],
   "source": [
    "import re"
   ]
  },
  {
   "cell_type": "code",
   "execution_count": 2,
   "id": "eb93723f-0e39-4b33-a3be-0a6b60da4447",
   "metadata": {},
   "outputs": [],
   "source": [
    "from collections import deque"
   ]
  },
  {
   "cell_type": "code",
   "execution_count": 3,
   "id": "757390cd-1c68-4560-91fc-5efdbfdfe39c",
   "metadata": {},
   "outputs": [],
   "source": [
    "class Graph(object) :          \n",
    "    def getresult(self, n : int, E : list, source : int, destination : int) -> bool :\n",
    "        ### initial - Do not change below code ###\n",
    "        V = list(range(n))\n",
    "        neighbor = dict()\n",
    "        for v in V :\n",
    "            neighbor[v] = set()\n",
    "        for (v,w) in E :\n",
    "            neighbor[v].add(w)\n",
    "            neighbor[w].add(v)   \n",
    "        \n",
    "        ans = False\n",
    "        \n",
    "        ########################\n",
    "\n",
    "        # write your own code\n",
    "        # do not change written code\n",
    "\n",
    "        visited = set()\n",
    "        def dfs(node):\n",
    "            if node == destination:\n",
    "                return True\n",
    "            \n",
    "            visited.add(node)\n",
    "            \n",
    "            for neighbor_node in neighbor[node]:\n",
    "                if neighbor_node not in visited:\n",
    "                    if dfs(neighbor_node):\n",
    "                        return True\n",
    "            return False\n",
    "        \n",
    "        ans = dfs(source)\n",
    "        \n",
    "        #########################\n",
    "        return ans"
   ]
  },
  {
   "cell_type": "code",
   "execution_count": 4,
   "id": "3adc69a8-9f5a-47c5-adcd-d0030c1592ae",
   "metadata": {},
   "outputs": [],
   "source": [
    "## Do not change below code ##        \n",
    "if __name__ == '__main__':\n",
    "    calc = Graph()"
   ]
  },
  {
   "cell_type": "markdown",
   "id": "a22c6f67-8154-49cc-a8ae-4a14749a7072",
   "metadata": {},
   "source": [
    "### Test Case 1"
   ]
  },
  {
   "cell_type": "code",
   "execution_count": 5,
   "id": "7db63143-7dd9-4200-9600-235a479799b5",
   "metadata": {},
   "outputs": [
    {
     "data": {
      "text/plain": [
       "True"
      ]
     },
     "execution_count": 5,
     "metadata": {},
     "output_type": "execute_result"
    }
   ],
   "source": [
    "n = 4\n",
    "edges = [(0,1),(0,2),(1,3),(2,3)]\n",
    "source = 0\n",
    "destination = 3\n",
    "\n",
    "g = Graph()\n",
    "result = g.getresult(n, edges, source, destination)\n",
    "result"
   ]
  },
  {
   "cell_type": "markdown",
   "id": "44bee192-8a24-46e7-98fe-d6a980724e33",
   "metadata": {},
   "source": [
    "### Test Case 2"
   ]
  },
  {
   "cell_type": "code",
   "execution_count": 6,
   "id": "03103f89-c261-4699-807d-aa2a637fb857",
   "metadata": {},
   "outputs": [
    {
     "data": {
      "text/plain": [
       "False"
      ]
     },
     "execution_count": 6,
     "metadata": {},
     "output_type": "execute_result"
    }
   ],
   "source": [
    "n = 6\n",
    "edges = [(0,1),(1,2),(3,4),(4,5)]\n",
    "source = 0\n",
    "destination = 4\n",
    "\n",
    "g = Graph()\n",
    "result = g.getresult(n, edges, source, destination)\n",
    "result"
   ]
  }
 ],
 "metadata": {
  "kernelspec": {
   "display_name": "Python 3 (ipykernel)",
   "language": "python",
   "name": "python3"
  },
  "language_info": {
   "codemirror_mode": {
    "name": "ipython",
    "version": 3
   },
   "file_extension": ".py",
   "mimetype": "text/x-python",
   "name": "python",
   "nbconvert_exporter": "python",
   "pygments_lexer": "ipython3",
   "version": "3.9.6"
  }
 },
 "nbformat": 4,
 "nbformat_minor": 5
}
